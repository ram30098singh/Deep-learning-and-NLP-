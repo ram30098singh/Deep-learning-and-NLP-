{
  "nbformat": 4,
  "nbformat_minor": 0,
  "metadata": {
    "colab": {
      "provenance": [],
      "include_colab_link": true
    },
    "kernelspec": {
      "name": "python3",
      "display_name": "Python 3"
    },
    "language_info": {
      "name": "python"
    }
  },
  "cells": [
    {
      "cell_type": "markdown",
      "metadata": {
        "id": "view-in-github",
        "colab_type": "text"
      },
      "source": [
        "<a href=\"https://colab.research.google.com/github/ram30098singh/Deep-learning-and-NLP-/blob/main/Neural_network_to_predict_mobile_weight.ipynb\" target=\"_parent\"><img src=\"https://colab.research.google.com/assets/colab-badge.svg\" alt=\"Open In Colab\"/></a>"
      ]
    },
    {
      "cell_type": "markdown",
      "source": [
        " Neural network to predict mobile weight"
      ],
      "metadata": {
        "id": "a_dyuUg06k5v"
      }
    },
    {
      "cell_type": "code",
      "execution_count": 28,
      "metadata": {
        "id": "egD0Pwrp7KlC"
      },
      "outputs": [],
      "source": [
        "# 1.0 Call libraries\n",
        "import pandas as pd\n",
        "import numpy as np\n",
        "from  pathlib import Path\n",
        "\n",
        "# 1.0.1\n",
        "import tensorflow as tf\n",
        "from tensorflow import keras\n",
        "from tensorflow.keras import layers"
      ]
    },
    {
      "cell_type": "code",
      "source": [
        "# 1.1 Display multiple commands output from a cell\n",
        "from IPython.core.interactiveshell import InteractiveShell\n",
        "InteractiveShell.ast_node_interactivity = \"all\""
      ],
      "metadata": {
        "id": "L7ho_mDmbgnA"
      },
      "execution_count": 29,
      "outputs": []
    },
    {
      "cell_type": "code",
      "source": [
        "# 2.0\n",
        "from google.colab import drive\n",
        "drive.mount('/gdrive')"
      ],
      "metadata": {
        "colab": {
          "base_uri": "https://localhost:8080/"
        },
        "id": "lY1pILSSIi27",
        "outputId": "892e8136-9899-4d11-ad46-054b3bb403a8"
      },
      "execution_count": 30,
      "outputs": [
        {
          "output_type": "stream",
          "name": "stdout",
          "text": [
            "Drive already mounted at /gdrive; to attempt to forcibly remount, call drive.mount(\"/gdrive\", force_remount=True).\n"
          ]
        }
      ]
    },
    {
      "cell_type": "code",
      "source": [
        "# 2.1 Where is our data file:\n",
        "pathToFolder = \"/gdrive/My Drive/deeplearning\""
      ],
      "metadata": {
        "id": "05WsWkOGJAUm"
      },
      "execution_count": 31,
      "outputs": []
    },
    {
      "cell_type": "code",
      "source": [
        "# 2.2 Full file path:\n",
        "path = Path(pathToFolder) / \"mobile_price.csv\""
      ],
      "metadata": {
        "id": "rjbcpsYaJLLz"
      },
      "execution_count": 32,
      "outputs": []
    },
    {
      "cell_type": "code",
      "source": [
        "# 3.0 Read data\n",
        "mobile_price = pd.read_csv(path)\n",
        "mobile_price.head()"
      ],
      "metadata": {
        "colab": {
          "base_uri": "https://localhost:8080/",
          "height": 299
        },
        "id": "IDybeYGSJSOO",
        "outputId": "8194b177-7429-4eab-d844-b9a0065cd445"
      },
      "execution_count": 33,
      "outputs": [
        {
          "output_type": "execute_result",
          "data": {
            "text/plain": [
              "   battery_power  blue  clock_speed  dual_sim  fc  four_g  int_memory  m_dep  \\\n",
              "0            842     0          2.2         0   1       0           7    0.6   \n",
              "1           1021     1          0.5         1   0       1          53    0.7   \n",
              "2            563     1          0.5         1   2       1          41    0.9   \n",
              "3            615     1          2.5         0   0       0          10    0.8   \n",
              "4           1821     1          1.2         0  13       1          44    0.6   \n",
              "\n",
              "   mobile_wt  n_cores  ...  px_height  px_width   ram  sc_h  sc_w  talk_time  \\\n",
              "0        188        2  ...         20       756  2549     9     7         19   \n",
              "1        136        3  ...        905      1988  2631    17     3          7   \n",
              "2        145        5  ...       1263      1716  2603    11     2          9   \n",
              "3        131        6  ...       1216      1786  2769    16     8         11   \n",
              "4        141        2  ...       1208      1212  1411     8     2         15   \n",
              "\n",
              "   three_g  touch_screen  wifi  price_range  \n",
              "0        0             0     1            1  \n",
              "1        1             1     0            2  \n",
              "2        1             1     0            2  \n",
              "3        1             0     0            2  \n",
              "4        1             1     0            1  \n",
              "\n",
              "[5 rows x 21 columns]"
            ],
            "text/html": [
              "\n",
              "\n",
              "  <div id=\"df-a376c862-9f12-407f-8dbf-b5d025ad1a1e\">\n",
              "    <div class=\"colab-df-container\">\n",
              "      <div>\n",
              "<style scoped>\n",
              "    .dataframe tbody tr th:only-of-type {\n",
              "        vertical-align: middle;\n",
              "    }\n",
              "\n",
              "    .dataframe tbody tr th {\n",
              "        vertical-align: top;\n",
              "    }\n",
              "\n",
              "    .dataframe thead th {\n",
              "        text-align: right;\n",
              "    }\n",
              "</style>\n",
              "<table border=\"1\" class=\"dataframe\">\n",
              "  <thead>\n",
              "    <tr style=\"text-align: right;\">\n",
              "      <th></th>\n",
              "      <th>battery_power</th>\n",
              "      <th>blue</th>\n",
              "      <th>clock_speed</th>\n",
              "      <th>dual_sim</th>\n",
              "      <th>fc</th>\n",
              "      <th>four_g</th>\n",
              "      <th>int_memory</th>\n",
              "      <th>m_dep</th>\n",
              "      <th>mobile_wt</th>\n",
              "      <th>n_cores</th>\n",
              "      <th>...</th>\n",
              "      <th>px_height</th>\n",
              "      <th>px_width</th>\n",
              "      <th>ram</th>\n",
              "      <th>sc_h</th>\n",
              "      <th>sc_w</th>\n",
              "      <th>talk_time</th>\n",
              "      <th>three_g</th>\n",
              "      <th>touch_screen</th>\n",
              "      <th>wifi</th>\n",
              "      <th>price_range</th>\n",
              "    </tr>\n",
              "  </thead>\n",
              "  <tbody>\n",
              "    <tr>\n",
              "      <th>0</th>\n",
              "      <td>842</td>\n",
              "      <td>0</td>\n",
              "      <td>2.2</td>\n",
              "      <td>0</td>\n",
              "      <td>1</td>\n",
              "      <td>0</td>\n",
              "      <td>7</td>\n",
              "      <td>0.6</td>\n",
              "      <td>188</td>\n",
              "      <td>2</td>\n",
              "      <td>...</td>\n",
              "      <td>20</td>\n",
              "      <td>756</td>\n",
              "      <td>2549</td>\n",
              "      <td>9</td>\n",
              "      <td>7</td>\n",
              "      <td>19</td>\n",
              "      <td>0</td>\n",
              "      <td>0</td>\n",
              "      <td>1</td>\n",
              "      <td>1</td>\n",
              "    </tr>\n",
              "    <tr>\n",
              "      <th>1</th>\n",
              "      <td>1021</td>\n",
              "      <td>1</td>\n",
              "      <td>0.5</td>\n",
              "      <td>1</td>\n",
              "      <td>0</td>\n",
              "      <td>1</td>\n",
              "      <td>53</td>\n",
              "      <td>0.7</td>\n",
              "      <td>136</td>\n",
              "      <td>3</td>\n",
              "      <td>...</td>\n",
              "      <td>905</td>\n",
              "      <td>1988</td>\n",
              "      <td>2631</td>\n",
              "      <td>17</td>\n",
              "      <td>3</td>\n",
              "      <td>7</td>\n",
              "      <td>1</td>\n",
              "      <td>1</td>\n",
              "      <td>0</td>\n",
              "      <td>2</td>\n",
              "    </tr>\n",
              "    <tr>\n",
              "      <th>2</th>\n",
              "      <td>563</td>\n",
              "      <td>1</td>\n",
              "      <td>0.5</td>\n",
              "      <td>1</td>\n",
              "      <td>2</td>\n",
              "      <td>1</td>\n",
              "      <td>41</td>\n",
              "      <td>0.9</td>\n",
              "      <td>145</td>\n",
              "      <td>5</td>\n",
              "      <td>...</td>\n",
              "      <td>1263</td>\n",
              "      <td>1716</td>\n",
              "      <td>2603</td>\n",
              "      <td>11</td>\n",
              "      <td>2</td>\n",
              "      <td>9</td>\n",
              "      <td>1</td>\n",
              "      <td>1</td>\n",
              "      <td>0</td>\n",
              "      <td>2</td>\n",
              "    </tr>\n",
              "    <tr>\n",
              "      <th>3</th>\n",
              "      <td>615</td>\n",
              "      <td>1</td>\n",
              "      <td>2.5</td>\n",
              "      <td>0</td>\n",
              "      <td>0</td>\n",
              "      <td>0</td>\n",
              "      <td>10</td>\n",
              "      <td>0.8</td>\n",
              "      <td>131</td>\n",
              "      <td>6</td>\n",
              "      <td>...</td>\n",
              "      <td>1216</td>\n",
              "      <td>1786</td>\n",
              "      <td>2769</td>\n",
              "      <td>16</td>\n",
              "      <td>8</td>\n",
              "      <td>11</td>\n",
              "      <td>1</td>\n",
              "      <td>0</td>\n",
              "      <td>0</td>\n",
              "      <td>2</td>\n",
              "    </tr>\n",
              "    <tr>\n",
              "      <th>4</th>\n",
              "      <td>1821</td>\n",
              "      <td>1</td>\n",
              "      <td>1.2</td>\n",
              "      <td>0</td>\n",
              "      <td>13</td>\n",
              "      <td>1</td>\n",
              "      <td>44</td>\n",
              "      <td>0.6</td>\n",
              "      <td>141</td>\n",
              "      <td>2</td>\n",
              "      <td>...</td>\n",
              "      <td>1208</td>\n",
              "      <td>1212</td>\n",
              "      <td>1411</td>\n",
              "      <td>8</td>\n",
              "      <td>2</td>\n",
              "      <td>15</td>\n",
              "      <td>1</td>\n",
              "      <td>1</td>\n",
              "      <td>0</td>\n",
              "      <td>1</td>\n",
              "    </tr>\n",
              "  </tbody>\n",
              "</table>\n",
              "<p>5 rows × 21 columns</p>\n",
              "</div>\n",
              "      <button class=\"colab-df-convert\" onclick=\"convertToInteractive('df-a376c862-9f12-407f-8dbf-b5d025ad1a1e')\"\n",
              "              title=\"Convert this dataframe to an interactive table.\"\n",
              "              style=\"display:none;\">\n",
              "\n",
              "  <svg xmlns=\"http://www.w3.org/2000/svg\" height=\"24px\"viewBox=\"0 0 24 24\"\n",
              "       width=\"24px\">\n",
              "    <path d=\"M0 0h24v24H0V0z\" fill=\"none\"/>\n",
              "    <path d=\"M18.56 5.44l.94 2.06.94-2.06 2.06-.94-2.06-.94-.94-2.06-.94 2.06-2.06.94zm-11 1L8.5 8.5l.94-2.06 2.06-.94-2.06-.94L8.5 2.5l-.94 2.06-2.06.94zm10 10l.94 2.06.94-2.06 2.06-.94-2.06-.94-.94-2.06-.94 2.06-2.06.94z\"/><path d=\"M17.41 7.96l-1.37-1.37c-.4-.4-.92-.59-1.43-.59-.52 0-1.04.2-1.43.59L10.3 9.45l-7.72 7.72c-.78.78-.78 2.05 0 2.83L4 21.41c.39.39.9.59 1.41.59.51 0 1.02-.2 1.41-.59l7.78-7.78 2.81-2.81c.8-.78.8-2.07 0-2.86zM5.41 20L4 18.59l7.72-7.72 1.47 1.35L5.41 20z\"/>\n",
              "  </svg>\n",
              "      </button>\n",
              "\n",
              "\n",
              "\n",
              "    <div id=\"df-feecf1ba-63a1-4181-87fe-cebf79c7a7d8\">\n",
              "      <button class=\"colab-df-quickchart\" onclick=\"quickchart('df-feecf1ba-63a1-4181-87fe-cebf79c7a7d8')\"\n",
              "              title=\"Suggest charts.\"\n",
              "              style=\"display:none;\">\n",
              "\n",
              "<svg xmlns=\"http://www.w3.org/2000/svg\" height=\"24px\"viewBox=\"0 0 24 24\"\n",
              "     width=\"24px\">\n",
              "    <g>\n",
              "        <path d=\"M19 3H5c-1.1 0-2 .9-2 2v14c0 1.1.9 2 2 2h14c1.1 0 2-.9 2-2V5c0-1.1-.9-2-2-2zM9 17H7v-7h2v7zm4 0h-2V7h2v10zm4 0h-2v-4h2v4z\"/>\n",
              "    </g>\n",
              "</svg>\n",
              "      </button>\n",
              "    </div>\n",
              "\n",
              "<style>\n",
              "  .colab-df-quickchart {\n",
              "    background-color: #E8F0FE;\n",
              "    border: none;\n",
              "    border-radius: 50%;\n",
              "    cursor: pointer;\n",
              "    display: none;\n",
              "    fill: #1967D2;\n",
              "    height: 32px;\n",
              "    padding: 0 0 0 0;\n",
              "    width: 32px;\n",
              "  }\n",
              "\n",
              "  .colab-df-quickchart:hover {\n",
              "    background-color: #E2EBFA;\n",
              "    box-shadow: 0px 1px 2px rgba(60, 64, 67, 0.3), 0px 1px 3px 1px rgba(60, 64, 67, 0.15);\n",
              "    fill: #174EA6;\n",
              "  }\n",
              "\n",
              "  [theme=dark] .colab-df-quickchart {\n",
              "    background-color: #3B4455;\n",
              "    fill: #D2E3FC;\n",
              "  }\n",
              "\n",
              "  [theme=dark] .colab-df-quickchart:hover {\n",
              "    background-color: #434B5C;\n",
              "    box-shadow: 0px 1px 3px 1px rgba(0, 0, 0, 0.15);\n",
              "    filter: drop-shadow(0px 1px 2px rgba(0, 0, 0, 0.3));\n",
              "    fill: #FFFFFF;\n",
              "  }\n",
              "</style>\n",
              "\n",
              "    <script>\n",
              "      async function quickchart(key) {\n",
              "        const containerElement = document.querySelector('#' + key);\n",
              "        const charts = await google.colab.kernel.invokeFunction(\n",
              "            'suggestCharts', [key], {});\n",
              "      }\n",
              "    </script>\n",
              "\n",
              "      <script>\n",
              "\n",
              "function displayQuickchartButton(domScope) {\n",
              "  let quickchartButtonEl =\n",
              "    domScope.querySelector('#df-feecf1ba-63a1-4181-87fe-cebf79c7a7d8 button.colab-df-quickchart');\n",
              "  quickchartButtonEl.style.display =\n",
              "    google.colab.kernel.accessAllowed ? 'block' : 'none';\n",
              "}\n",
              "\n",
              "        displayQuickchartButton(document);\n",
              "      </script>\n",
              "      <style>\n",
              "    .colab-df-container {\n",
              "      display:flex;\n",
              "      flex-wrap:wrap;\n",
              "      gap: 12px;\n",
              "    }\n",
              "\n",
              "    .colab-df-convert {\n",
              "      background-color: #E8F0FE;\n",
              "      border: none;\n",
              "      border-radius: 50%;\n",
              "      cursor: pointer;\n",
              "      display: none;\n",
              "      fill: #1967D2;\n",
              "      height: 32px;\n",
              "      padding: 0 0 0 0;\n",
              "      width: 32px;\n",
              "    }\n",
              "\n",
              "    .colab-df-convert:hover {\n",
              "      background-color: #E2EBFA;\n",
              "      box-shadow: 0px 1px 2px rgba(60, 64, 67, 0.3), 0px 1px 3px 1px rgba(60, 64, 67, 0.15);\n",
              "      fill: #174EA6;\n",
              "    }\n",
              "\n",
              "    [theme=dark] .colab-df-convert {\n",
              "      background-color: #3B4455;\n",
              "      fill: #D2E3FC;\n",
              "    }\n",
              "\n",
              "    [theme=dark] .colab-df-convert:hover {\n",
              "      background-color: #434B5C;\n",
              "      box-shadow: 0px 1px 3px 1px rgba(0, 0, 0, 0.15);\n",
              "      filter: drop-shadow(0px 1px 2px rgba(0, 0, 0, 0.3));\n",
              "      fill: #FFFFFF;\n",
              "    }\n",
              "  </style>\n",
              "\n",
              "      <script>\n",
              "        const buttonEl =\n",
              "          document.querySelector('#df-a376c862-9f12-407f-8dbf-b5d025ad1a1e button.colab-df-convert');\n",
              "        buttonEl.style.display =\n",
              "          google.colab.kernel.accessAllowed ? 'block' : 'none';\n",
              "\n",
              "        async function convertToInteractive(key) {\n",
              "          const element = document.querySelector('#df-a376c862-9f12-407f-8dbf-b5d025ad1a1e');\n",
              "          const dataTable =\n",
              "            await google.colab.kernel.invokeFunction('convertToInteractive',\n",
              "                                                     [key], {});\n",
              "          if (!dataTable) return;\n",
              "\n",
              "          const docLinkHtml = 'Like what you see? Visit the ' +\n",
              "            '<a target=\"_blank\" href=https://colab.research.google.com/notebooks/data_table.ipynb>data table notebook</a>'\n",
              "            + ' to learn more about interactive tables.';\n",
              "          element.innerHTML = '';\n",
              "          dataTable['output_type'] = 'display_data';\n",
              "          await google.colab.output.renderOutput(dataTable, element);\n",
              "          const docLink = document.createElement('div');\n",
              "          docLink.innerHTML = docLinkHtml;\n",
              "          element.appendChild(docLink);\n",
              "        }\n",
              "      </script>\n",
              "    </div>\n",
              "  </div>\n"
            ]
          },
          "metadata": {},
          "execution_count": 33
        }
      ]
    },
    {
      "cell_type": "code",
      "source": [
        "# 3.1\n",
        "mobile_price.shape\n",
        "mobile_price.dtypes"
      ],
      "metadata": {
        "colab": {
          "base_uri": "https://localhost:8080/"
        },
        "id": "bb9z8Q_8JZRl",
        "outputId": "757af5dd-bd7e-4c7f-981f-fa26de8fcf60"
      },
      "execution_count": 34,
      "outputs": [
        {
          "output_type": "execute_result",
          "data": {
            "text/plain": [
              "(2000, 21)"
            ]
          },
          "metadata": {},
          "execution_count": 34
        },
        {
          "output_type": "execute_result",
          "data": {
            "text/plain": [
              "battery_power      int64\n",
              "blue               int64\n",
              "clock_speed      float64\n",
              "dual_sim           int64\n",
              "fc                 int64\n",
              "four_g             int64\n",
              "int_memory         int64\n",
              "m_dep            float64\n",
              "mobile_wt          int64\n",
              "n_cores            int64\n",
              "pc                 int64\n",
              "px_height          int64\n",
              "px_width           int64\n",
              "ram                int64\n",
              "sc_h               int64\n",
              "sc_w               int64\n",
              "talk_time          int64\n",
              "three_g            int64\n",
              "touch_screen       int64\n",
              "wifi               int64\n",
              "price_range        int64\n",
              "dtype: object"
            ]
          },
          "metadata": {},
          "execution_count": 34
        }
      ]
    },
    {
      "cell_type": "code",
      "source": [
        "# 3.2 Get target and predictors:\n",
        "y = mobile_price.pop(\"mobile_wt\")\n",
        "X = mobile_price"
      ],
      "metadata": {
        "id": "dbBF3xBGSdUe"
      },
      "execution_count": 35,
      "outputs": []
    },
    {
      "cell_type": "code",
      "source": [
        "from sklearn.model_selection import train_test_split"
      ],
      "metadata": {
        "id": "wnh4chMbdEBz"
      },
      "execution_count": 36,
      "outputs": []
    },
    {
      "cell_type": "code",
      "source": [
        "# 4.0 Split the data into training and testing sets\n",
        "X_train, X_test, y_train, y_test = train_test_split(X, y, test_size=0.2, random_state=42)"
      ],
      "metadata": {
        "id": "e-cp3bsocqAX"
      },
      "execution_count": 37,
      "outputs": []
    },
    {
      "cell_type": "code",
      "source": [
        "from sklearn.preprocessing import MinMaxScaler"
      ],
      "metadata": {
        "id": "FOat5NiMdfOM"
      },
      "execution_count": 38,
      "outputs": []
    },
    {
      "cell_type": "code",
      "source": [
        "# 4.1 Scale the features using MinMaxScaler\n",
        "scaler = MinMaxScaler()\n",
        "X_train = scaler.fit_transform(X_train)\n",
        "X_test = scaler.transform(X_test)"
      ],
      "metadata": {
        "id": "ml0Abyw6cqG4"
      },
      "execution_count": 39,
      "outputs": []
    },
    {
      "cell_type": "code",
      "source": [
        "from tensorflow.keras.models import Sequential\n",
        "from tensorflow.keras.layers import Dense"
      ],
      "metadata": {
        "id": "nNZj7iDTdzPB"
      },
      "execution_count": 40,
      "outputs": []
    },
    {
      "cell_type": "code",
      "source": [
        "# 4.2 Build the neural network model\n",
        "model = Sequential()\n",
        "model.add(Dense(64, activation='relu', input_shape=(20,)))\n",
        "model.add(Dense(64, activation='relu'))\n",
        "model.add(Dense(1))  # Output layer with 1 neuron"
      ],
      "metadata": {
        "id": "7FrJ99a7cqJs"
      },
      "execution_count": 41,
      "outputs": []
    },
    {
      "cell_type": "code",
      "source": [
        "# 4.3 Compile the model\n",
        "model.compile(optimizer='adam', loss='mean_squared_error')\n"
      ],
      "metadata": {
        "id": "BggsA4cecqMJ"
      },
      "execution_count": 42,
      "outputs": []
    },
    {
      "cell_type": "code",
      "source": [
        "# 4.4 Train the model\n",
        "model.fit(X_train, y_train, epochs=100, batch_size=32, verbose=1)\n"
      ],
      "metadata": {
        "colab": {
          "base_uri": "https://localhost:8080/"
        },
        "id": "R21FJdIwcqOG",
        "outputId": "5cdb3abc-2e6d-4ebd-a5a1-ebe4bc943584"
      },
      "execution_count": 43,
      "outputs": [
        {
          "output_type": "stream",
          "name": "stdout",
          "text": [
            "Epoch 1/100\n",
            "50/50 [==============================] - 1s 2ms/step - loss: 20020.9785\n",
            "Epoch 2/100\n",
            "50/50 [==============================] - 0s 2ms/step - loss: 12292.1602\n",
            "Epoch 3/100\n",
            "50/50 [==============================] - 0s 2ms/step - loss: 2330.7859\n",
            "Epoch 4/100\n",
            "50/50 [==============================] - 0s 2ms/step - loss: 1826.0454\n",
            "Epoch 5/100\n",
            "50/50 [==============================] - 0s 2ms/step - loss: 1797.1212\n",
            "Epoch 6/100\n",
            "50/50 [==============================] - 0s 2ms/step - loss: 1773.7701\n",
            "Epoch 7/100\n",
            "50/50 [==============================] - 0s 2ms/step - loss: 1744.7749\n",
            "Epoch 8/100\n",
            "50/50 [==============================] - 0s 2ms/step - loss: 1719.4176\n",
            "Epoch 9/100\n",
            "50/50 [==============================] - 0s 2ms/step - loss: 1698.9794\n",
            "Epoch 10/100\n",
            "50/50 [==============================] - 0s 2ms/step - loss: 1683.0636\n",
            "Epoch 11/100\n",
            "50/50 [==============================] - 0s 2ms/step - loss: 1657.7983\n",
            "Epoch 12/100\n",
            "50/50 [==============================] - 0s 2ms/step - loss: 1637.7828\n",
            "Epoch 13/100\n",
            "50/50 [==============================] - 0s 2ms/step - loss: 1618.1312\n",
            "Epoch 14/100\n",
            "50/50 [==============================] - 0s 2ms/step - loss: 1597.7891\n",
            "Epoch 15/100\n",
            "50/50 [==============================] - 0s 2ms/step - loss: 1579.8444\n",
            "Epoch 16/100\n",
            "50/50 [==============================] - 0s 2ms/step - loss: 1561.0660\n",
            "Epoch 17/100\n",
            "50/50 [==============================] - 0s 2ms/step - loss: 1545.2089\n",
            "Epoch 18/100\n",
            "50/50 [==============================] - 0s 2ms/step - loss: 1525.5178\n",
            "Epoch 19/100\n",
            "50/50 [==============================] - 0s 2ms/step - loss: 1506.7944\n",
            "Epoch 20/100\n",
            "50/50 [==============================] - 0s 2ms/step - loss: 1491.8364\n",
            "Epoch 21/100\n",
            "50/50 [==============================] - 0s 2ms/step - loss: 1472.3705\n",
            "Epoch 22/100\n",
            "50/50 [==============================] - 0s 2ms/step - loss: 1457.0804\n",
            "Epoch 23/100\n",
            "50/50 [==============================] - 0s 2ms/step - loss: 1442.6447\n",
            "Epoch 24/100\n",
            "50/50 [==============================] - 0s 2ms/step - loss: 1421.3962\n",
            "Epoch 25/100\n",
            "50/50 [==============================] - 0s 2ms/step - loss: 1405.2628\n",
            "Epoch 26/100\n",
            "50/50 [==============================] - 0s 2ms/step - loss: 1384.6670\n",
            "Epoch 27/100\n",
            "50/50 [==============================] - 0s 2ms/step - loss: 1375.8888\n",
            "Epoch 28/100\n",
            "50/50 [==============================] - 0s 2ms/step - loss: 1356.4302\n",
            "Epoch 29/100\n",
            "50/50 [==============================] - 0s 2ms/step - loss: 1343.0223\n",
            "Epoch 30/100\n",
            "50/50 [==============================] - 0s 2ms/step - loss: 1328.1724\n",
            "Epoch 31/100\n",
            "50/50 [==============================] - 0s 2ms/step - loss: 1322.5905\n",
            "Epoch 32/100\n",
            "50/50 [==============================] - 0s 2ms/step - loss: 1304.2037\n",
            "Epoch 33/100\n",
            "50/50 [==============================] - 0s 2ms/step - loss: 1296.4215\n",
            "Epoch 34/100\n",
            "50/50 [==============================] - 0s 2ms/step - loss: 1284.5730\n",
            "Epoch 35/100\n",
            "50/50 [==============================] - 0s 3ms/step - loss: 1279.4725\n",
            "Epoch 36/100\n",
            "50/50 [==============================] - 0s 6ms/step - loss: 1264.6886\n",
            "Epoch 37/100\n",
            "50/50 [==============================] - 0s 5ms/step - loss: 1263.0308\n",
            "Epoch 38/100\n",
            "50/50 [==============================] - 0s 3ms/step - loss: 1252.8562\n",
            "Epoch 39/100\n",
            "50/50 [==============================] - 0s 2ms/step - loss: 1251.7642\n",
            "Epoch 40/100\n",
            "50/50 [==============================] - 0s 2ms/step - loss: 1235.4540\n",
            "Epoch 41/100\n",
            "50/50 [==============================] - 0s 2ms/step - loss: 1243.9202\n",
            "Epoch 42/100\n",
            "50/50 [==============================] - 0s 2ms/step - loss: 1239.0388\n",
            "Epoch 43/100\n",
            "50/50 [==============================] - 0s 2ms/step - loss: 1226.9454\n",
            "Epoch 44/100\n",
            "50/50 [==============================] - 0s 2ms/step - loss: 1222.3868\n",
            "Epoch 45/100\n",
            "50/50 [==============================] - 0s 2ms/step - loss: 1226.7284\n",
            "Epoch 46/100\n",
            "50/50 [==============================] - 0s 2ms/step - loss: 1224.4801\n",
            "Epoch 47/100\n",
            "50/50 [==============================] - 0s 2ms/step - loss: 1218.2379\n",
            "Epoch 48/100\n",
            "50/50 [==============================] - 0s 2ms/step - loss: 1227.8604\n",
            "Epoch 49/100\n",
            "50/50 [==============================] - 0s 2ms/step - loss: 1212.0127\n",
            "Epoch 50/100\n",
            "50/50 [==============================] - 0s 2ms/step - loss: 1211.6056\n",
            "Epoch 51/100\n",
            "50/50 [==============================] - 0s 2ms/step - loss: 1210.6857\n",
            "Epoch 52/100\n",
            "50/50 [==============================] - 0s 2ms/step - loss: 1211.0474\n",
            "Epoch 53/100\n",
            "50/50 [==============================] - 0s 2ms/step - loss: 1214.1859\n",
            "Epoch 54/100\n",
            "50/50 [==============================] - 0s 2ms/step - loss: 1209.9661\n",
            "Epoch 55/100\n",
            "50/50 [==============================] - 0s 2ms/step - loss: 1213.4133\n",
            "Epoch 56/100\n",
            "50/50 [==============================] - 0s 2ms/step - loss: 1202.8074\n",
            "Epoch 57/100\n",
            "50/50 [==============================] - 0s 2ms/step - loss: 1205.2238\n",
            "Epoch 58/100\n",
            "50/50 [==============================] - 0s 2ms/step - loss: 1202.8280\n",
            "Epoch 59/100\n",
            "50/50 [==============================] - 0s 2ms/step - loss: 1201.0630\n",
            "Epoch 60/100\n",
            "50/50 [==============================] - 0s 2ms/step - loss: 1198.9432\n",
            "Epoch 61/100\n",
            "50/50 [==============================] - 0s 2ms/step - loss: 1199.4926\n",
            "Epoch 62/100\n",
            "50/50 [==============================] - 0s 2ms/step - loss: 1207.1393\n",
            "Epoch 63/100\n",
            "50/50 [==============================] - 0s 2ms/step - loss: 1192.5862\n",
            "Epoch 64/100\n",
            "50/50 [==============================] - 0s 2ms/step - loss: 1193.3546\n",
            "Epoch 65/100\n",
            "50/50 [==============================] - 0s 2ms/step - loss: 1194.8896\n",
            "Epoch 66/100\n",
            "50/50 [==============================] - 0s 3ms/step - loss: 1197.9124\n",
            "Epoch 67/100\n",
            "50/50 [==============================] - 1s 11ms/step - loss: 1193.6085\n",
            "Epoch 68/100\n",
            "50/50 [==============================] - 0s 8ms/step - loss: 1199.5254\n",
            "Epoch 69/100\n",
            "50/50 [==============================] - 0s 3ms/step - loss: 1191.2142\n",
            "Epoch 70/100\n",
            "50/50 [==============================] - 0s 2ms/step - loss: 1192.2004\n",
            "Epoch 71/100\n",
            "50/50 [==============================] - 0s 7ms/step - loss: 1195.6997\n",
            "Epoch 72/100\n",
            "50/50 [==============================] - 1s 11ms/step - loss: 1193.0922\n",
            "Epoch 73/100\n",
            "50/50 [==============================] - 0s 5ms/step - loss: 1189.9048\n",
            "Epoch 74/100\n",
            "50/50 [==============================] - 0s 2ms/step - loss: 1191.1238\n",
            "Epoch 75/100\n",
            "50/50 [==============================] - 0s 2ms/step - loss: 1192.7393\n",
            "Epoch 76/100\n",
            "50/50 [==============================] - 0s 9ms/step - loss: 1186.5129\n",
            "Epoch 77/100\n",
            "50/50 [==============================] - 0s 10ms/step - loss: 1188.2811\n",
            "Epoch 78/100\n",
            "50/50 [==============================] - 0s 4ms/step - loss: 1188.1029\n",
            "Epoch 79/100\n",
            "50/50 [==============================] - 0s 3ms/step - loss: 1184.5337\n",
            "Epoch 80/100\n",
            "50/50 [==============================] - 0s 3ms/step - loss: 1182.6698\n",
            "Epoch 81/100\n",
            "50/50 [==============================] - 0s 3ms/step - loss: 1181.0178\n",
            "Epoch 82/100\n",
            "50/50 [==============================] - 0s 2ms/step - loss: 1188.4222\n",
            "Epoch 83/100\n",
            "50/50 [==============================] - 0s 3ms/step - loss: 1181.3018\n",
            "Epoch 84/100\n",
            "50/50 [==============================] - 0s 2ms/step - loss: 1186.3523\n",
            "Epoch 85/100\n",
            "50/50 [==============================] - 0s 3ms/step - loss: 1181.2866\n",
            "Epoch 86/100\n",
            "50/50 [==============================] - 0s 2ms/step - loss: 1183.2712\n",
            "Epoch 87/100\n",
            "50/50 [==============================] - 0s 2ms/step - loss: 1182.9574\n",
            "Epoch 88/100\n",
            "50/50 [==============================] - 0s 2ms/step - loss: 1179.5941\n",
            "Epoch 89/100\n",
            "50/50 [==============================] - 0s 2ms/step - loss: 1182.5491\n",
            "Epoch 90/100\n",
            "50/50 [==============================] - 0s 2ms/step - loss: 1181.1714\n",
            "Epoch 91/100\n",
            "50/50 [==============================] - 0s 2ms/step - loss: 1189.7214\n",
            "Epoch 92/100\n",
            "50/50 [==============================] - 0s 2ms/step - loss: 1180.4185\n",
            "Epoch 93/100\n",
            "50/50 [==============================] - 0s 2ms/step - loss: 1179.6829\n",
            "Epoch 94/100\n",
            "50/50 [==============================] - 0s 2ms/step - loss: 1176.0078\n",
            "Epoch 95/100\n",
            "50/50 [==============================] - 0s 2ms/step - loss: 1177.7284\n",
            "Epoch 96/100\n",
            "50/50 [==============================] - 0s 2ms/step - loss: 1180.6433\n",
            "Epoch 97/100\n",
            "50/50 [==============================] - 0s 2ms/step - loss: 1178.3029\n",
            "Epoch 98/100\n",
            "50/50 [==============================] - 0s 2ms/step - loss: 1170.7468\n",
            "Epoch 99/100\n",
            "50/50 [==============================] - 0s 2ms/step - loss: 1174.5255\n",
            "Epoch 100/100\n",
            "50/50 [==============================] - 0s 2ms/step - loss: 1174.5591\n"
          ]
        },
        {
          "output_type": "execute_result",
          "data": {
            "text/plain": [
              "<keras.callbacks.History at 0x7dba9e44ea10>"
            ]
          },
          "metadata": {},
          "execution_count": 43
        }
      ]
    },
    {
      "cell_type": "code",
      "source": [
        "# 5.0 Evaluate the model\n",
        "loss = model.evaluate(X_test, y_test)\n",
        "print('Mean Squared Error:', loss)"
      ],
      "metadata": {
        "colab": {
          "base_uri": "https://localhost:8080/"
        },
        "id": "da3aMmXqcqQ_",
        "outputId": "4d86a97c-8f77-4b7e-fda3-180570be4e0b"
      },
      "execution_count": 44,
      "outputs": [
        {
          "output_type": "stream",
          "name": "stdout",
          "text": [
            "13/13 [==============================] - 0s 2ms/step - loss: 1376.7819\n",
            "Mean Squared Error: 1376.7818603515625\n"
          ]
        }
      ]
    },
    {
      "cell_type": "code",
      "source": [
        "# 5.1 Make predictions\n",
        "predictions = model.predict(X_test)"
      ],
      "metadata": {
        "colab": {
          "base_uri": "https://localhost:8080/"
        },
        "id": "Cg57xHORcqTY",
        "outputId": "42da9680-79ea-45f0-b766-5201cb09ab2a"
      },
      "execution_count": 45,
      "outputs": [
        {
          "output_type": "stream",
          "name": "stdout",
          "text": [
            "13/13 [==============================] - 0s 2ms/step\n"
          ]
        }
      ]
    },
    {
      "cell_type": "code",
      "source": [
        "# 5.2 Print sample predictions\n",
        "for i in range(5):\n",
        "    print('Actual:', y_test.values[i], 'Predicted:', predictions[i][0])"
      ],
      "metadata": {
        "colab": {
          "base_uri": "https://localhost:8080/"
        },
        "id": "Q7S5vTPRcqVx",
        "outputId": "984420ea-c838-4b81-b9bc-4eb4ede678b1"
      },
      "execution_count": 46,
      "outputs": [
        {
          "output_type": "stream",
          "name": "stdout",
          "text": [
            "Actual: 200 Predicted: 150.5639\n",
            "Actual: 138 Predicted: 145.33627\n",
            "Actual: 196 Predicted: 134.86763\n",
            "Actual: 166 Predicted: 157.6903\n",
            "Actual: 130 Predicted: 149.26302\n"
          ]
        }
      ]
    },
    {
      "cell_type": "code",
      "source": [
        "# 5.3\n",
        "import matplotlib.pyplot as plt\n",
        "\n",
        "# Plot the actual and predicted values\n",
        "plt.scatter(range(len(y_test)), y_test, color='blue', label='Actual')\n",
        "plt.scatter(range(len(predictions)), predictions, color='red', label='Predicted')\n",
        "plt.xlabel('Sample')\n",
        "plt.ylabel('mobile_wt')\n",
        "plt.title('Actual vs. Predicted mobile_wt')\n",
        "plt.legend()\n",
        "plt.show()\n"
      ],
      "metadata": {
        "colab": {
          "base_uri": "https://localhost:8080/",
          "height": 507
        },
        "id": "qEmBDnkccqYP",
        "outputId": "c8296d68-6e74-4dc3-8251-b7d453de446e"
      },
      "execution_count": 47,
      "outputs": [
        {
          "output_type": "execute_result",
          "data": {
            "text/plain": [
              "<matplotlib.collections.PathCollection at 0x7dba9e3840a0>"
            ]
          },
          "metadata": {},
          "execution_count": 47
        },
        {
          "output_type": "execute_result",
          "data": {
            "text/plain": [
              "<matplotlib.collections.PathCollection at 0x7dba9e385270>"
            ]
          },
          "metadata": {},
          "execution_count": 47
        },
        {
          "output_type": "execute_result",
          "data": {
            "text/plain": [
              "Text(0.5, 0, 'Sample')"
            ]
          },
          "metadata": {},
          "execution_count": 47
        },
        {
          "output_type": "execute_result",
          "data": {
            "text/plain": [
              "Text(0, 0.5, 'mobile_wt')"
            ]
          },
          "metadata": {},
          "execution_count": 47
        },
        {
          "output_type": "execute_result",
          "data": {
            "text/plain": [
              "Text(0.5, 1.0, 'Actual vs. Predicted mobile_wt')"
            ]
          },
          "metadata": {},
          "execution_count": 47
        },
        {
          "output_type": "execute_result",
          "data": {
            "text/plain": [
              "<matplotlib.legend.Legend at 0x7dba9e3b6380>"
            ]
          },
          "metadata": {},
          "execution_count": 47
        },
        {
          "output_type": "display_data",
          "data": {
            "text/plain": [
              "<Figure size 640x480 with 1 Axes>"
            ],
            "image/png": "[encoded data removed]"
          },
          "metadata": {}
        }
      ]
    },
    {
      "cell_type": "code",
      "source": [
        "from tensorflow.keras.utils import plot_model"
      ],
      "metadata": {
        "id": "WQtCU7i9cqcl"
      },
      "execution_count": 48,
      "outputs": []
    },
    {
      "cell_type": "code",
      "source": [
        "plot_model(model, show_shapes=True)"
      ],
      "metadata": {
        "colab": {
          "base_uri": "https://localhost:8080/",
          "height": 422
        },
        "id": "3DNJy3A1cqee",
        "outputId": "c023f3c1-e23f-4f49-f025-d15ff46f9a0f"
      },
      "execution_count": 49,
      "outputs": [
        {
          "output_type": "execute_result",
          "data": {
            "image/png": "[encoded data removed]",
            "text/plain": [
              "<IPython.core.display.Image object>"
            ]
          },
          "metadata": {},
          "execution_count": 49
        }
      ]
    },
    {
      "cell_type": "code",
      "source": [
        "######### --------Done ---------------"
      ],
      "metadata": {
        "id": "K8RtiMS3Xt2n"
      },
      "execution_count": 54,
      "outputs": []
    }
  ]
}