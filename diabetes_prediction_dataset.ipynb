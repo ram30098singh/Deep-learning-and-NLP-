{
  "nbformat": 4,
  "nbformat_minor": 0,
  "metadata": {
    "colab": {
      "provenance": [],
      "authorship_tag": "ABX9TyOUnVH/nFYrEyhxHDYdZGHJ",
      "include_colab_link": true
    },
    "kernelspec": {
      "name": "python3",
      "display_name": "Python 3"
    },
    "language_info": {
      "name": "python"
    }
  },
  "cells": [
    {
      "cell_type": "markdown",
      "metadata": {
        "id": "view-in-github",
        "colab_type": "text"
      },
      "source": [
        "<a href=\"https://colab.research.google.com/github/ram30098singh/Deep-learning-and-NLP-/blob/main/diabetes_prediction_dataset.ipynb\" target=\"_parent\"><img src=\"https://colab.research.google.com/assets/colab-badge.svg\" alt=\"Open In Colab\"/></a>"
      ]
    },
    {
      "cell_type": "markdown",
      "source": [
        "# Diabetes prediction dataset"
      ],
      "metadata": {
        "id": "PSZvdeXRxNQa"
      }
    },
    {
      "cell_type": "markdown",
      "source": [
        "## About Dataset\n",
        "The Diabetes prediction dataset is a collection of medical and demographic data from patients, along with their diabetes status (positive or negative). The data includes features such as age, gender, body mass index (BMI), hypertension, heart disease, smoking history, HbA1c level, and blood glucose level."
      ],
      "metadata": {
        "id": "8TiAqjAmxSUz"
      }
    },
    {
      "cell_type": "markdown",
      "source": [
        "# Table of Contents\n",
        "\n",
        "1. Objective\n",
        "\n",
        "2. Import the libraries\n",
        "\n",
        "3. Dataset Description\n",
        "\n",
        "4. Exploratory data analysis(EDA)\n",
        "\n",
        "5. Data preprocessing\n",
        "\n",
        "6. Building the Neural Network Model\n",
        "\n",
        "7. Making Predictions\n",
        "\n",
        "8. Calculating Accuracy\n",
        "\n",
        "9. visualization with the help of different graph\n",
        "\n",
        "   a.) Loss and Accuracy Curves\n",
        "\n",
        "   b.) Receiver Operating Characteristic (ROC) Curve\n",
        "\n",
        "   c.) Confusion Matrix\n",
        "\n",
        "10. Feature importance"
      ],
      "metadata": {
        "id": "dfRIG0x4xbs_"
      }
    },
    {
      "cell_type": "markdown",
      "source": [
        "# Objective\n",
        "This dataset will be used to build  models to predict diabetes in patients based on their medical history and demographic information.\n",
        "\n",
        "1. This can be useful for healthcare professionals in identifying patients who may be at risk of developing diabetes and in developing personalized treatment plans.\n",
        "\n",
        "2. The dataset can be used by researchers to explore the relationships between various medical and demographic factors and the likelihood of developing diabetes."
      ],
      "metadata": {
        "id": "J3cOh1-Sxw8o"
      }
    },
    {
      "cell_type": "markdown",
      "source": [
        "Import the libraries\n",
        "\n"
      ],
      "metadata": {
        "id": "qFwLEEejxxB2"
      }
    },
    {
      "cell_type": "code",
      "execution_count": 69,
      "metadata": {
        "id": "9Q8vOKQNt-ZC"
      },
      "outputs": [],
      "source": [
        "import pandas as pd\n",
        "from sklearn.preprocessing import StandardScaler, MinMaxScaler\n",
        "from sklearn.preprocessing import LabelEncoder, OneHotEncoder\n",
        "from sklearn.model_selection import train_test_split\n",
        "from  pathlib import Path\n",
        "\n",
        "import tensorflow as tf\n",
        "from tensorflow import keras\n",
        "from tensorflow.keras import layers\n",
        "\n",
        "import numpy as np\n",
        "import matplotlib.pyplot as plt"
      ]
    },
    {
      "cell_type": "code",
      "source": [
        "from IPython.core.interactiveshell import InteractiveShell\n",
        "InteractiveShell.ast_node_interactivity = \"all\""
      ],
      "metadata": {
        "id": "zz4pIhClvlhg"
      },
      "execution_count": 70,
      "outputs": []
    },
    {
      "cell_type": "code",
      "source": [
        "# diabetes_prediction_dataset\n",
        "data = pd.read_csv(\"https://raw.githubusercontent.com/ram30098singh/Deep-learning-and-NLP-/main/diabetes_prediction_dataset.csv\")"
      ],
      "metadata": {
        "id": "tg956yrsvo2B"
      },
      "execution_count": 71,
      "outputs": []
    },
    {
      "cell_type": "markdown",
      "source": [
        "## Loading and Explore the dataset"
      ],
      "metadata": {
        "id": "YQBXrZAlwQld"
      }
    },
    {
      "cell_type": "code",
      "source": [
        "data.shape\n",
        "data.head()"
      ],
      "metadata": {
        "colab": {
          "base_uri": "https://localhost:8080/",
          "height": 223
        },
        "id": "Wx5qLs7Vv9P-",
        "outputId": "ec8e150f-1d95-4874-f417-53fe5b9b3d18"
      },
      "execution_count": 72,
      "outputs": [
        {
          "output_type": "execute_result",
          "data": {
            "text/plain": [
              "(100000, 9)"
            ]
          },
          "metadata": {},
          "execution_count": 72
        },
        {
          "output_type": "execute_result",
          "data": {
            "text/plain": [
              "   gender   age  hypertension  heart_disease smoking_history    bmi  \\\n",
              "0  Female  80.0             0              1           never  25.19   \n",
              "1  Female  54.0             0              0         No Info  27.32   \n",
              "2    Male  28.0             0              0           never  27.32   \n",
              "3  Female  36.0             0              0         current  23.45   \n",
              "4    Male  76.0             1              1         current  20.14   \n",
              "\n",
              "   HbA1c_level  blood_glucose_level  diabetes  \n",
              "0          6.6                  140         0  \n",
              "1          6.6                   80         0  \n",
              "2          5.7                  158         0  \n",
              "3          5.0                  155         0  \n",
              "4          4.8                  155         0  "
            ],
            "text/html": [
              "\n",
              "  <div id=\"df-64343297-99b9-4eb0-aebb-7dd53cfda6a6\" class=\"colab-df-container\">\n",
              "    <div>\n",
              "<style scoped>\n",
              "    .dataframe tbody tr th:only-of-type {\n",
              "        vertical-align: middle;\n",
              "    }\n",
              "\n",
              "    .dataframe tbody tr th {\n",
              "        vertical-align: top;\n",
              "    }\n",
              "\n",
              "    .dataframe thead th {\n",
              "        text-align: right;\n",
              "    }\n",
              "</style>\n",
              "<table border=\"1\" class=\"dataframe\">\n",
              "  <thead>\n",
              "    <tr style=\"text-align: right;\">\n",
              "      <th></th>\n",
              "      <th>gender</th>\n",
              "      <th>age</th>\n",
              "      <th>hypertension</th>\n",
              "      <th>heart_disease</th>\n",
              "      <th>smoking_history</th>\n",
              "      <th>bmi</th>\n",
              "      <th>HbA1c_level</th>\n",
              "      <th>blood_glucose_level</th>\n",
              "      <th>diabetes</th>\n",
              "    </tr>\n",
              "  </thead>\n",
              "  <tbody>\n",
              "    <tr>\n",
              "      <th>0</th>\n",
              "      <td>Female</td>\n",
              "      <td>80.0</td>\n",
              "      <td>0</td>\n",
              "      <td>1</td>\n",
              "      <td>never</td>\n",
              "      <td>25.19</td>\n",
              "      <td>6.6</td>\n",
              "      <td>140</td>\n",
              "      <td>0</td>\n",
              "    </tr>\n",
              "    <tr>\n",
              "      <th>1</th>\n",
              "      <td>Female</td>\n",
              "      <td>54.0</td>\n",
              "      <td>0</td>\n",
              "      <td>0</td>\n",
              "      <td>No Info</td>\n",
              "      <td>27.32</td>\n",
              "      <td>6.6</td>\n",
              "      <td>80</td>\n",
              "      <td>0</td>\n",
              "    </tr>\n",
              "    <tr>\n",
              "      <th>2</th>\n",
              "      <td>Male</td>\n",
              "      <td>28.0</td>\n",
              "      <td>0</td>\n",
              "      <td>0</td>\n",
              "      <td>never</td>\n",
              "      <td>27.32</td>\n",
              "      <td>5.7</td>\n",
              "      <td>158</td>\n",
              "      <td>0</td>\n",
              "    </tr>\n",
              "    <tr>\n",
              "      <th>3</th>\n",
              "      <td>Female</td>\n",
              "      <td>36.0</td>\n",
              "      <td>0</td>\n",
              "      <td>0</td>\n",
              "      <td>current</td>\n",
              "      <td>23.45</td>\n",
              "      <td>5.0</td>\n",
              "      <td>155</td>\n",
              "      <td>0</td>\n",
              "    </tr>\n",
              "    <tr>\n",
              "      <th>4</th>\n",
              "      <td>Male</td>\n",
              "      <td>76.0</td>\n",
              "      <td>1</td>\n",
              "      <td>1</td>\n",
              "      <td>current</td>\n",
              "      <td>20.14</td>\n",
              "      <td>4.8</td>\n",
              "      <td>155</td>\n",
              "      <td>0</td>\n",
              "    </tr>\n",
              "  </tbody>\n",
              "</table>\n",
              "</div>\n",
              "    <div class=\"colab-df-buttons\">\n",
              "\n",
              "  <div class=\"colab-df-container\">\n",
              "    <button class=\"colab-df-convert\" onclick=\"convertToInteractive('df-64343297-99b9-4eb0-aebb-7dd53cfda6a6')\"\n",
              "            title=\"Convert this dataframe to an interactive table.\"\n",
              "            style=\"display:none;\">\n",
              "\n",
              "  <svg xmlns=\"http://www.w3.org/2000/svg\" height=\"24px\" viewBox=\"0 -960 960 960\">\n",
              "    <path d=\"M120-120v-720h720v720H120Zm60-500h600v-160H180v160Zm220 220h160v-160H400v160Zm0 220h160v-160H400v160ZM180-400h160v-160H180v160Zm440 0h160v-160H620v160ZM180-180h160v-160H180v160Zm440 0h160v-160H620v160Z\"/>\n",
              "  </svg>\n",
              "    </button>\n",
              "\n",
              "  <style>\n",
              "    .colab-df-container {\n",
              "      display:flex;\n",
              "      gap: 12px;\n",
              "    }\n",
              "\n",
              "    .colab-df-convert {\n",
              "      background-color: #E8F0FE;\n",
              "      border: none;\n",
              "      border-radius: 50%;\n",
              "      cursor: pointer;\n",
              "      display: none;\n",
              "      fill: #1967D2;\n",
              "      height: 32px;\n",
              "      padding: 0 0 0 0;\n",
              "      width: 32px;\n",
              "    }\n",
              "\n",
              "    .colab-df-convert:hover {\n",
              "      background-color: #E2EBFA;\n",
              "      box-shadow: 0px 1px 2px rgba(60, 64, 67, 0.3), 0px 1px 3px 1px rgba(60, 64, 67, 0.15);\n",
              "      fill: #174EA6;\n",
              "    }\n",
              "\n",
              "    .colab-df-buttons div {\n",
              "      margin-bottom: 4px;\n",
              "    }\n",
              "\n",
              "    [theme=dark] .colab-df-convert {\n",
              "      background-color: #3B4455;\n",
              "      fill: #D2E3FC;\n",
              "    }\n",
              "\n",
              "    [theme=dark] .colab-df-convert:hover {\n",
              "      background-color: #434B5C;\n",
              "      box-shadow: 0px 1px 3px 1px rgba(0, 0, 0, 0.15);\n",
              "      filter: drop-shadow(0px 1px 2px rgba(0, 0, 0, 0.3));\n",
              "      fill: #FFFFFF;\n",
              "    }\n",
              "  </style>\n",
              "\n",
              "    <script>\n",
              "      const buttonEl =\n",
              "        document.querySelector('#df-64343297-99b9-4eb0-aebb-7dd53cfda6a6 button.colab-df-convert');\n",
              "      buttonEl.style.display =\n",
              "        google.colab.kernel.accessAllowed ? 'block' : 'none';\n",
              "\n",
              "      async function convertToInteractive(key) {\n",
              "        const element = document.querySelector('#df-64343297-99b9-4eb0-aebb-7dd53cfda6a6');\n",
              "        const dataTable =\n",
              "          await google.colab.kernel.invokeFunction('convertToInteractive',\n",
              "                                                    [key], {});\n",
              "        if (!dataTable) return;\n",
              "\n",
              "        const docLinkHtml = 'Like what you see? Visit the ' +\n",
              "          '<a target=\"_blank\" href=https://colab.research.google.com/notebooks/data_table.ipynb>data table notebook</a>'\n",
              "          + ' to learn more about interactive tables.';\n",
              "        element.innerHTML = '';\n",
              "        dataTable['output_type'] = 'display_data';\n",
              "        await google.colab.output.renderOutput(dataTable, element);\n",
              "        const docLink = document.createElement('div');\n",
              "        docLink.innerHTML = docLinkHtml;\n",
              "        element.appendChild(docLink);\n",
              "      }\n",
              "    </script>\n",
              "  </div>\n",
              "\n",
              "\n",
              "<div id=\"df-311ae3a8-e579-4dfb-a3fb-82f138dfd910\">\n",
              "  <button class=\"colab-df-quickchart\" onclick=\"quickchart('df-311ae3a8-e579-4dfb-a3fb-82f138dfd910')\"\n",
              "            title=\"Suggest charts.\"\n",
              "            style=\"display:none;\">\n",
              "\n",
              "<svg xmlns=\"http://www.w3.org/2000/svg\" height=\"24px\"viewBox=\"0 0 24 24\"\n",
              "     width=\"24px\">\n",
              "    <g>\n",
              "        <path d=\"M19 3H5c-1.1 0-2 .9-2 2v14c0 1.1.9 2 2 2h14c1.1 0 2-.9 2-2V5c0-1.1-.9-2-2-2zM9 17H7v-7h2v7zm4 0h-2V7h2v10zm4 0h-2v-4h2v4z\"/>\n",
              "    </g>\n",
              "</svg>\n",
              "  </button>\n",
              "\n",
              "<style>\n",
              "  .colab-df-quickchart {\n",
              "    background-color: #E8F0FE;\n",
              "    border: none;\n",
              "    border-radius: 50%;\n",
              "    cursor: pointer;\n",
              "    display: none;\n",
              "    fill: #1967D2;\n",
              "    height: 32px;\n",
              "    padding: 0 0 0 0;\n",
              "    width: 32px;\n",
              "  }\n",
              "\n",
              "  .colab-df-quickchart:hover {\n",
              "    background-color: #E2EBFA;\n",
              "    box-shadow: 0px 1px 2px rgba(60, 64, 67, 0.3), 0px 1px 3px 1px rgba(60, 64, 67, 0.15);\n",
              "    fill: #174EA6;\n",
              "  }\n",
              "\n",
              "  [theme=dark] .colab-df-quickchart {\n",
              "    background-color: #3B4455;\n",
              "    fill: #D2E3FC;\n",
              "  }\n",
              "\n",
              "  [theme=dark] .colab-df-quickchart:hover {\n",
              "    background-color: #434B5C;\n",
              "    box-shadow: 0px 1px 3px 1px rgba(0, 0, 0, 0.15);\n",
              "    filter: drop-shadow(0px 1px 2px rgba(0, 0, 0, 0.3));\n",
              "    fill: #FFFFFF;\n",
              "  }\n",
              "</style>\n",
              "\n",
              "  <script>\n",
              "    async function quickchart(key) {\n",
              "      const charts = await google.colab.kernel.invokeFunction(\n",
              "          'suggestCharts', [key], {});\n",
              "    }\n",
              "    (() => {\n",
              "      let quickchartButtonEl =\n",
              "        document.querySelector('#df-311ae3a8-e579-4dfb-a3fb-82f138dfd910 button');\n",
              "      quickchartButtonEl.style.display =\n",
              "        google.colab.kernel.accessAllowed ? 'block' : 'none';\n",
              "    })();\n",
              "  </script>\n",
              "</div>\n",
              "    </div>\n",
              "  </div>\n"
            ]
          },
          "metadata": {},
          "execution_count": 72
        }
      ]
    },
    {
      "cell_type": "code",
      "source": [
        "data.info()"
      ],
      "metadata": {
        "colab": {
          "base_uri": "https://localhost:8080/"
        },
        "id": "m078c8wxwX6Y",
        "outputId": "6867e1d7-ab4c-4c23-cfd2-65b5d351bb60"
      },
      "execution_count": 73,
      "outputs": [
        {
          "output_type": "stream",
          "name": "stdout",
          "text": [
            "<class 'pandas.core.frame.DataFrame'>\n",
            "RangeIndex: 100000 entries, 0 to 99999\n",
            "Data columns (total 9 columns):\n",
            " #   Column               Non-Null Count   Dtype  \n",
            "---  ------               --------------   -----  \n",
            " 0   gender               100000 non-null  object \n",
            " 1   age                  100000 non-null  float64\n",
            " 2   hypertension         100000 non-null  int64  \n",
            " 3   heart_disease        100000 non-null  int64  \n",
            " 4   smoking_history      100000 non-null  object \n",
            " 5   bmi                  100000 non-null  float64\n",
            " 6   HbA1c_level          100000 non-null  float64\n",
            " 7   blood_glucose_level  100000 non-null  int64  \n",
            " 8   diabetes             100000 non-null  int64  \n",
            "dtypes: float64(3), int64(4), object(2)\n",
            "memory usage: 6.9+ MB\n"
          ]
        }
      ]
    },
    {
      "cell_type": "code",
      "source": [
        "data.isnull().sum()"
      ],
      "metadata": {
        "colab": {
          "base_uri": "https://localhost:8080/"
        },
        "id": "672XY_CkziSf",
        "outputId": "4b3e20ae-3e26-4236-debc-7d540132a57a"
      },
      "execution_count": 74,
      "outputs": [
        {
          "output_type": "execute_result",
          "data": {
            "text/plain": [
              "gender                 0\n",
              "age                    0\n",
              "hypertension           0\n",
              "heart_disease          0\n",
              "smoking_history        0\n",
              "bmi                    0\n",
              "HbA1c_level            0\n",
              "blood_glucose_level    0\n",
              "diabetes               0\n",
              "dtype: int64"
            ]
          },
          "metadata": {},
          "execution_count": 74
        }
      ]
    },
    {
      "cell_type": "markdown",
      "source": [
        "## Exploratory data analysis(EDA)"
      ],
      "metadata": {
        "id": "SrwZp7nMzzAQ"
      }
    },
    {
      "cell_type": "code",
      "source": [
        "data.smoking_history.value_counts().plot(kind='bar')\n",
        "plt.show()"
      ],
      "metadata": {
        "colab": {
          "base_uri": "https://localhost:8080/",
          "height": 510
        },
        "id": "Ee_zGua3zno8",
        "outputId": "dc4b04d0-494c-443e-80fe-cbcd0e6059ac"
      },
      "execution_count": 75,
      "outputs": [
        {
          "output_type": "execute_result",
          "data": {
            "text/plain": [
              "<Axes: >"
            ]
          },
          "metadata": {},
          "execution_count": 75
        },
        {
          "output_type": "display_data",
          "data": {
            "text/plain": [
              "<Figure size 640x480 with 1 Axes>"
            ],
            "image/png": "[encoded data removed]"
          },
          "metadata": {}
        }
      ]
    },
    {
      "cell_type": "code",
      "source": [
        "data.gender.value_counts().plot(kind='bar')\n",
        "plt.show()"
      ],
      "metadata": {
        "colab": {
          "base_uri": "https://localhost:8080/",
          "height": 483
        },
        "id": "dTY2Eqc3z6Lp",
        "outputId": "6c77cedd-330c-453d-99a2-7415c4586ddb"
      },
      "execution_count": 76,
      "outputs": [
        {
          "output_type": "execute_result",
          "data": {
            "text/plain": [
              "<Axes: >"
            ]
          },
          "metadata": {},
          "execution_count": 76
        },
        {
          "output_type": "display_data",
          "data": {
            "text/plain": [
              "<Figure size 640x480 with 1 Axes>"
            ],
            "image/png": "[encoded data removed]"
          },
          "metadata": {}
        }
      ]
    },
    {
      "cell_type": "markdown",
      "source": [
        "## Data preprocessing"
      ],
      "metadata": {
        "id": "HAcymD_f3wa-"
      }
    },
    {
      "cell_type": "code",
      "source": [
        "#  Pop out target\n",
        "y = data.pop('diabetes')\n",
        "y.shape"
      ],
      "metadata": {
        "colab": {
          "base_uri": "https://localhost:8080/"
        },
        "id": "TQWlsvhr0AhA",
        "outputId": "ad1bfc70-61eb-4852-ce52-b7db7a089cb4"
      },
      "execution_count": 77,
      "outputs": [
        {
          "output_type": "execute_result",
          "data": {
            "text/plain": [
              "(100000,)"
            ]
          },
          "metadata": {},
          "execution_count": 77
        }
      ]
    },
    {
      "cell_type": "code",
      "source": [
        "data['gender'].unique()"
      ],
      "metadata": {
        "colab": {
          "base_uri": "https://localhost:8080/"
        },
        "id": "NtINsnYy12un",
        "outputId": "7bda8179-aa80-4dd4-fa12-a13e56f3f8dd"
      },
      "execution_count": 78,
      "outputs": [
        {
          "output_type": "execute_result",
          "data": {
            "text/plain": [
              "array(['Female', 'Male', 'Other'], dtype=object)"
            ]
          },
          "metadata": {},
          "execution_count": 78
        }
      ]
    },
    {
      "cell_type": "code",
      "source": [
        "data['gender'] = data['gender'].map({'Female' : 0, 'Male' : 1, 'Other' : 2})"
      ],
      "metadata": {
        "id": "5rdMnrJw2DXR"
      },
      "execution_count": 79,
      "outputs": []
    },
    {
      "cell_type": "code",
      "source": [
        "data['smoking_history'].unique()"
      ],
      "metadata": {
        "colab": {
          "base_uri": "https://localhost:8080/"
        },
        "id": "BQMh047v2MaC",
        "outputId": "4cb56621-5582-4e7b-8dcd-2abbee1bc24c"
      },
      "execution_count": 80,
      "outputs": [
        {
          "output_type": "execute_result",
          "data": {
            "text/plain": [
              "array(['never', 'No Info', 'current', 'former', 'ever', 'not current'],\n",
              "      dtype=object)"
            ]
          },
          "metadata": {},
          "execution_count": 80
        }
      ]
    },
    {
      "cell_type": "code",
      "source": [
        "data['smoking_history'] = data['smoking_history'].map({'never' : 0, 'No Info' : 1, 'current' : 2, 'former' : 3, 'ever' : 4, 'not current' : 5})"
      ],
      "metadata": {
        "id": "muRQvN-e2Thf"
      },
      "execution_count": 81,
      "outputs": []
    },
    {
      "cell_type": "code",
      "source": [
        "X_train,X_test, y_train,y_test = train_test_split(data, y, test_size = 0.25)"
      ],
      "metadata": {
        "id": "ZB_d_xXJ3LMG"
      },
      "execution_count": 82,
      "outputs": []
    },
    {
      "cell_type": "code",
      "source": [
        "X_train.shape\n",
        "X_test.shape\n",
        "y_train.shape\n",
        "y_test.shape"
      ],
      "metadata": {
        "colab": {
          "base_uri": "https://localhost:8080/"
        },
        "id": "RPzkocfM3LNu",
        "outputId": "ddd41e9f-3d35-45bc-9df2-a668a9b2318c"
      },
      "execution_count": 83,
      "outputs": [
        {
          "output_type": "execute_result",
          "data": {
            "text/plain": [
              "(75000, 8)"
            ]
          },
          "metadata": {},
          "execution_count": 83
        },
        {
          "output_type": "execute_result",
          "data": {
            "text/plain": [
              "(25000, 8)"
            ]
          },
          "metadata": {},
          "execution_count": 83
        },
        {
          "output_type": "execute_result",
          "data": {
            "text/plain": [
              "(75000,)"
            ]
          },
          "metadata": {},
          "execution_count": 83
        },
        {
          "output_type": "execute_result",
          "data": {
            "text/plain": [
              "(25000,)"
            ]
          },
          "metadata": {},
          "execution_count": 83
        }
      ]
    },
    {
      "cell_type": "markdown",
      "source": [
        "Feature Scaling"
      ],
      "metadata": {
        "id": "cSfRBvw9MNPF"
      }
    },
    {
      "cell_type": "code",
      "source": [
        "mm = MinMaxScaler()\n",
        "mm.fit(X_train)"
      ],
      "metadata": {
        "colab": {
          "base_uri": "https://localhost:8080/",
          "height": 74
        },
        "id": "SWtVGyCn3LPT",
        "outputId": "d3076a56-516e-456c-8839-ca4dcd63aed5"
      },
      "execution_count": 84,
      "outputs": [
        {
          "output_type": "execute_result",
          "data": {
            "text/plain": [
              "MinMaxScaler()"
            ],
            "text/html": [
              "<style>#sk-container-id-2 {color: black;background-color: white;}#sk-container-id-2 pre{padding: 0;}#sk-container-id-2 div.sk-toggleable {background-color: white;}#sk-container-id-2 label.sk-toggleable__label {cursor: pointer;display: block;width: 100%;margin-bottom: 0;padding: 0.3em;box-sizing: border-box;text-align: center;}#sk-container-id-2 label.sk-toggleable__label-arrow:before {content: \"▸\";float: left;margin-right: 0.25em;color: #696969;}#sk-container-id-2 label.sk-toggleable__label-arrow:hover:before {color: black;}#sk-container-id-2 div.sk-estimator:hover label.sk-toggleable__label-arrow:before {color: black;}#sk-container-id-2 div.sk-toggleable__content {max-height: 0;max-width: 0;overflow: hidden;text-align: left;background-color: #f0f8ff;}#sk-container-id-2 div.sk-toggleable__content pre {margin: 0.2em;color: black;border-radius: 0.25em;background-color: #f0f8ff;}#sk-container-id-2 input.sk-toggleable__control:checked~div.sk-toggleable__content {max-height: 200px;max-width: 100%;overflow: auto;}#sk-container-id-2 input.sk-toggleable__control:checked~label.sk-toggleable__label-arrow:before {content: \"▾\";}#sk-container-id-2 div.sk-estimator input.sk-toggleable__control:checked~label.sk-toggleable__label {background-color: #d4ebff;}#sk-container-id-2 div.sk-label input.sk-toggleable__control:checked~label.sk-toggleable__label {background-color: #d4ebff;}#sk-container-id-2 input.sk-hidden--visually {border: 0;clip: rect(1px 1px 1px 1px);clip: rect(1px, 1px, 1px, 1px);height: 1px;margin: -1px;overflow: hidden;padding: 0;position: absolute;width: 1px;}#sk-container-id-2 div.sk-estimator {font-family: monospace;background-color: #f0f8ff;border: 1px dotted black;border-radius: 0.25em;box-sizing: border-box;margin-bottom: 0.5em;}#sk-container-id-2 div.sk-estimator:hover {background-color: #d4ebff;}#sk-container-id-2 div.sk-parallel-item::after {content: \"\";width: 100%;border-bottom: 1px solid gray;flex-grow: 1;}#sk-container-id-2 div.sk-label:hover label.sk-toggleable__label {background-color: #d4ebff;}#sk-container-id-2 div.sk-serial::before {content: \"\";position: absolute;border-left: 1px solid gray;box-sizing: border-box;top: 0;bottom: 0;left: 50%;z-index: 0;}#sk-container-id-2 div.sk-serial {display: flex;flex-direction: column;align-items: center;background-color: white;padding-right: 0.2em;padding-left: 0.2em;position: relative;}#sk-container-id-2 div.sk-item {position: relative;z-index: 1;}#sk-container-id-2 div.sk-parallel {display: flex;align-items: stretch;justify-content: center;background-color: white;position: relative;}#sk-container-id-2 div.sk-item::before, #sk-container-id-2 div.sk-parallel-item::before {content: \"\";position: absolute;border-left: 1px solid gray;box-sizing: border-box;top: 0;bottom: 0;left: 50%;z-index: -1;}#sk-container-id-2 div.sk-parallel-item {display: flex;flex-direction: column;z-index: 1;position: relative;background-color: white;}#sk-container-id-2 div.sk-parallel-item:first-child::after {align-self: flex-end;width: 50%;}#sk-container-id-2 div.sk-parallel-item:last-child::after {align-self: flex-start;width: 50%;}#sk-container-id-2 div.sk-parallel-item:only-child::after {width: 0;}#sk-container-id-2 div.sk-dashed-wrapped {border: 1px dashed gray;margin: 0 0.4em 0.5em 0.4em;box-sizing: border-box;padding-bottom: 0.4em;background-color: white;}#sk-container-id-2 div.sk-label label {font-family: monospace;font-weight: bold;display: inline-block;line-height: 1.2em;}#sk-container-id-2 div.sk-label-container {text-align: center;}#sk-container-id-2 div.sk-container {/* jupyter's `normalize.less` sets `[hidden] { display: none; }` but bootstrap.min.css set `[hidden] { display: none !important; }` so we also need the `!important` here to be able to override the default hidden behavior on the sphinx rendered scikit-learn.org. See: https://github.com/scikit-learn/scikit-learn/issues/21755 */display: inline-block !important;position: relative;}#sk-container-id-2 div.sk-text-repr-fallback {display: none;}</style><div id=\"sk-container-id-2\" class=\"sk-top-container\"><div class=\"sk-text-repr-fallback\"><pre>MinMaxScaler()</pre><b>In a Jupyter environment, please rerun this cell to show the HTML representation or trust the notebook. <br />On GitHub, the HTML representation is unable to render, please try loading this page with nbviewer.org.</b></div><div class=\"sk-container\" hidden><div class=\"sk-item\"><div class=\"sk-estimator sk-toggleable\"><input class=\"sk-toggleable__control sk-hidden--visually\" id=\"sk-estimator-id-2\" type=\"checkbox\" checked><label for=\"sk-estimator-id-2\" class=\"sk-toggleable__label sk-toggleable__label-arrow\">MinMaxScaler</label><div class=\"sk-toggleable__content\"><pre>MinMaxScaler()</pre></div></div></div></div></div>"
            ]
          },
          "metadata": {},
          "execution_count": 84
        }
      ]
    },
    {
      "cell_type": "code",
      "source": [
        "X_train = mm.transform(X_train)\n",
        "X_test = mm.transform(X_test)"
      ],
      "metadata": {
        "id": "CLj-41ja3LQ2"
      },
      "execution_count": 85,
      "outputs": []
    },
    {
      "cell_type": "markdown",
      "source": [
        "## Building the Neural Network Model"
      ],
      "metadata": {
        "id": "yfdtBWhg4Bye"
      }
    },
    {
      "cell_type": "code",
      "source": [
        "model = tf.keras.Sequential()"
      ],
      "metadata": {
        "id": "yWau2fxT3LUO"
      },
      "execution_count": 86,
      "outputs": []
    },
    {
      "cell_type": "code",
      "source": [
        "model.add(tf.keras.layers.Input(shape=8,))"
      ],
      "metadata": {
        "id": "_mqMsR8O4yl9"
      },
      "execution_count": 87,
      "outputs": []
    },
    {
      "cell_type": "code",
      "source": [
        "model.add(tf.keras.layers.Dense(50, activation = 'relu'))"
      ],
      "metadata": {
        "id": "dT4WBP85458m"
      },
      "execution_count": 88,
      "outputs": []
    },
    {
      "cell_type": "code",
      "source": [
        "model.add(tf.keras.layers.Dense(100, activation = 'relu'))"
      ],
      "metadata": {
        "id": "FPG4CG_o49B9"
      },
      "execution_count": 89,
      "outputs": []
    },
    {
      "cell_type": "code",
      "source": [
        "model.add(tf.keras.layers.Dense(20, activation = 'relu'))"
      ],
      "metadata": {
        "id": "JZqwUt-x5AmP"
      },
      "execution_count": 90,
      "outputs": []
    },
    {
      "cell_type": "code",
      "source": [
        "model.add(tf.keras.layers.Dense(1, activation = 'sigmoid'))"
      ],
      "metadata": {
        "id": "2Aqc_buz5IEy"
      },
      "execution_count": 91,
      "outputs": []
    },
    {
      "cell_type": "code",
      "source": [
        "model.summary()"
      ],
      "metadata": {
        "colab": {
          "base_uri": "https://localhost:8080/"
        },
        "id": "Z-YbuXkQ5Kwq",
        "outputId": "f816bab7-16e5-4535-8741-8adab6f2eb61"
      },
      "execution_count": 92,
      "outputs": [
        {
          "output_type": "stream",
          "name": "stdout",
          "text": [
            "Model: \"sequential_1\"\n",
            "_________________________________________________________________\n",
            " Layer (type)                Output Shape              Param #   \n",
            "=================================================================\n",
            " dense_4 (Dense)             (None, 50)                450       \n",
            "                                                                 \n",
            " dense_5 (Dense)             (None, 100)               5100      \n",
            "                                                                 \n",
            " dense_6 (Dense)             (None, 20)                2020      \n",
            "                                                                 \n",
            " dense_7 (Dense)             (None, 1)                 21        \n",
            "                                                                 \n",
            "=================================================================\n",
            "Total params: 7,591\n",
            "Trainable params: 7,591\n",
            "Non-trainable params: 0\n",
            "_________________________________________________________________\n"
          ]
        }
      ]
    },
    {
      "cell_type": "code",
      "source": [
        "from tensorflow.keras.utils import plot_model"
      ],
      "metadata": {
        "id": "-kCUiDen5M7_"
      },
      "execution_count": 93,
      "outputs": []
    },
    {
      "cell_type": "code",
      "source": [
        "plot_model(model, show_shapes=True)"
      ],
      "metadata": {
        "colab": {
          "base_uri": "https://localhost:8080/",
          "height": 533
        },
        "id": "2JLobE325YMM",
        "outputId": "96716d81-dd3e-4cb5-9421-475e0853d2fe"
      },
      "execution_count": 94,
      "outputs": [
        {
          "output_type": "execute_result",
          "data": {
            "image/png": "[encoded data removed]",
            "text/plain": [
              "<IPython.core.display.Image object>"
            ]
          },
          "metadata": {},
          "execution_count": 94
        }
      ]
    },
    {
      "cell_type": "markdown",
      "source": [
        "Compiling the Model"
      ],
      "metadata": {
        "id": "jk69QpnaMWhy"
      }
    },
    {
      "cell_type": "code",
      "source": [
        "model.compile(\n",
        "                 loss = 'binary_crossentropy',\n",
        "                 optimizer = 'adam',\n",
        "\n",
        "                 metrics = ['acc'])"
      ],
      "metadata": {
        "id": "WEKO4PiA5aVr"
      },
      "execution_count": 95,
      "outputs": []
    },
    {
      "cell_type": "markdown",
      "source": [
        "Training the Model"
      ],
      "metadata": {
        "id": "6aVUl7PGMbi4"
      }
    },
    {
      "cell_type": "code",
      "source": [
        "model.fit(X_train, y_train, epochs=200)"
      ],
      "metadata": {
        "colab": {
          "base_uri": "https://localhost:8080/"
        },
        "id": "9JRxO4Y95nux",
        "outputId": "905b1f27-05c2-4b4b-c207-7881456f4c19"
      },
      "execution_count": 96,
      "outputs": [
        {
          "output_type": "stream",
          "name": "stdout",
          "text": [
            "Epoch 1/200\n",
            "2344/2344 [==============================] - 7s 2ms/step - loss: 0.1367 - acc: 0.9550\n",
            "Epoch 2/200\n",
            "2344/2344 [==============================] - 5s 2ms/step - loss: 0.1106 - acc: 0.9625\n",
            "Epoch 3/200\n",
            "2344/2344 [==============================] - 8s 3ms/step - loss: 0.0988 - acc: 0.9665\n",
            "Epoch 4/200\n",
            "2344/2344 [==============================] - 10s 4ms/step - loss: 0.0921 - acc: 0.9681\n",
            "Epoch 5/200\n",
            "2344/2344 [==============================] - 11s 5ms/step - loss: 0.0888 - acc: 0.9697\n",
            "Epoch 6/200\n",
            "2344/2344 [==============================] - 6s 2ms/step - loss: 0.0879 - acc: 0.9696\n",
            "Epoch 7/200\n",
            "2344/2344 [==============================] - 5s 2ms/step - loss: 0.0872 - acc: 0.9700\n",
            "Epoch 8/200\n",
            "2344/2344 [==============================] - 5s 2ms/step - loss: 0.0875 - acc: 0.9697\n",
            "Epoch 9/200\n",
            "2344/2344 [==============================] - 5s 2ms/step - loss: 0.0858 - acc: 0.9703\n",
            "Epoch 10/200\n",
            "2344/2344 [==============================] - 4s 2ms/step - loss: 0.0856 - acc: 0.9705\n",
            "Epoch 11/200\n",
            "2344/2344 [==============================] - 6s 2ms/step - loss: 0.0857 - acc: 0.9704\n",
            "Epoch 12/200\n",
            "2344/2344 [==============================] - 5s 2ms/step - loss: 0.0855 - acc: 0.9702\n",
            "Epoch 13/200\n",
            "2344/2344 [==============================] - 5s 2ms/step - loss: 0.0857 - acc: 0.9700\n",
            "Epoch 14/200\n",
            "2344/2344 [==============================] - 5s 2ms/step - loss: 0.0852 - acc: 0.9706\n",
            "Epoch 15/200\n",
            "2344/2344 [==============================] - 4s 2ms/step - loss: 0.0847 - acc: 0.9708\n",
            "Epoch 16/200\n",
            "2344/2344 [==============================] - 6s 2ms/step - loss: 0.0847 - acc: 0.9708\n",
            "Epoch 17/200\n",
            "2344/2344 [==============================] - 5s 2ms/step - loss: 0.0849 - acc: 0.9704\n",
            "Epoch 18/200\n",
            "2344/2344 [==============================] - 5s 2ms/step - loss: 0.0840 - acc: 0.9711\n",
            "Epoch 19/200\n",
            "2344/2344 [==============================] - 6s 2ms/step - loss: 0.0833 - acc: 0.9714\n",
            "Epoch 20/200\n",
            "2344/2344 [==============================] - 5s 2ms/step - loss: 0.0841 - acc: 0.9709\n",
            "Epoch 21/200\n",
            "2344/2344 [==============================] - 6s 2ms/step - loss: 0.0832 - acc: 0.9712\n",
            "Epoch 22/200\n",
            "2344/2344 [==============================] - 5s 2ms/step - loss: 0.0840 - acc: 0.9711\n",
            "Epoch 23/200\n",
            "2344/2344 [==============================] - 5s 2ms/step - loss: 0.0839 - acc: 0.9711\n",
            "Epoch 24/200\n",
            "2344/2344 [==============================] - 6s 2ms/step - loss: 0.0832 - acc: 0.9713\n",
            "Epoch 25/200\n",
            "2344/2344 [==============================] - 6s 2ms/step - loss: 0.0837 - acc: 0.9713\n",
            "Epoch 26/200\n",
            "2344/2344 [==============================] - 6s 2ms/step - loss: 0.0827 - acc: 0.9715\n",
            "Epoch 27/200\n",
            "2344/2344 [==============================] - 5s 2ms/step - loss: 0.0830 - acc: 0.9715\n",
            "Epoch 28/200\n",
            "2344/2344 [==============================] - 5s 2ms/step - loss: 0.0833 - acc: 0.9713\n",
            "Epoch 29/200\n",
            "2344/2344 [==============================] - 5s 2ms/step - loss: 0.0833 - acc: 0.9711\n",
            "Epoch 30/200\n",
            "2344/2344 [==============================] - 5s 2ms/step - loss: 0.0829 - acc: 0.9713\n",
            "Epoch 31/200\n",
            "2344/2344 [==============================] - 6s 2ms/step - loss: 0.0822 - acc: 0.9718\n",
            "Epoch 32/200\n",
            "2344/2344 [==============================] - 4s 2ms/step - loss: 0.0845 - acc: 0.9706\n",
            "Epoch 33/200\n",
            "2344/2344 [==============================] - 5s 2ms/step - loss: 0.0825 - acc: 0.9717\n",
            "Epoch 34/200\n",
            "2344/2344 [==============================] - 6s 2ms/step - loss: 0.0826 - acc: 0.9717\n",
            "Epoch 35/200\n",
            "2344/2344 [==============================] - 5s 2ms/step - loss: 0.0826 - acc: 0.9716\n",
            "Epoch 36/200\n",
            "2344/2344 [==============================] - 6s 2ms/step - loss: 0.0828 - acc: 0.9716\n",
            "Epoch 37/200\n",
            "2344/2344 [==============================] - 4s 2ms/step - loss: 0.0819 - acc: 0.9719\n",
            "Epoch 38/200\n",
            "2344/2344 [==============================] - 5s 2ms/step - loss: 0.0819 - acc: 0.9720\n",
            "Epoch 39/200\n",
            "2344/2344 [==============================] - 6s 2ms/step - loss: 0.0818 - acc: 0.9718\n",
            "Epoch 40/200\n",
            "2344/2344 [==============================] - 5s 2ms/step - loss: 0.0832 - acc: 0.9713\n",
            "Epoch 41/200\n",
            "2344/2344 [==============================] - 5s 2ms/step - loss: 0.0819 - acc: 0.9720\n",
            "Epoch 42/200\n",
            "2344/2344 [==============================] - 5s 2ms/step - loss: 0.0847 - acc: 0.9703\n",
            "Epoch 43/200\n",
            "2344/2344 [==============================] - 5s 2ms/step - loss: 0.0815 - acc: 0.9721\n",
            "Epoch 44/200\n",
            "2344/2344 [==============================] - 5s 2ms/step - loss: 0.0822 - acc: 0.9716\n",
            "Epoch 45/200\n",
            "2344/2344 [==============================] - 5s 2ms/step - loss: 0.0817 - acc: 0.9719\n",
            "Epoch 46/200\n",
            "2344/2344 [==============================] - 5s 2ms/step - loss: 0.0811 - acc: 0.9722\n",
            "Epoch 47/200\n",
            "2344/2344 [==============================] - 5s 2ms/step - loss: 0.0821 - acc: 0.9718\n",
            "Epoch 48/200\n",
            "2344/2344 [==============================] - 6s 2ms/step - loss: 0.0816 - acc: 0.9720\n",
            "Epoch 49/200\n",
            "2344/2344 [==============================] - 5s 2ms/step - loss: 0.0814 - acc: 0.9720\n",
            "Epoch 50/200\n",
            "2344/2344 [==============================] - 5s 2ms/step - loss: 0.0814 - acc: 0.9721\n",
            "Epoch 51/200\n",
            "2344/2344 [==============================] - 5s 2ms/step - loss: 0.0820 - acc: 0.9717\n",
            "Epoch 52/200\n",
            "2344/2344 [==============================] - 5s 2ms/step - loss: 0.0817 - acc: 0.9720\n",
            "Epoch 53/200\n",
            "2344/2344 [==============================] - 5s 2ms/step - loss: 0.0806 - acc: 0.9723\n",
            "Epoch 54/200\n",
            "2344/2344 [==============================] - 4s 2ms/step - loss: 0.0817 - acc: 0.9718\n",
            "Epoch 55/200\n",
            "2344/2344 [==============================] - 5s 2ms/step - loss: 0.0811 - acc: 0.9721\n",
            "Epoch 56/200\n",
            "2344/2344 [==============================] - 5s 2ms/step - loss: 0.0814 - acc: 0.9720\n",
            "Epoch 57/200\n",
            "2344/2344 [==============================] - 5s 2ms/step - loss: 0.0811 - acc: 0.9719\n",
            "Epoch 58/200\n",
            "2344/2344 [==============================] - 5s 2ms/step - loss: 0.0818 - acc: 0.9717\n",
            "Epoch 59/200\n",
            "2344/2344 [==============================] - 5s 2ms/step - loss: 0.0805 - acc: 0.9723\n",
            "Epoch 60/200\n",
            "2344/2344 [==============================] - 5s 2ms/step - loss: 0.0814 - acc: 0.9720\n",
            "Epoch 61/200\n",
            "2344/2344 [==============================] - 5s 2ms/step - loss: 0.0813 - acc: 0.9719\n",
            "Epoch 62/200\n",
            "2344/2344 [==============================] - 5s 2ms/step - loss: 0.0824 - acc: 0.9714\n",
            "Epoch 63/200\n",
            "2344/2344 [==============================] - 5s 2ms/step - loss: 0.0806 - acc: 0.9724\n",
            "Epoch 64/200\n",
            "2344/2344 [==============================] - 5s 2ms/step - loss: 0.0808 - acc: 0.9723\n",
            "Epoch 65/200\n",
            "2344/2344 [==============================] - 5s 2ms/step - loss: 0.0808 - acc: 0.9721\n",
            "Epoch 66/200\n",
            "2344/2344 [==============================] - 5s 2ms/step - loss: 0.0812 - acc: 0.9721\n",
            "Epoch 67/200\n",
            "2344/2344 [==============================] - 5s 2ms/step - loss: 0.0808 - acc: 0.9719\n",
            "Epoch 68/200\n",
            "2344/2344 [==============================] - 5s 2ms/step - loss: 0.0804 - acc: 0.9722\n",
            "Epoch 69/200\n",
            "2344/2344 [==============================] - 5s 2ms/step - loss: 0.0806 - acc: 0.9722\n",
            "Epoch 70/200\n",
            "2344/2344 [==============================] - 5s 2ms/step - loss: 0.0815 - acc: 0.9720\n",
            "Epoch 71/200\n",
            "2344/2344 [==============================] - 5s 2ms/step - loss: 0.0803 - acc: 0.9723\n",
            "Epoch 72/200\n",
            "2344/2344 [==============================] - 5s 2ms/step - loss: 0.0816 - acc: 0.9718\n",
            "Epoch 73/200\n",
            "2344/2344 [==============================] - 5s 2ms/step - loss: 0.0823 - acc: 0.9713\n",
            "Epoch 74/200\n",
            "2344/2344 [==============================] - 5s 2ms/step - loss: 0.0800 - acc: 0.9726\n",
            "Epoch 75/200\n",
            "2344/2344 [==============================] - 5s 2ms/step - loss: 0.0814 - acc: 0.9716\n",
            "Epoch 76/200\n",
            "2344/2344 [==============================] - 5s 2ms/step - loss: 0.0803 - acc: 0.9723\n",
            "Epoch 77/200\n",
            "2344/2344 [==============================] - 5s 2ms/step - loss: 0.0806 - acc: 0.9723\n",
            "Epoch 78/200\n",
            "2344/2344 [==============================] - 5s 2ms/step - loss: 0.0806 - acc: 0.9723\n",
            "Epoch 79/200\n",
            "2344/2344 [==============================] - 5s 2ms/step - loss: 0.0808 - acc: 0.9722\n",
            "Epoch 80/200\n",
            "2344/2344 [==============================] - 5s 2ms/step - loss: 0.0804 - acc: 0.9725\n",
            "Epoch 81/200\n",
            "2344/2344 [==============================] - 4s 2ms/step - loss: 0.0815 - acc: 0.9718\n",
            "Epoch 82/200\n",
            "2344/2344 [==============================] - 5s 2ms/step - loss: 0.0810 - acc: 0.9723\n",
            "Epoch 83/200\n",
            "2344/2344 [==============================] - 5s 2ms/step - loss: 0.0800 - acc: 0.9724\n",
            "Epoch 84/200\n",
            "2344/2344 [==============================] - 5s 2ms/step - loss: 0.0812 - acc: 0.9721\n",
            "Epoch 85/200\n",
            "2344/2344 [==============================] - 5s 2ms/step - loss: 0.0823 - acc: 0.9713\n",
            "Epoch 86/200\n",
            "2344/2344 [==============================] - 5s 2ms/step - loss: 0.0805 - acc: 0.9722\n",
            "Epoch 87/200\n",
            "2344/2344 [==============================] - 5s 2ms/step - loss: 0.0802 - acc: 0.9724\n",
            "Epoch 88/200\n",
            "2344/2344 [==============================] - 4s 2ms/step - loss: 0.0804 - acc: 0.9721\n",
            "Epoch 89/200\n",
            "2344/2344 [==============================] - 5s 2ms/step - loss: 0.0806 - acc: 0.9722\n",
            "Epoch 90/200\n",
            "2344/2344 [==============================] - 5s 2ms/step - loss: 0.0796 - acc: 0.9728\n",
            "Epoch 91/200\n",
            "2344/2344 [==============================] - 5s 2ms/step - loss: 0.0800 - acc: 0.9721\n",
            "Epoch 92/200\n",
            "2344/2344 [==============================] - 5s 2ms/step - loss: 0.0824 - acc: 0.9714\n",
            "Epoch 93/200\n",
            "2344/2344 [==============================] - 5s 2ms/step - loss: 0.0801 - acc: 0.9724\n",
            "Epoch 94/200\n",
            "2344/2344 [==============================] - 5s 2ms/step - loss: 0.0798 - acc: 0.9725\n",
            "Epoch 95/200\n",
            "2344/2344 [==============================] - 4s 2ms/step - loss: 0.0797 - acc: 0.9724\n",
            "Epoch 96/200\n",
            "2344/2344 [==============================] - 5s 2ms/step - loss: 0.0804 - acc: 0.9723\n",
            "Epoch 97/200\n",
            "2344/2344 [==============================] - 4s 2ms/step - loss: 0.0805 - acc: 0.9722\n",
            "Epoch 98/200\n",
            "2344/2344 [==============================] - 5s 2ms/step - loss: 0.0799 - acc: 0.9727\n",
            "Epoch 99/200\n",
            "2344/2344 [==============================] - 5s 2ms/step - loss: 0.0801 - acc: 0.9723\n",
            "Epoch 100/200\n",
            "2344/2344 [==============================] - 5s 2ms/step - loss: 0.0796 - acc: 0.9727\n",
            "Epoch 101/200\n",
            "2344/2344 [==============================] - 5s 2ms/step - loss: 0.0805 - acc: 0.9722\n",
            "Epoch 102/200\n",
            "2344/2344 [==============================] - 5s 2ms/step - loss: 0.0800 - acc: 0.9724\n",
            "Epoch 103/200\n",
            "2344/2344 [==============================] - 5s 2ms/step - loss: 0.0794 - acc: 0.9727\n",
            "Epoch 104/200\n",
            "2344/2344 [==============================] - 5s 2ms/step - loss: 0.0794 - acc: 0.9727\n",
            "Epoch 105/200\n",
            "2344/2344 [==============================] - 4s 2ms/step - loss: 0.0806 - acc: 0.9719\n",
            "Epoch 106/200\n",
            "2344/2344 [==============================] - 5s 2ms/step - loss: 0.0809 - acc: 0.9720\n",
            "Epoch 107/200\n",
            "2344/2344 [==============================] - 5s 2ms/step - loss: 0.0793 - acc: 0.9726\n",
            "Epoch 108/200\n",
            "2344/2344 [==============================] - 5s 2ms/step - loss: 0.0796 - acc: 0.9725\n",
            "Epoch 109/200\n",
            "2344/2344 [==============================] - 5s 2ms/step - loss: 0.0798 - acc: 0.9725\n",
            "Epoch 110/200\n",
            "2344/2344 [==============================] - 5s 2ms/step - loss: 0.0795 - acc: 0.9725\n",
            "Epoch 111/200\n",
            "2344/2344 [==============================] - 5s 2ms/step - loss: 0.0806 - acc: 0.9720\n",
            "Epoch 112/200\n",
            "2344/2344 [==============================] - 4s 2ms/step - loss: 0.0800 - acc: 0.9723\n",
            "Epoch 113/200\n",
            "2344/2344 [==============================] - 5s 2ms/step - loss: 0.0796 - acc: 0.9726\n",
            "Epoch 114/200\n",
            "2344/2344 [==============================] - 5s 2ms/step - loss: 0.0794 - acc: 0.9726\n",
            "Epoch 115/200\n",
            "2344/2344 [==============================] - 5s 2ms/step - loss: 0.0797 - acc: 0.9725\n",
            "Epoch 116/200\n",
            "2344/2344 [==============================] - 5s 2ms/step - loss: 0.0794 - acc: 0.9727\n",
            "Epoch 117/200\n",
            "2344/2344 [==============================] - 5s 2ms/step - loss: 0.0795 - acc: 0.9726\n",
            "Epoch 118/200\n",
            "2344/2344 [==============================] - 5s 2ms/step - loss: 0.0795 - acc: 0.9724\n",
            "Epoch 119/200\n",
            "2344/2344 [==============================] - 5s 2ms/step - loss: 0.0801 - acc: 0.9723\n",
            "Epoch 120/200\n",
            "2344/2344 [==============================] - 5s 2ms/step - loss: 0.0796 - acc: 0.9728\n",
            "Epoch 121/200\n",
            "2344/2344 [==============================] - 5s 2ms/step - loss: 0.0793 - acc: 0.9726\n",
            "Epoch 122/200\n",
            "2344/2344 [==============================] - 5s 2ms/step - loss: 0.0790 - acc: 0.9729\n",
            "Epoch 123/200\n",
            "2344/2344 [==============================] - 6s 2ms/step - loss: 0.0797 - acc: 0.9725\n",
            "Epoch 124/200\n",
            "2344/2344 [==============================] - 5s 2ms/step - loss: 0.0793 - acc: 0.9729\n",
            "Epoch 125/200\n",
            "2344/2344 [==============================] - 5s 2ms/step - loss: 0.0794 - acc: 0.9726\n",
            "Epoch 126/200\n",
            "2344/2344 [==============================] - 5s 2ms/step - loss: 0.0791 - acc: 0.9727\n",
            "Epoch 127/200\n",
            "2344/2344 [==============================] - 5s 2ms/step - loss: 0.0790 - acc: 0.9727\n",
            "Epoch 128/200\n",
            "2344/2344 [==============================] - 5s 2ms/step - loss: 0.0799 - acc: 0.9725\n",
            "Epoch 129/200\n",
            "2344/2344 [==============================] - 5s 2ms/step - loss: 0.0794 - acc: 0.9726\n",
            "Epoch 130/200\n",
            "2344/2344 [==============================] - 5s 2ms/step - loss: 0.0794 - acc: 0.9728\n",
            "Epoch 131/200\n",
            "2344/2344 [==============================] - 5s 2ms/step - loss: 0.0792 - acc: 0.9728\n",
            "Epoch 132/200\n",
            "2344/2344 [==============================] - 5s 2ms/step - loss: 0.0787 - acc: 0.9728\n",
            "Epoch 133/200\n",
            "2344/2344 [==============================] - 5s 2ms/step - loss: 0.0790 - acc: 0.9729\n",
            "Epoch 134/200\n",
            "2344/2344 [==============================] - 5s 2ms/step - loss: 0.0792 - acc: 0.9726\n",
            "Epoch 135/200\n",
            "2344/2344 [==============================] - 5s 2ms/step - loss: 0.0788 - acc: 0.9728\n",
            "Epoch 136/200\n",
            "2344/2344 [==============================] - 5s 2ms/step - loss: 0.0792 - acc: 0.9725\n",
            "Epoch 137/200\n",
            "2344/2344 [==============================] - 5s 2ms/step - loss: 0.0791 - acc: 0.9727\n",
            "Epoch 138/200\n",
            "2344/2344 [==============================] - 5s 2ms/step - loss: 0.0790 - acc: 0.9730\n",
            "Epoch 139/200\n",
            "2344/2344 [==============================] - 5s 2ms/step - loss: 0.0786 - acc: 0.9729\n",
            "Epoch 140/200\n",
            "2344/2344 [==============================] - 5s 2ms/step - loss: 0.0789 - acc: 0.9727\n",
            "Epoch 141/200\n",
            "2344/2344 [==============================] - 5s 2ms/step - loss: 0.0789 - acc: 0.9728\n",
            "Epoch 142/200\n",
            "2344/2344 [==============================] - 5s 2ms/step - loss: 0.0790 - acc: 0.9726\n",
            "Epoch 143/200\n",
            "2344/2344 [==============================] - 5s 2ms/step - loss: 0.0789 - acc: 0.9730\n",
            "Epoch 144/200\n",
            "2344/2344 [==============================] - 5s 2ms/step - loss: 0.0787 - acc: 0.9726\n",
            "Epoch 145/200\n",
            "2344/2344 [==============================] - 5s 2ms/step - loss: 0.0788 - acc: 0.9727\n",
            "Epoch 146/200\n",
            "2344/2344 [==============================] - 5s 2ms/step - loss: 0.0788 - acc: 0.9725\n",
            "Epoch 147/200\n",
            "2344/2344 [==============================] - 5s 2ms/step - loss: 0.0791 - acc: 0.9727\n",
            "Epoch 148/200\n",
            "2344/2344 [==============================] - 5s 2ms/step - loss: 0.0782 - acc: 0.9732\n",
            "Epoch 149/200\n",
            "2344/2344 [==============================] - 5s 2ms/step - loss: 0.0788 - acc: 0.9726\n",
            "Epoch 150/200\n",
            "2344/2344 [==============================] - 5s 2ms/step - loss: 0.0787 - acc: 0.9729\n",
            "Epoch 151/200\n",
            "2344/2344 [==============================] - 5s 2ms/step - loss: 0.0787 - acc: 0.9729\n",
            "Epoch 152/200\n",
            "2344/2344 [==============================] - 5s 2ms/step - loss: 0.0786 - acc: 0.9730\n",
            "Epoch 153/200\n",
            "2344/2344 [==============================] - 5s 2ms/step - loss: 0.0794 - acc: 0.9725\n",
            "Epoch 154/200\n",
            "2344/2344 [==============================] - 5s 2ms/step - loss: 0.0816 - acc: 0.9714\n",
            "Epoch 155/200\n",
            "2344/2344 [==============================] - 5s 2ms/step - loss: 0.0805 - acc: 0.9718\n",
            "Epoch 156/200\n",
            "2344/2344 [==============================] - 5s 2ms/step - loss: 0.0791 - acc: 0.9724\n",
            "Epoch 157/200\n",
            "2344/2344 [==============================] - 5s 2ms/step - loss: 0.0789 - acc: 0.9727\n",
            "Epoch 158/200\n",
            "2344/2344 [==============================] - 5s 2ms/step - loss: 0.0788 - acc: 0.9727\n",
            "Epoch 159/200\n",
            "2344/2344 [==============================] - 5s 2ms/step - loss: 0.0785 - acc: 0.9728\n",
            "Epoch 160/200\n",
            "2344/2344 [==============================] - 5s 2ms/step - loss: 0.0785 - acc: 0.9729\n",
            "Epoch 161/200\n",
            "2344/2344 [==============================] - 5s 2ms/step - loss: 0.0787 - acc: 0.9729\n",
            "Epoch 162/200\n",
            "2344/2344 [==============================] - 5s 2ms/step - loss: 0.0785 - acc: 0.9728\n",
            "Epoch 163/200\n",
            "2344/2344 [==============================] - 5s 2ms/step - loss: 0.0781 - acc: 0.9728\n",
            "Epoch 164/200\n",
            "2344/2344 [==============================] - 5s 2ms/step - loss: 0.0788 - acc: 0.9731\n",
            "Epoch 165/200\n",
            "2344/2344 [==============================] - 5s 2ms/step - loss: 0.0784 - acc: 0.9728\n",
            "Epoch 166/200\n",
            "2344/2344 [==============================] - 5s 2ms/step - loss: 0.0790 - acc: 0.9727\n",
            "Epoch 167/200\n",
            "2344/2344 [==============================] - 5s 2ms/step - loss: 0.0778 - acc: 0.9732\n",
            "Epoch 168/200\n",
            "2344/2344 [==============================] - 5s 2ms/step - loss: 0.0782 - acc: 0.9731\n",
            "Epoch 169/200\n",
            "2344/2344 [==============================] - 5s 2ms/step - loss: 0.0788 - acc: 0.9730\n",
            "Epoch 170/200\n",
            "2344/2344 [==============================] - 5s 2ms/step - loss: 0.0788 - acc: 0.9727\n",
            "Epoch 171/200\n",
            "2344/2344 [==============================] - 5s 2ms/step - loss: 0.0783 - acc: 0.9729\n",
            "Epoch 172/200\n",
            "2344/2344 [==============================] - 5s 2ms/step - loss: 0.0780 - acc: 0.9732\n",
            "Epoch 173/200\n",
            "2344/2344 [==============================] - 5s 2ms/step - loss: 0.0783 - acc: 0.9729\n",
            "Epoch 174/200\n",
            "2344/2344 [==============================] - 6s 2ms/step - loss: 0.0791 - acc: 0.9724\n",
            "Epoch 175/200\n",
            "2344/2344 [==============================] - 5s 2ms/step - loss: 0.0786 - acc: 0.9728\n",
            "Epoch 176/200\n",
            "2344/2344 [==============================] - 5s 2ms/step - loss: 0.0780 - acc: 0.9731\n",
            "Epoch 177/200\n",
            "2344/2344 [==============================] - 5s 2ms/step - loss: 0.0786 - acc: 0.9726\n",
            "Epoch 178/200\n",
            "2344/2344 [==============================] - 5s 2ms/step - loss: 0.0785 - acc: 0.9727\n",
            "Epoch 179/200\n",
            "2344/2344 [==============================] - 5s 2ms/step - loss: 0.0787 - acc: 0.9727\n",
            "Epoch 180/200\n",
            "2344/2344 [==============================] - 5s 2ms/step - loss: 0.0785 - acc: 0.9727\n",
            "Epoch 181/200\n",
            "2344/2344 [==============================] - 5s 2ms/step - loss: 0.0785 - acc: 0.9728\n",
            "Epoch 182/200\n",
            "2344/2344 [==============================] - 5s 2ms/step - loss: 0.0784 - acc: 0.9728\n",
            "Epoch 183/200\n",
            "2344/2344 [==============================] - 5s 2ms/step - loss: 0.0782 - acc: 0.9726\n",
            "Epoch 184/200\n",
            "2344/2344 [==============================] - 5s 2ms/step - loss: 0.0777 - acc: 0.9731\n",
            "Epoch 185/200\n",
            "2344/2344 [==============================] - 5s 2ms/step - loss: 0.0790 - acc: 0.9727\n",
            "Epoch 186/200\n",
            "2344/2344 [==============================] - 5s 2ms/step - loss: 0.0775 - acc: 0.9732\n",
            "Epoch 187/200\n",
            "2344/2344 [==============================] - 5s 2ms/step - loss: 0.0782 - acc: 0.9730\n",
            "Epoch 188/200\n",
            "2344/2344 [==============================] - 5s 2ms/step - loss: 0.0777 - acc: 0.9730\n",
            "Epoch 189/200\n",
            "2344/2344 [==============================] - 5s 2ms/step - loss: 0.0774 - acc: 0.9734\n",
            "Epoch 190/200\n",
            "2344/2344 [==============================] - 5s 2ms/step - loss: 0.0779 - acc: 0.9728\n",
            "Epoch 191/200\n",
            "2344/2344 [==============================] - 5s 2ms/step - loss: 0.0792 - acc: 0.9724\n",
            "Epoch 192/200\n",
            "2344/2344 [==============================] - 5s 2ms/step - loss: 0.0781 - acc: 0.9729\n",
            "Epoch 193/200\n",
            "2344/2344 [==============================] - 5s 2ms/step - loss: 0.0782 - acc: 0.9730\n",
            "Epoch 194/200\n",
            "2344/2344 [==============================] - 5s 2ms/step - loss: 0.0772 - acc: 0.9733\n",
            "Epoch 195/200\n",
            "2344/2344 [==============================] - 5s 2ms/step - loss: 0.0786 - acc: 0.9729\n",
            "Epoch 196/200\n",
            "2344/2344 [==============================] - 5s 2ms/step - loss: 0.0782 - acc: 0.9731\n",
            "Epoch 197/200\n",
            "2344/2344 [==============================] - 5s 2ms/step - loss: 0.0775 - acc: 0.9735\n",
            "Epoch 198/200\n",
            "2344/2344 [==============================] - 6s 2ms/step - loss: 0.0779 - acc: 0.9731\n",
            "Epoch 199/200\n",
            "2344/2344 [==============================] - 5s 2ms/step - loss: 0.0775 - acc: 0.9732\n",
            "Epoch 200/200\n",
            "2344/2344 [==============================] - 5s 2ms/step - loss: 0.0779 - acc: 0.9730\n"
          ]
        },
        {
          "output_type": "execute_result",
          "data": {
            "text/plain": [
              "<keras.callbacks.History at 0x786f73fdd180>"
            ]
          },
          "metadata": {},
          "execution_count": 96
        }
      ]
    },
    {
      "cell_type": "code",
      "source": [
        "history = model.fit(X_train, y_train, epochs=200, validation_data=(X_test, y_test))\n",
        "\n",
        "plt.figure(figsize=(12, 4))\n",
        "\n",
        "plt.subplot(1, 2, 1)\n",
        "plt.plot(history.history['loss'], label='Train')\n",
        "plt.plot(history.history['val_loss'], label='Validation')\n",
        "plt.xlabel('Epoch')\n",
        "plt.ylabel('Loss')\n",
        "plt.title('Loss Over Epochs')\n",
        "plt.legend()\n",
        "\n",
        "plt.subplot(1, 2, 2)\n",
        "plt.plot(history.history['acc'], label='Train')\n",
        "plt.plot(history.history['val_acc'], label='Validation')\n",
        "plt.xlabel('Epoch')\n",
        "plt.ylabel('Accuracy')\n",
        "plt.title('Accuracy Over Epochs')\n",
        "plt.legend()\n",
        "\n",
        "plt.tight_layout()\n",
        "plt.show()\n"
      ],
      "metadata": {
        "colab": {
          "base_uri": "https://localhost:8080/",
          "height": 1000
        },
        "id": "0eRfBxFRNMmc",
        "outputId": "9b2c1ea8-c58d-4b91-c065-c7a26435c959"
      },
      "execution_count": 103,
      "outputs": [
        {
          "output_type": "stream",
          "name": "stdout",
          "text": [
            "Epoch 1/200\n",
            "2344/2344 [==============================] - 7s 3ms/step - loss: 0.0787 - acc: 0.9726 - val_loss: 0.0971 - val_acc: 0.9692\n",
            "Epoch 2/200\n",
            "2344/2344 [==============================] - 6s 2ms/step - loss: 0.0777 - acc: 0.9732 - val_loss: 0.0909 - val_acc: 0.9701\n",
            "Epoch 3/200\n",
            "2344/2344 [==============================] - 7s 3ms/step - loss: 0.0780 - acc: 0.9728 - val_loss: 0.0934 - val_acc: 0.9701\n",
            "Epoch 4/200\n",
            "2344/2344 [==============================] - 6s 3ms/step - loss: 0.0774 - acc: 0.9731 - val_loss: 0.0944 - val_acc: 0.9709\n",
            "Epoch 5/200\n",
            "2344/2344 [==============================] - 7s 3ms/step - loss: 0.0790 - acc: 0.9725 - val_loss: 0.0901 - val_acc: 0.9703\n",
            "Epoch 6/200\n",
            "2344/2344 [==============================] - 7s 3ms/step - loss: 0.0775 - acc: 0.9730 - val_loss: 0.0928 - val_acc: 0.9694\n",
            "Epoch 7/200\n",
            "2344/2344 [==============================] - 6s 3ms/step - loss: 0.0784 - acc: 0.9726 - val_loss: 0.0918 - val_acc: 0.9708\n",
            "Epoch 8/200\n",
            "2344/2344 [==============================] - 7s 3ms/step - loss: 0.0778 - acc: 0.9732 - val_loss: 0.0911 - val_acc: 0.9703\n",
            "Epoch 9/200\n",
            "2344/2344 [==============================] - 6s 2ms/step - loss: 0.0773 - acc: 0.9729 - val_loss: 0.0919 - val_acc: 0.9705\n",
            "Epoch 10/200\n",
            "2344/2344 [==============================] - 6s 3ms/step - loss: 0.0775 - acc: 0.9731 - val_loss: 0.0916 - val_acc: 0.9702\n",
            "Epoch 11/200\n",
            "2344/2344 [==============================] - 6s 2ms/step - loss: 0.0776 - acc: 0.9733 - val_loss: 0.0912 - val_acc: 0.9707\n",
            "Epoch 12/200\n",
            "2344/2344 [==============================] - 7s 3ms/step - loss: 0.0775 - acc: 0.9731 - val_loss: 0.0891 - val_acc: 0.9705\n",
            "Epoch 13/200\n",
            "2344/2344 [==============================] - 6s 2ms/step - loss: 0.0774 - acc: 0.9732 - val_loss: 0.0896 - val_acc: 0.9705\n",
            "Epoch 14/200\n",
            "2344/2344 [==============================] - 6s 3ms/step - loss: 0.0772 - acc: 0.9734 - val_loss: 0.0916 - val_acc: 0.9710\n",
            "Epoch 15/200\n",
            "2344/2344 [==============================] - 6s 2ms/step - loss: 0.0774 - acc: 0.9733 - val_loss: 0.0953 - val_acc: 0.9709\n",
            "Epoch 16/200\n",
            "2344/2344 [==============================] - 6s 3ms/step - loss: 0.0776 - acc: 0.9733 - val_loss: 0.0900 - val_acc: 0.9700\n",
            "Epoch 17/200\n",
            "2344/2344 [==============================] - 6s 2ms/step - loss: 0.0778 - acc: 0.9729 - val_loss: 0.0949 - val_acc: 0.9702\n",
            "Epoch 18/200\n",
            "2344/2344 [==============================] - 7s 3ms/step - loss: 0.0777 - acc: 0.9732 - val_loss: 0.0923 - val_acc: 0.9708\n",
            "Epoch 19/200\n",
            "2344/2344 [==============================] - 7s 3ms/step - loss: 0.0771 - acc: 0.9733 - val_loss: 0.0963 - val_acc: 0.9712\n",
            "Epoch 20/200\n",
            "2344/2344 [==============================] - 7s 3ms/step - loss: 0.0774 - acc: 0.9731 - val_loss: 0.0927 - val_acc: 0.9712\n",
            "Epoch 21/200\n",
            "2344/2344 [==============================] - 7s 3ms/step - loss: 0.0769 - acc: 0.9733 - val_loss: 0.1001 - val_acc: 0.9693\n",
            "Epoch 22/200\n",
            "2344/2344 [==============================] - 6s 3ms/step - loss: 0.0778 - acc: 0.9727 - val_loss: 0.0933 - val_acc: 0.9712\n",
            "Epoch 23/200\n",
            "2344/2344 [==============================] - 6s 3ms/step - loss: 0.0778 - acc: 0.9731 - val_loss: 0.0877 - val_acc: 0.9710\n",
            "Epoch 24/200\n",
            "2344/2344 [==============================] - 6s 2ms/step - loss: 0.0776 - acc: 0.9730 - val_loss: 0.0910 - val_acc: 0.9703\n",
            "Epoch 25/200\n",
            "2344/2344 [==============================] - 6s 3ms/step - loss: 0.0776 - acc: 0.9730 - val_loss: 0.0942 - val_acc: 0.9704\n",
            "Epoch 26/200\n",
            "2344/2344 [==============================] - 6s 2ms/step - loss: 0.0768 - acc: 0.9733 - val_loss: 0.0966 - val_acc: 0.9686\n",
            "Epoch 27/200\n",
            "2344/2344 [==============================] - 7s 3ms/step - loss: 0.0774 - acc: 0.9731 - val_loss: 0.0931 - val_acc: 0.9708\n",
            "Epoch 28/200\n",
            "2344/2344 [==============================] - 6s 2ms/step - loss: 0.0775 - acc: 0.9731 - val_loss: 0.0941 - val_acc: 0.9704\n",
            "Epoch 29/200\n",
            "2344/2344 [==============================] - 7s 3ms/step - loss: 0.0775 - acc: 0.9730 - val_loss: 0.0935 - val_acc: 0.9706\n",
            "Epoch 30/200\n",
            "2344/2344 [==============================] - 6s 2ms/step - loss: 0.0780 - acc: 0.9729 - val_loss: 0.0929 - val_acc: 0.9702\n",
            "Epoch 31/200\n",
            "2344/2344 [==============================] - 6s 3ms/step - loss: 0.0767 - acc: 0.9734 - val_loss: 0.0926 - val_acc: 0.9704\n",
            "Epoch 32/200\n",
            "2344/2344 [==============================] - 6s 3ms/step - loss: 0.0769 - acc: 0.9736 - val_loss: 0.0938 - val_acc: 0.9706\n",
            "Epoch 33/200\n",
            "2344/2344 [==============================] - 7s 3ms/step - loss: 0.0777 - acc: 0.9730 - val_loss: 0.0935 - val_acc: 0.9704\n",
            "Epoch 34/200\n",
            "2344/2344 [==============================] - 6s 3ms/step - loss: 0.0771 - acc: 0.9733 - val_loss: 0.0985 - val_acc: 0.9661\n",
            "Epoch 35/200\n",
            "2344/2344 [==============================] - 6s 3ms/step - loss: 0.0765 - acc: 0.9733 - val_loss: 0.0944 - val_acc: 0.9701\n",
            "Epoch 36/200\n",
            "2344/2344 [==============================] - 6s 3ms/step - loss: 0.0772 - acc: 0.9733 - val_loss: 0.0914 - val_acc: 0.9706\n",
            "Epoch 37/200\n",
            "2344/2344 [==============================] - 6s 3ms/step - loss: 0.0771 - acc: 0.9732 - val_loss: 0.0956 - val_acc: 0.9702\n",
            "Epoch 38/200\n",
            "2344/2344 [==============================] - 6s 3ms/step - loss: 0.0768 - acc: 0.9733 - val_loss: 0.0970 - val_acc: 0.9708\n",
            "Epoch 39/200\n",
            "2344/2344 [==============================] - 6s 3ms/step - loss: 0.0774 - acc: 0.9732 - val_loss: 0.0944 - val_acc: 0.9702\n",
            "Epoch 40/200\n",
            "2344/2344 [==============================] - 7s 3ms/step - loss: 0.0778 - acc: 0.9728 - val_loss: 0.0927 - val_acc: 0.9709\n",
            "Epoch 41/200\n",
            "2344/2344 [==============================] - 6s 2ms/step - loss: 0.0768 - acc: 0.9735 - val_loss: 0.0951 - val_acc: 0.9707\n",
            "Epoch 42/200\n",
            "2344/2344 [==============================] - 6s 3ms/step - loss: 0.0774 - acc: 0.9731 - val_loss: 0.0925 - val_acc: 0.9704\n",
            "Epoch 43/200\n",
            "2344/2344 [==============================] - 6s 3ms/step - loss: 0.0765 - acc: 0.9736 - val_loss: 0.0938 - val_acc: 0.9702\n",
            "Epoch 44/200\n",
            "2344/2344 [==============================] - 7s 3ms/step - loss: 0.0776 - acc: 0.9732 - val_loss: 0.0901 - val_acc: 0.9700\n",
            "Epoch 45/200\n",
            "2344/2344 [==============================] - 6s 3ms/step - loss: 0.0768 - acc: 0.9735 - val_loss: 0.0909 - val_acc: 0.9709\n",
            "Epoch 46/200\n",
            "2344/2344 [==============================] - 7s 3ms/step - loss: 0.0767 - acc: 0.9735 - val_loss: 0.0955 - val_acc: 0.9708\n",
            "Epoch 47/200\n",
            "2344/2344 [==============================] - 6s 2ms/step - loss: 0.0770 - acc: 0.9734 - val_loss: 0.0926 - val_acc: 0.9707\n",
            "Epoch 48/200\n",
            "2344/2344 [==============================] - 7s 3ms/step - loss: 0.0781 - acc: 0.9732 - val_loss: 0.0919 - val_acc: 0.9704\n",
            "Epoch 49/200\n",
            "2344/2344 [==============================] - 6s 3ms/step - loss: 0.0772 - acc: 0.9732 - val_loss: 0.0990 - val_acc: 0.9682\n",
            "Epoch 50/200\n",
            "2344/2344 [==============================] - 6s 3ms/step - loss: 0.0770 - acc: 0.9732 - val_loss: 0.1000 - val_acc: 0.9686\n",
            "Epoch 51/200\n",
            "2344/2344 [==============================] - 6s 2ms/step - loss: 0.0766 - acc: 0.9733 - val_loss: 0.0928 - val_acc: 0.9704\n",
            "Epoch 52/200\n",
            "2344/2344 [==============================] - 6s 3ms/step - loss: 0.0767 - acc: 0.9734 - val_loss: 0.0957 - val_acc: 0.9706\n",
            "Epoch 53/200\n",
            "2344/2344 [==============================] - 7s 3ms/step - loss: 0.0774 - acc: 0.9731 - val_loss: 0.0958 - val_acc: 0.9710\n",
            "Epoch 54/200\n",
            "2344/2344 [==============================] - 6s 3ms/step - loss: 0.0769 - acc: 0.9733 - val_loss: 0.0953 - val_acc: 0.9710\n",
            "Epoch 55/200\n",
            "2344/2344 [==============================] - 7s 3ms/step - loss: 0.0769 - acc: 0.9732 - val_loss: 0.0957 - val_acc: 0.9708\n",
            "Epoch 56/200\n",
            "2344/2344 [==============================] - 6s 2ms/step - loss: 0.0765 - acc: 0.9735 - val_loss: 0.0963 - val_acc: 0.9710\n",
            "Epoch 57/200\n",
            "2344/2344 [==============================] - 6s 3ms/step - loss: 0.0771 - acc: 0.9729 - val_loss: 0.0935 - val_acc: 0.9703\n",
            "Epoch 58/200\n",
            "2344/2344 [==============================] - 6s 2ms/step - loss: 0.0767 - acc: 0.9734 - val_loss: 0.0933 - val_acc: 0.9709\n",
            "Epoch 59/200\n",
            "2344/2344 [==============================] - 7s 3ms/step - loss: 0.0773 - acc: 0.9732 - val_loss: 0.0924 - val_acc: 0.9705\n",
            "Epoch 60/200\n",
            "2344/2344 [==============================] - 6s 3ms/step - loss: 0.0767 - acc: 0.9735 - val_loss: 0.0943 - val_acc: 0.9692\n",
            "Epoch 61/200\n",
            "2344/2344 [==============================] - 7s 3ms/step - loss: 0.0769 - acc: 0.9732 - val_loss: 0.0959 - val_acc: 0.9700\n",
            "Epoch 62/200\n",
            "2344/2344 [==============================] - 6s 2ms/step - loss: 0.0765 - acc: 0.9734 - val_loss: 0.0948 - val_acc: 0.9707\n",
            "Epoch 63/200\n",
            "2344/2344 [==============================] - 6s 3ms/step - loss: 0.0769 - acc: 0.9735 - val_loss: 0.0924 - val_acc: 0.9703\n",
            "Epoch 64/200\n",
            "2344/2344 [==============================] - 6s 2ms/step - loss: 0.0764 - acc: 0.9734 - val_loss: 0.0911 - val_acc: 0.9702\n",
            "Epoch 65/200\n",
            "2344/2344 [==============================] - 7s 3ms/step - loss: 0.0761 - acc: 0.9735 - val_loss: 0.0970 - val_acc: 0.9708\n",
            "Epoch 66/200\n",
            "2344/2344 [==============================] - 6s 3ms/step - loss: 0.0765 - acc: 0.9736 - val_loss: 0.0973 - val_acc: 0.9707\n",
            "Epoch 67/200\n",
            "2344/2344 [==============================] - 6s 3ms/step - loss: 0.0764 - acc: 0.9736 - val_loss: 0.1024 - val_acc: 0.9703\n",
            "Epoch 68/200\n",
            "2344/2344 [==============================] - 7s 3ms/step - loss: 0.0778 - acc: 0.9732 - val_loss: 0.0936 - val_acc: 0.9706\n",
            "Epoch 69/200\n",
            "2344/2344 [==============================] - 6s 2ms/step - loss: 0.0765 - acc: 0.9736 - val_loss: 0.0911 - val_acc: 0.9699\n",
            "Epoch 70/200\n",
            "2344/2344 [==============================] - 6s 3ms/step - loss: 0.0779 - acc: 0.9730 - val_loss: 0.0928 - val_acc: 0.9699\n",
            "Epoch 71/200\n",
            "2344/2344 [==============================] - 6s 2ms/step - loss: 0.0761 - acc: 0.9735 - val_loss: 0.0930 - val_acc: 0.9706\n",
            "Epoch 72/200\n",
            "2344/2344 [==============================] - 6s 3ms/step - loss: 0.0763 - acc: 0.9736 - val_loss: 0.0953 - val_acc: 0.9708\n",
            "Epoch 73/200\n",
            "2344/2344 [==============================] - 6s 2ms/step - loss: 0.0765 - acc: 0.9734 - val_loss: 0.0943 - val_acc: 0.9705\n",
            "Epoch 74/200\n",
            "2344/2344 [==============================] - 7s 3ms/step - loss: 0.0765 - acc: 0.9735 - val_loss: 0.0964 - val_acc: 0.9695\n",
            "Epoch 75/200\n",
            "2344/2344 [==============================] - 6s 3ms/step - loss: 0.0762 - acc: 0.9734 - val_loss: 0.0985 - val_acc: 0.9700\n",
            "Epoch 76/200\n",
            "2344/2344 [==============================] - 7s 3ms/step - loss: 0.0763 - acc: 0.9738 - val_loss: 0.0978 - val_acc: 0.9705\n",
            "Epoch 77/200\n",
            "2344/2344 [==============================] - 6s 3ms/step - loss: 0.0767 - acc: 0.9733 - val_loss: 0.0984 - val_acc: 0.9706\n",
            "Epoch 78/200\n",
            "2344/2344 [==============================] - 7s 3ms/step - loss: 0.0762 - acc: 0.9734 - val_loss: 0.0956 - val_acc: 0.9701\n",
            "Epoch 79/200\n",
            "2344/2344 [==============================] - 6s 3ms/step - loss: 0.0764 - acc: 0.9732 - val_loss: 0.0994 - val_acc: 0.9701\n",
            "Epoch 80/200\n",
            "2344/2344 [==============================] - 6s 3ms/step - loss: 0.0766 - acc: 0.9734 - val_loss: 0.0934 - val_acc: 0.9699\n",
            "Epoch 81/200\n",
            "2344/2344 [==============================] - 6s 2ms/step - loss: 0.0763 - acc: 0.9736 - val_loss: 0.0935 - val_acc: 0.9709\n",
            "Epoch 82/200\n",
            "2344/2344 [==============================] - 7s 3ms/step - loss: 0.0766 - acc: 0.9735 - val_loss: 0.0972 - val_acc: 0.9706\n",
            "Epoch 83/200\n",
            "2344/2344 [==============================] - 6s 2ms/step - loss: 0.0759 - acc: 0.9738 - val_loss: 0.0992 - val_acc: 0.9699\n",
            "Epoch 84/200\n",
            "2344/2344 [==============================] - 7s 3ms/step - loss: 0.0762 - acc: 0.9737 - val_loss: 0.0987 - val_acc: 0.9702\n",
            "Epoch 85/200\n",
            "2344/2344 [==============================] - 6s 2ms/step - loss: 0.0764 - acc: 0.9734 - val_loss: 0.1093 - val_acc: 0.9672\n",
            "Epoch 86/200\n",
            "2344/2344 [==============================] - 6s 3ms/step - loss: 0.0770 - acc: 0.9731 - val_loss: 0.0918 - val_acc: 0.9698\n",
            "Epoch 87/200\n",
            "2344/2344 [==============================] - 7s 3ms/step - loss: 0.0762 - acc: 0.9735 - val_loss: 0.0913 - val_acc: 0.9700\n",
            "Epoch 88/200\n",
            "2344/2344 [==============================] - 6s 2ms/step - loss: 0.0762 - acc: 0.9736 - val_loss: 0.0901 - val_acc: 0.9708\n",
            "Epoch 89/200\n",
            "2344/2344 [==============================] - 7s 3ms/step - loss: 0.0761 - acc: 0.9737 - val_loss: 0.0935 - val_acc: 0.9695\n",
            "Epoch 90/200\n",
            "2344/2344 [==============================] - 5s 2ms/step - loss: 0.0761 - acc: 0.9736 - val_loss: 0.0954 - val_acc: 0.9700\n",
            "Epoch 91/200\n",
            "2344/2344 [==============================] - 6s 3ms/step - loss: 0.0772 - acc: 0.9734 - val_loss: 0.0995 - val_acc: 0.9702\n",
            "Epoch 92/200\n",
            "2344/2344 [==============================] - 6s 3ms/step - loss: 0.0760 - acc: 0.9737 - val_loss: 0.0997 - val_acc: 0.9705\n",
            "Epoch 93/200\n",
            "2344/2344 [==============================] - 6s 3ms/step - loss: 0.0755 - acc: 0.9740 - val_loss: 0.0949 - val_acc: 0.9704\n",
            "Epoch 94/200\n",
            "2344/2344 [==============================] - 6s 3ms/step - loss: 0.0761 - acc: 0.9739 - val_loss: 0.0965 - val_acc: 0.9695\n",
            "Epoch 95/200\n",
            "2344/2344 [==============================] - 6s 3ms/step - loss: 0.0773 - acc: 0.9732 - val_loss: 0.0948 - val_acc: 0.9701\n",
            "Epoch 96/200\n",
            "2344/2344 [==============================] - 6s 3ms/step - loss: 0.0768 - acc: 0.9731 - val_loss: 0.0953 - val_acc: 0.9708\n",
            "Epoch 97/200\n",
            "2344/2344 [==============================] - 7s 3ms/step - loss: 0.0756 - acc: 0.9737 - val_loss: 0.0934 - val_acc: 0.9700\n",
            "Epoch 98/200\n",
            "2344/2344 [==============================] - 6s 3ms/step - loss: 0.0771 - acc: 0.9735 - val_loss: 0.0908 - val_acc: 0.9705\n",
            "Epoch 99/200\n",
            "2344/2344 [==============================] - 7s 3ms/step - loss: 0.0763 - acc: 0.9734 - val_loss: 0.0988 - val_acc: 0.9702\n",
            "Epoch 100/200\n",
            "2344/2344 [==============================] - 6s 3ms/step - loss: 0.0760 - acc: 0.9737 - val_loss: 0.0909 - val_acc: 0.9705\n",
            "Epoch 101/200\n",
            "2344/2344 [==============================] - 6s 3ms/step - loss: 0.0763 - acc: 0.9735 - val_loss: 0.0977 - val_acc: 0.9698\n",
            "Epoch 102/200\n",
            "2344/2344 [==============================] - 7s 3ms/step - loss: 0.0761 - acc: 0.9737 - val_loss: 0.0989 - val_acc: 0.9700\n",
            "Epoch 103/200\n",
            "2344/2344 [==============================] - 6s 3ms/step - loss: 0.0760 - acc: 0.9735 - val_loss: 0.0967 - val_acc: 0.9710\n",
            "Epoch 104/200\n",
            "2344/2344 [==============================] - 6s 3ms/step - loss: 0.0761 - acc: 0.9738 - val_loss: 0.0929 - val_acc: 0.9706\n",
            "Epoch 105/200\n",
            "2344/2344 [==============================] - 6s 3ms/step - loss: 0.0760 - acc: 0.9735 - val_loss: 0.1004 - val_acc: 0.9694\n",
            "Epoch 106/200\n",
            "2344/2344 [==============================] - 6s 3ms/step - loss: 0.0756 - acc: 0.9736 - val_loss: 0.0989 - val_acc: 0.9697\n",
            "Epoch 107/200\n",
            "2344/2344 [==============================] - 6s 3ms/step - loss: 0.0754 - acc: 0.9737 - val_loss: 0.0995 - val_acc: 0.9708\n",
            "Epoch 108/200\n",
            "2344/2344 [==============================] - 7s 3ms/step - loss: 0.0761 - acc: 0.9732 - val_loss: 0.0960 - val_acc: 0.9705\n",
            "Epoch 109/200\n",
            "2344/2344 [==============================] - 6s 2ms/step - loss: 0.0758 - acc: 0.9736 - val_loss: 0.1003 - val_acc: 0.9709\n",
            "Epoch 110/200\n",
            "2344/2344 [==============================] - 7s 3ms/step - loss: 0.0758 - acc: 0.9739 - val_loss: 0.0923 - val_acc: 0.9702\n",
            "Epoch 111/200\n",
            "2344/2344 [==============================] - 6s 2ms/step - loss: 0.0757 - acc: 0.9737 - val_loss: 0.0939 - val_acc: 0.9706\n",
            "Epoch 112/200\n",
            "2344/2344 [==============================] - 6s 3ms/step - loss: 0.0756 - acc: 0.9737 - val_loss: 0.0998 - val_acc: 0.9698\n",
            "Epoch 113/200\n",
            "2344/2344 [==============================] - 7s 3ms/step - loss: 0.0759 - acc: 0.9737 - val_loss: 0.1024 - val_acc: 0.9706\n",
            "Epoch 114/200\n",
            "2344/2344 [==============================] - 7s 3ms/step - loss: 0.0766 - acc: 0.9735 - val_loss: 0.0946 - val_acc: 0.9703\n",
            "Epoch 115/200\n",
            "2344/2344 [==============================] - 6s 3ms/step - loss: 0.0757 - acc: 0.9738 - val_loss: 0.0985 - val_acc: 0.9707\n",
            "Epoch 116/200\n",
            "2344/2344 [==============================] - 6s 2ms/step - loss: 0.0755 - acc: 0.9737 - val_loss: 0.1019 - val_acc: 0.9698\n",
            "Epoch 117/200\n",
            "2344/2344 [==============================] - 7s 3ms/step - loss: 0.0756 - acc: 0.9739 - val_loss: 0.1046 - val_acc: 0.9679\n",
            "Epoch 118/200\n",
            "2344/2344 [==============================] - 7s 3ms/step - loss: 0.0753 - acc: 0.9737 - val_loss: 0.0986 - val_acc: 0.9696\n",
            "Epoch 119/200\n",
            "2344/2344 [==============================] - 7s 3ms/step - loss: 0.0767 - acc: 0.9738 - val_loss: 0.0934 - val_acc: 0.9706\n",
            "Epoch 120/200\n",
            "2344/2344 [==============================] - 6s 3ms/step - loss: 0.0756 - acc: 0.9737 - val_loss: 0.0998 - val_acc: 0.9708\n",
            "Epoch 121/200\n",
            "2344/2344 [==============================] - 7s 3ms/step - loss: 0.0757 - acc: 0.9737 - val_loss: 0.0992 - val_acc: 0.9703\n",
            "Epoch 122/200\n",
            "2344/2344 [==============================] - 8s 3ms/step - loss: 0.0755 - acc: 0.9737 - val_loss: 0.1082 - val_acc: 0.9696\n",
            "Epoch 123/200\n",
            "2344/2344 [==============================] - 6s 3ms/step - loss: 0.0765 - acc: 0.9738 - val_loss: 0.0910 - val_acc: 0.9705\n",
            "Epoch 124/200\n",
            "2344/2344 [==============================] - 7s 3ms/step - loss: 0.0762 - acc: 0.9734 - val_loss: 0.0984 - val_acc: 0.9702\n",
            "Epoch 125/200\n",
            "2344/2344 [==============================] - 7s 3ms/step - loss: 0.0755 - acc: 0.9736 - val_loss: 0.1002 - val_acc: 0.9695\n",
            "Epoch 126/200\n",
            "2344/2344 [==============================] - 7s 3ms/step - loss: 0.0754 - acc: 0.9739 - val_loss: 0.1054 - val_acc: 0.9701\n",
            "Epoch 127/200\n",
            "2344/2344 [==============================] - 6s 3ms/step - loss: 0.0758 - acc: 0.9736 - val_loss: 0.0973 - val_acc: 0.9699\n",
            "Epoch 128/200\n",
            "2344/2344 [==============================] - 7s 3ms/step - loss: 0.0759 - acc: 0.9736 - val_loss: 0.0939 - val_acc: 0.9698\n",
            "Epoch 129/200\n",
            "2344/2344 [==============================] - 6s 3ms/step - loss: 0.0755 - acc: 0.9737 - val_loss: 0.0924 - val_acc: 0.9710\n",
            "Epoch 130/200\n",
            "2344/2344 [==============================] - 6s 3ms/step - loss: 0.0758 - acc: 0.9734 - val_loss: 0.1028 - val_acc: 0.9696\n",
            "Epoch 131/200\n",
            "2344/2344 [==============================] - 6s 3ms/step - loss: 0.0755 - acc: 0.9739 - val_loss: 0.0974 - val_acc: 0.9693\n",
            "Epoch 132/200\n",
            "2344/2344 [==============================] - 6s 3ms/step - loss: 0.0750 - acc: 0.9740 - val_loss: 0.1002 - val_acc: 0.9702\n",
            "Epoch 133/200\n",
            "2344/2344 [==============================] - 7s 3ms/step - loss: 0.0760 - acc: 0.9737 - val_loss: 0.1094 - val_acc: 0.9708\n",
            "Epoch 134/200\n",
            "2344/2344 [==============================] - 7s 3ms/step - loss: 0.0759 - acc: 0.9738 - val_loss: 0.0994 - val_acc: 0.9707\n",
            "Epoch 135/200\n",
            "2344/2344 [==============================] - 7s 3ms/step - loss: 0.0752 - acc: 0.9740 - val_loss: 0.1039 - val_acc: 0.9706\n",
            "Epoch 136/200\n",
            "2344/2344 [==============================] - 6s 3ms/step - loss: 0.0760 - acc: 0.9737 - val_loss: 0.0949 - val_acc: 0.9698\n",
            "Epoch 137/200\n",
            "2344/2344 [==============================] - 7s 3ms/step - loss: 0.0753 - acc: 0.9737 - val_loss: 0.1006 - val_acc: 0.9706\n",
            "Epoch 138/200\n",
            "2344/2344 [==============================] - 6s 3ms/step - loss: 0.0752 - acc: 0.9739 - val_loss: 0.1024 - val_acc: 0.9696\n",
            "Epoch 139/200\n",
            "2344/2344 [==============================] - 7s 3ms/step - loss: 0.0763 - acc: 0.9735 - val_loss: 0.0949 - val_acc: 0.9709\n",
            "Epoch 140/200\n",
            "2344/2344 [==============================] - 8s 3ms/step - loss: 0.0764 - acc: 0.9735 - val_loss: 0.0958 - val_acc: 0.9696\n",
            "Epoch 141/200\n",
            "2344/2344 [==============================] - 6s 2ms/step - loss: 0.0756 - acc: 0.9737 - val_loss: 0.0961 - val_acc: 0.9702\n",
            "Epoch 142/200\n",
            "2344/2344 [==============================] - 7s 3ms/step - loss: 0.0748 - acc: 0.9741 - val_loss: 0.1049 - val_acc: 0.9702\n",
            "Epoch 143/200\n",
            "2344/2344 [==============================] - 7s 3ms/step - loss: 0.0758 - acc: 0.9736 - val_loss: 0.0979 - val_acc: 0.9698\n",
            "Epoch 144/200\n",
            "2344/2344 [==============================] - 7s 3ms/step - loss: 0.0762 - acc: 0.9734 - val_loss: 0.0941 - val_acc: 0.9701\n",
            "Epoch 145/200\n",
            "2344/2344 [==============================] - 6s 3ms/step - loss: 0.0746 - acc: 0.9741 - val_loss: 0.0924 - val_acc: 0.9696\n",
            "Epoch 146/200\n",
            "2344/2344 [==============================] - 7s 3ms/step - loss: 0.0753 - acc: 0.9738 - val_loss: 0.0996 - val_acc: 0.9703\n",
            "Epoch 147/200\n",
            "2344/2344 [==============================] - 6s 3ms/step - loss: 0.0753 - acc: 0.9738 - val_loss: 0.0963 - val_acc: 0.9688\n",
            "Epoch 148/200\n",
            "2344/2344 [==============================] - 7s 3ms/step - loss: 0.0755 - acc: 0.9737 - val_loss: 0.0933 - val_acc: 0.9700\n",
            "Epoch 149/200\n",
            "2344/2344 [==============================] - 7s 3ms/step - loss: 0.0762 - acc: 0.9735 - val_loss: 0.0982 - val_acc: 0.9700\n",
            "Epoch 150/200\n",
            "2344/2344 [==============================] - 6s 3ms/step - loss: 0.0749 - acc: 0.9742 - val_loss: 0.0989 - val_acc: 0.9704\n",
            "Epoch 151/200\n",
            "2344/2344 [==============================] - 7s 3ms/step - loss: 0.0752 - acc: 0.9739 - val_loss: 0.1037 - val_acc: 0.9692\n",
            "Epoch 152/200\n",
            "2344/2344 [==============================] - 6s 2ms/step - loss: 0.0762 - acc: 0.9738 - val_loss: 0.0998 - val_acc: 0.9705\n",
            "Epoch 153/200\n",
            "2344/2344 [==============================] - 8s 3ms/step - loss: 0.0749 - acc: 0.9739 - val_loss: 0.1099 - val_acc: 0.9678\n",
            "Epoch 154/200\n",
            "2344/2344 [==============================] - 6s 3ms/step - loss: 0.0755 - acc: 0.9740 - val_loss: 0.0941 - val_acc: 0.9704\n",
            "Epoch 155/200\n",
            "2344/2344 [==============================] - 7s 3ms/step - loss: 0.0746 - acc: 0.9741 - val_loss: 0.0997 - val_acc: 0.9696\n",
            "Epoch 156/200\n",
            "2344/2344 [==============================] - 6s 2ms/step - loss: 0.0757 - acc: 0.9736 - val_loss: 0.1027 - val_acc: 0.9692\n",
            "Epoch 157/200\n",
            "2344/2344 [==============================] - 7s 3ms/step - loss: 0.0755 - acc: 0.9738 - val_loss: 0.1055 - val_acc: 0.9700\n",
            "Epoch 158/200\n",
            "2344/2344 [==============================] - 6s 3ms/step - loss: 0.0756 - acc: 0.9738 - val_loss: 0.1021 - val_acc: 0.9695\n",
            "Epoch 159/200\n",
            "2344/2344 [==============================] - 7s 3ms/step - loss: 0.0756 - acc: 0.9737 - val_loss: 0.1062 - val_acc: 0.9698\n",
            "Epoch 160/200\n",
            "2344/2344 [==============================] - 8s 3ms/step - loss: 0.0749 - acc: 0.9740 - val_loss: 0.1055 - val_acc: 0.9704\n",
            "Epoch 161/200\n",
            "2344/2344 [==============================] - 6s 3ms/step - loss: 0.0755 - acc: 0.9740 - val_loss: 0.0987 - val_acc: 0.9692\n",
            "Epoch 162/200\n",
            "2344/2344 [==============================] - 7s 3ms/step - loss: 0.0753 - acc: 0.9739 - val_loss: 0.0999 - val_acc: 0.9692\n",
            "Epoch 163/200\n",
            "2344/2344 [==============================] - 6s 3ms/step - loss: 0.0751 - acc: 0.9738 - val_loss: 0.0977 - val_acc: 0.9704\n",
            "Epoch 164/200\n",
            "2344/2344 [==============================] - 7s 3ms/step - loss: 0.0752 - acc: 0.9737 - val_loss: 0.1009 - val_acc: 0.9706\n",
            "Epoch 165/200\n",
            "2344/2344 [==============================] - 6s 3ms/step - loss: 0.0750 - acc: 0.9739 - val_loss: 0.1015 - val_acc: 0.9703\n",
            "Epoch 166/200\n",
            "2344/2344 [==============================] - 7s 3ms/step - loss: 0.0754 - acc: 0.9739 - val_loss: 0.0932 - val_acc: 0.9704\n",
            "Epoch 167/200\n",
            "2344/2344 [==============================] - 6s 3ms/step - loss: 0.0746 - acc: 0.9740 - val_loss: 0.0957 - val_acc: 0.9699\n",
            "Epoch 168/200\n",
            "2344/2344 [==============================] - 7s 3ms/step - loss: 0.0749 - acc: 0.9740 - val_loss: 0.0970 - val_acc: 0.9698\n",
            "Epoch 169/200\n",
            "2344/2344 [==============================] - 6s 2ms/step - loss: 0.0752 - acc: 0.9739 - val_loss: 0.1022 - val_acc: 0.9699\n",
            "Epoch 170/200\n",
            "2344/2344 [==============================] - 7s 3ms/step - loss: 0.0759 - acc: 0.9736 - val_loss: 0.0941 - val_acc: 0.9701\n",
            "Epoch 171/200\n",
            "2344/2344 [==============================] - 6s 3ms/step - loss: 0.0753 - acc: 0.9738 - val_loss: 0.0986 - val_acc: 0.9701\n",
            "Epoch 172/200\n",
            "2344/2344 [==============================] - 6s 3ms/step - loss: 0.0751 - acc: 0.9740 - val_loss: 0.0951 - val_acc: 0.9703\n",
            "Epoch 173/200\n",
            "2344/2344 [==============================] - 7s 3ms/step - loss: 0.0748 - acc: 0.9740 - val_loss: 0.1038 - val_acc: 0.9696\n",
            "Epoch 174/200\n",
            "2344/2344 [==============================] - 6s 3ms/step - loss: 0.0751 - acc: 0.9738 - val_loss: 0.1057 - val_acc: 0.9685\n",
            "Epoch 175/200\n",
            "2344/2344 [==============================] - 7s 3ms/step - loss: 0.0757 - acc: 0.9739 - val_loss: 0.0940 - val_acc: 0.9700\n",
            "Epoch 176/200\n",
            "2344/2344 [==============================] - 6s 3ms/step - loss: 0.0746 - acc: 0.9738 - val_loss: 0.0982 - val_acc: 0.9694\n",
            "Epoch 177/200\n",
            "2344/2344 [==============================] - 7s 3ms/step - loss: 0.0752 - acc: 0.9738 - val_loss: 0.0971 - val_acc: 0.9700\n",
            "Epoch 178/200\n",
            "2344/2344 [==============================] - 6s 3ms/step - loss: 0.0749 - acc: 0.9740 - val_loss: 0.0979 - val_acc: 0.9690\n",
            "Epoch 179/200\n",
            "2344/2344 [==============================] - 7s 3ms/step - loss: 0.0749 - acc: 0.9737 - val_loss: 0.0994 - val_acc: 0.9699\n",
            "Epoch 180/200\n",
            "2344/2344 [==============================] - 7s 3ms/step - loss: 0.0753 - acc: 0.9737 - val_loss: 0.0955 - val_acc: 0.9698\n",
            "Epoch 181/200\n",
            "2344/2344 [==============================] - 6s 3ms/step - loss: 0.0748 - acc: 0.9738 - val_loss: 0.0984 - val_acc: 0.9700\n",
            "Epoch 182/200\n",
            "2344/2344 [==============================] - 7s 3ms/step - loss: 0.0752 - acc: 0.9739 - val_loss: 0.1028 - val_acc: 0.9673\n",
            "Epoch 183/200\n",
            "2344/2344 [==============================] - 6s 3ms/step - loss: 0.0753 - acc: 0.9738 - val_loss: 0.0988 - val_acc: 0.9699\n",
            "Epoch 184/200\n",
            "2344/2344 [==============================] - 7s 3ms/step - loss: 0.0751 - acc: 0.9739 - val_loss: 0.0959 - val_acc: 0.9700\n",
            "Epoch 185/200\n",
            "2344/2344 [==============================] - 6s 3ms/step - loss: 0.0751 - acc: 0.9738 - val_loss: 0.1000 - val_acc: 0.9703\n",
            "Epoch 186/200\n",
            "2344/2344 [==============================] - 7s 3ms/step - loss: 0.0753 - acc: 0.9736 - val_loss: 0.0998 - val_acc: 0.9702\n",
            "Epoch 187/200\n",
            "2344/2344 [==============================] - 6s 3ms/step - loss: 0.0744 - acc: 0.9742 - val_loss: 0.1065 - val_acc: 0.9698\n",
            "Epoch 188/200\n",
            "2344/2344 [==============================] - 6s 3ms/step - loss: 0.0756 - acc: 0.9738 - val_loss: 0.0986 - val_acc: 0.9678\n",
            "Epoch 189/200\n",
            "2344/2344 [==============================] - 6s 2ms/step - loss: 0.0753 - acc: 0.9739 - val_loss: 0.0982 - val_acc: 0.9706\n",
            "Epoch 190/200\n",
            "2344/2344 [==============================] - 7s 3ms/step - loss: 0.0749 - acc: 0.9740 - val_loss: 0.0979 - val_acc: 0.9700\n",
            "Epoch 191/200\n",
            "2344/2344 [==============================] - 6s 3ms/step - loss: 0.0751 - acc: 0.9740 - val_loss: 0.0988 - val_acc: 0.9698\n",
            "Epoch 192/200\n",
            "2344/2344 [==============================] - 6s 3ms/step - loss: 0.0749 - acc: 0.9741 - val_loss: 0.0978 - val_acc: 0.9703\n",
            "Epoch 193/200\n",
            "2344/2344 [==============================] - 6s 3ms/step - loss: 0.0763 - acc: 0.9736 - val_loss: 0.0939 - val_acc: 0.9697\n",
            "Epoch 194/200\n",
            "2344/2344 [==============================] - 7s 3ms/step - loss: 0.0749 - acc: 0.9741 - val_loss: 0.0954 - val_acc: 0.9702\n",
            "Epoch 195/200\n",
            "2344/2344 [==============================] - 8s 3ms/step - loss: 0.0765 - acc: 0.9735 - val_loss: 0.0978 - val_acc: 0.9703\n",
            "Epoch 196/200\n",
            "2344/2344 [==============================] - 6s 2ms/step - loss: 0.0745 - acc: 0.9742 - val_loss: 0.0980 - val_acc: 0.9698\n",
            "Epoch 197/200\n",
            "2344/2344 [==============================] - 6s 3ms/step - loss: 0.0758 - acc: 0.9736 - val_loss: 0.1011 - val_acc: 0.9701\n",
            "Epoch 198/200\n",
            "2344/2344 [==============================] - 6s 2ms/step - loss: 0.0742 - acc: 0.9740 - val_loss: 0.0988 - val_acc: 0.9702\n",
            "Epoch 199/200\n",
            "2344/2344 [==============================] - 7s 3ms/step - loss: 0.0744 - acc: 0.9742 - val_loss: 0.1025 - val_acc: 0.9705\n",
            "Epoch 200/200\n",
            "2344/2344 [==============================] - 6s 3ms/step - loss: 0.0748 - acc: 0.9742 - val_loss: 0.0991 - val_acc: 0.9701\n"
          ]
        },
        {
          "output_type": "execute_result",
          "data": {
            "text/plain": [
              "<Figure size 1200x400 with 0 Axes>"
            ]
          },
          "metadata": {},
          "execution_count": 103
        },
        {
          "output_type": "execute_result",
          "data": {
            "text/plain": [
              "<Axes: >"
            ]
          },
          "metadata": {},
          "execution_count": 103
        },
        {
          "output_type": "execute_result",
          "data": {
            "text/plain": [
              "[<matplotlib.lines.Line2D at 0x786f73c3ed10>]"
            ]
          },
          "metadata": {},
          "execution_count": 103
        },
        {
          "output_type": "execute_result",
          "data": {
            "text/plain": [
              "[<matplotlib.lines.Line2D at 0x786f73c3c700>]"
            ]
          },
          "metadata": {},
          "execution_count": 103
        },
        {
          "output_type": "execute_result",
          "data": {
            "text/plain": [
              "Text(0.5, 0, 'Epoch')"
            ]
          },
          "metadata": {},
          "execution_count": 103
        },
        {
          "output_type": "execute_result",
          "data": {
            "text/plain": [
              "Text(0, 0.5, 'Loss')"
            ]
          },
          "metadata": {},
          "execution_count": 103
        },
        {
          "output_type": "execute_result",
          "data": {
            "text/plain": [
              "Text(0.5, 1.0, 'Loss Over Epochs')"
            ]
          },
          "metadata": {},
          "execution_count": 103
        },
        {
          "output_type": "execute_result",
          "data": {
            "text/plain": [
              "<matplotlib.legend.Legend at 0x786f73d9b820>"
            ]
          },
          "metadata": {},
          "execution_count": 103
        },
        {
          "output_type": "execute_result",
          "data": {
            "text/plain": [
              "<Axes: >"
            ]
          },
          "metadata": {},
          "execution_count": 103
        },
        {
          "output_type": "execute_result",
          "data": {
            "text/plain": [
              "[<matplotlib.lines.Line2D at 0x786f73de3eb0>]"
            ]
          },
          "metadata": {},
          "execution_count": 103
        },
        {
          "output_type": "execute_result",
          "data": {
            "text/plain": [
              "[<matplotlib.lines.Line2D at 0x786f73de3d60>]"
            ]
          },
          "metadata": {},
          "execution_count": 103
        },
        {
          "output_type": "execute_result",
          "data": {
            "text/plain": [
              "Text(0.5, 0, 'Epoch')"
            ]
          },
          "metadata": {},
          "execution_count": 103
        },
        {
          "output_type": "execute_result",
          "data": {
            "text/plain": [
              "Text(0, 0.5, 'Accuracy')"
            ]
          },
          "metadata": {},
          "execution_count": 103
        },
        {
          "output_type": "execute_result",
          "data": {
            "text/plain": [
              "Text(0.5, 1.0, 'Accuracy Over Epochs')"
            ]
          },
          "metadata": {},
          "execution_count": 103
        },
        {
          "output_type": "execute_result",
          "data": {
            "text/plain": [
              "<matplotlib.legend.Legend at 0x786f73c64340>"
            ]
          },
          "metadata": {},
          "execution_count": 103
        },
        {
          "output_type": "display_data",
          "data": {
            "text/plain": [
              "<Figure size 1200x400 with 2 Axes>"
            ],
            "image/png": "[encoded data removed]"
          },
          "metadata": {}
        }
      ]
    },
    {
      "cell_type": "markdown",
      "source": [
        "## Making Predictions:"
      ],
      "metadata": {
        "id": "rtQp4xT3Mg3v"
      }
    },
    {
      "cell_type": "code",
      "source": [
        "pred = model.predict(X_test)"
      ],
      "metadata": {
        "colab": {
          "base_uri": "https://localhost:8080/"
        },
        "id": "pLTrrrSm5wFE",
        "outputId": "2db3b734-5242-4876-a3de-2a14c044d063"
      },
      "execution_count": 104,
      "outputs": [
        {
          "output_type": "stream",
          "name": "stdout",
          "text": [
            "782/782 [==============================] - 1s 1ms/step\n"
          ]
        }
      ]
    },
    {
      "cell_type": "code",
      "source": [
        "pred"
      ],
      "metadata": {
        "colab": {
          "base_uri": "https://localhost:8080/"
        },
        "id": "XjiPyV87JmUX",
        "outputId": "e0e67925-80f1-4961-b9a0-bdfa088d56a3"
      },
      "execution_count": 105,
      "outputs": [
        {
          "output_type": "execute_result",
          "data": {
            "text/plain": [
              "array([[0.0000000e+00],\n",
              "       [6.6275728e-16],\n",
              "       [1.8578403e-02],\n",
              "       ...,\n",
              "       [4.6715721e-02],\n",
              "       [1.7401408e-02],\n",
              "       [1.8218079e-25]], dtype=float32)"
            ]
          },
          "metadata": {},
          "execution_count": 105
        }
      ]
    },
    {
      "cell_type": "code",
      "source": [
        "xy=np.round(pred)\n",
        "z=xy.flatten()"
      ],
      "metadata": {
        "id": "n0HJ98KbJpSn"
      },
      "execution_count": 106,
      "outputs": []
    },
    {
      "cell_type": "markdown",
      "source": [
        "## Calculating Accuracy:"
      ],
      "metadata": {
        "id": "iN8eYXG2MmFw"
      }
    },
    {
      "cell_type": "code",
      "source": [
        "(z==y_test).sum()/len(y_test)"
      ],
      "metadata": {
        "colab": {
          "base_uri": "https://localhost:8080/"
        },
        "id": "VLe0j9PNKAWE",
        "outputId": "8bafce10-30bf-4a33-9b46-43a7ef3b945a"
      },
      "execution_count": 107,
      "outputs": [
        {
          "output_type": "execute_result",
          "data": {
            "text/plain": [
              "0.97012"
            ]
          },
          "metadata": {},
          "execution_count": 107
        }
      ]
    },
    {
      "cell_type": "code",
      "source": [
        "y_test.values.reshape(-1,1)"
      ],
      "metadata": {
        "colab": {
          "base_uri": "https://localhost:8080/"
        },
        "id": "Y86XlejIKDR6",
        "outputId": "c420c959-b929-467b-a177-36f8d769c3ab"
      },
      "execution_count": 108,
      "outputs": [
        {
          "output_type": "execute_result",
          "data": {
            "text/plain": [
              "array([[0],\n",
              "       [0],\n",
              "       [0],\n",
              "       ...,\n",
              "       [0],\n",
              "       [0],\n",
              "       [0]])"
            ]
          },
          "metadata": {},
          "execution_count": 108
        }
      ]
    },
    {
      "cell_type": "code",
      "source": [
        "# Calculate accuracy\n",
        "accuracy = (z == y_test).sum() / len(y_test)\n",
        "\n",
        "# Plotting accuracy\n",
        "plt.figure(figsize=(8, 6))\n",
        "plt.bar(['Accuracy'], [accuracy])\n",
        "plt.ylim(0, 1)\n",
        "plt.title('Model Accuracy')\n",
        "plt.ylabel('Accuracy')\n",
        "plt.show()\n"
      ],
      "metadata": {
        "colab": {
          "base_uri": "https://localhost:8080/",
          "height": 562
        },
        "id": "Yan2c77SKG7M",
        "outputId": "5c8ca2a7-44ab-4b0c-eeee-76d6a090eb80"
      },
      "execution_count": 109,
      "outputs": [
        {
          "output_type": "execute_result",
          "data": {
            "text/plain": [
              "<Figure size 800x600 with 0 Axes>"
            ]
          },
          "metadata": {},
          "execution_count": 109
        },
        {
          "output_type": "execute_result",
          "data": {
            "text/plain": [
              "<BarContainer object of 1 artists>"
            ]
          },
          "metadata": {},
          "execution_count": 109
        },
        {
          "output_type": "execute_result",
          "data": {
            "text/plain": [
              "(0.0, 1.0)"
            ]
          },
          "metadata": {},
          "execution_count": 109
        },
        {
          "output_type": "execute_result",
          "data": {
            "text/plain": [
              "Text(0.5, 1.0, 'Model Accuracy')"
            ]
          },
          "metadata": {},
          "execution_count": 109
        },
        {
          "output_type": "execute_result",
          "data": {
            "text/plain": [
              "Text(0, 0.5, 'Accuracy')"
            ]
          },
          "metadata": {},
          "execution_count": 109
        },
        {
          "output_type": "display_data",
          "data": {
            "text/plain": [
              "<Figure size 800x600 with 1 Axes>"
            ],
            "image/png": "[encoded data removed]"
          },
          "metadata": {}
        }
      ]
    },
    {
      "cell_type": "code",
      "source": [
        "from sklearn.metrics import roc_curve, auc\n",
        "\n",
        "fpr, tpr, thresholds = roc_curve(y_test, pred)\n",
        "roc_auc = auc(fpr, tpr)\n",
        "\n",
        "plt.figure(figsize=(6, 6))\n",
        "plt.plot(fpr, tpr, color='darkorange', lw=2, label='ROC curve (area = %0.2f)' % roc_auc)\n",
        "plt.plot([0, 1], [0, 1], color='navy', lw=2, linestyle='--')\n",
        "plt.xlim([0.0, 1.0])\n",
        "plt.ylim([0.0, 1.05])\n",
        "plt.xlabel('False Positive Rate')\n",
        "plt.ylabel('True Positive Rate')\n",
        "plt.title('Receiver Operating Characteristic')\n",
        "plt.legend(loc='lower right')\n",
        "plt.show()\n"
      ],
      "metadata": {
        "colab": {
          "base_uri": "https://localhost:8080/",
          "height": 599
        },
        "id": "JmDiAQVKM0Q2",
        "outputId": "f979b69b-938a-4150-8f95-e3cc9e9570d5"
      },
      "execution_count": 110,
      "outputs": [
        {
          "output_type": "execute_result",
          "data": {
            "text/plain": [
              "<Figure size 600x600 with 0 Axes>"
            ]
          },
          "metadata": {},
          "execution_count": 110
        },
        {
          "output_type": "execute_result",
          "data": {
            "text/plain": [
              "[<matplotlib.lines.Line2D at 0x786f73b71240>]"
            ]
          },
          "metadata": {},
          "execution_count": 110
        },
        {
          "output_type": "execute_result",
          "data": {
            "text/plain": [
              "[<matplotlib.lines.Line2D at 0x786f73b70310>]"
            ]
          },
          "metadata": {},
          "execution_count": 110
        },
        {
          "output_type": "execute_result",
          "data": {
            "text/plain": [
              "(0.0, 1.0)"
            ]
          },
          "metadata": {},
          "execution_count": 110
        },
        {
          "output_type": "execute_result",
          "data": {
            "text/plain": [
              "(0.0, 1.05)"
            ]
          },
          "metadata": {},
          "execution_count": 110
        },
        {
          "output_type": "execute_result",
          "data": {
            "text/plain": [
              "Text(0.5, 0, 'False Positive Rate')"
            ]
          },
          "metadata": {},
          "execution_count": 110
        },
        {
          "output_type": "execute_result",
          "data": {
            "text/plain": [
              "Text(0, 0.5, 'True Positive Rate')"
            ]
          },
          "metadata": {},
          "execution_count": 110
        },
        {
          "output_type": "execute_result",
          "data": {
            "text/plain": [
              "Text(0.5, 1.0, 'Receiver Operating Characteristic')"
            ]
          },
          "metadata": {},
          "execution_count": 110
        },
        {
          "output_type": "execute_result",
          "data": {
            "text/plain": [
              "<matplotlib.legend.Legend at 0x786f73bed6c0>"
            ]
          },
          "metadata": {},
          "execution_count": 110
        },
        {
          "output_type": "display_data",
          "data": {
            "text/plain": [
              "<Figure size 600x600 with 1 Axes>"
            ],
            "image/png": "[encoded data removed]"
          },
          "metadata": {}
        }
      ]
    },
    {
      "cell_type": "code",
      "source": [
        "from sklearn.metrics import confusion_matrix\n",
        "import seaborn as sns\n",
        "\n",
        "cm = confusion_matrix(y_test, z)\n",
        "plt.figure(figsize=(6, 6))\n",
        "sns.heatmap(cm, annot=True, fmt='d', cmap='Blues')\n",
        "plt.title('Confusion Matrix')\n",
        "plt.xlabel('Predicted')\n",
        "plt.ylabel('Actual')\n",
        "plt.show()\n"
      ],
      "metadata": {
        "colab": {
          "base_uri": "https://localhost:8080/",
          "height": 581
        },
        "id": "6YkFdYDiSXfS",
        "outputId": "b6dd7ec2-50ca-4316-c5da-89b094708aea"
      },
      "execution_count": 111,
      "outputs": [
        {
          "output_type": "execute_result",
          "data": {
            "text/plain": [
              "<Figure size 600x600 with 0 Axes>"
            ]
          },
          "metadata": {},
          "execution_count": 111
        },
        {
          "output_type": "execute_result",
          "data": {
            "text/plain": [
              "<Axes: >"
            ]
          },
          "metadata": {},
          "execution_count": 111
        },
        {
          "output_type": "execute_result",
          "data": {
            "text/plain": [
              "Text(0.5, 1.0, 'Confusion Matrix')"
            ]
          },
          "metadata": {},
          "execution_count": 111
        },
        {
          "output_type": "execute_result",
          "data": {
            "text/plain": [
              "Text(0.5, 36.72222222222221, 'Predicted')"
            ]
          },
          "metadata": {},
          "execution_count": 111
        },
        {
          "output_type": "execute_result",
          "data": {
            "text/plain": [
              "Text(45.722222222222214, 0.5, 'Actual')"
            ]
          },
          "metadata": {},
          "execution_count": 111
        },
        {
          "output_type": "display_data",
          "data": {
            "text/plain": [
              "<Figure size 600x600 with 2 Axes>"
            ],
            "image/png": "[encoded data removed]"
          },
          "metadata": {}
        }
      ]
    },
    {
      "cell_type": "code",
      "source": [
        "pip install shap\n"
      ],
      "metadata": {
        "colab": {
          "base_uri": "https://localhost:8080/"
        },
        "id": "8DwR5cG0VTEs",
        "outputId": "aa02d749-84ef-494c-ec60-0dbb3934f611"
      },
      "execution_count": 118,
      "outputs": [
        {
          "output_type": "stream",
          "name": "stdout",
          "text": [
            "Collecting shap\n",
            "  Downloading shap-0.42.1-cp310-cp310-manylinux_2_12_x86_64.manylinux2010_x86_64.manylinux_2_17_x86_64.manylinux2014_x86_64.whl (547 kB)\n",
            "\u001b[?25l     \u001b[90m━━━━━━━━━━━━━━━━━━━━━━━━━━━━━━━━━━━━━━━━\u001b[0m \u001b[32m0.0/547.9 kB\u001b[0m \u001b[31m?\u001b[0m eta \u001b[36m-:--:--\u001b[0m\r\u001b[2K     \u001b[91m━━━━━━━━\u001b[0m\u001b[90m╺\u001b[0m\u001b[90m━━━━━━━━━━━━━━━━━━━━━━━━━━━━━━\u001b[0m \u001b[32m112.6/547.9 kB\u001b[0m \u001b[31m3.1 MB/s\u001b[0m eta \u001b[36m0:00:01\u001b[0m\r\u001b[2K     \u001b[90m━━━━━━━━━━━━━━━━━━━━━━━━━━━━━━━━━━━━━━━\u001b[0m \u001b[32m547.9/547.9 kB\u001b[0m \u001b[31m8.7 MB/s\u001b[0m eta \u001b[36m0:00:00\u001b[0m\n",
            "\u001b[?25hRequirement already satisfied: numpy in /usr/local/lib/python3.10/dist-packages (from shap) (1.23.5)\n",
            "Requirement already satisfied: scipy in /usr/local/lib/python3.10/dist-packages (from shap) (1.10.1)\n",
            "Requirement already satisfied: scikit-learn in /usr/local/lib/python3.10/dist-packages (from shap) (1.2.2)\n",
            "Requirement already satisfied: pandas in /usr/local/lib/python3.10/dist-packages (from shap) (1.5.3)\n",
            "Requirement already satisfied: tqdm>=4.27.0 in /usr/local/lib/python3.10/dist-packages (from shap) (4.66.1)\n",
            "Requirement already satisfied: packaging>20.9 in /usr/local/lib/python3.10/dist-packages (from shap) (23.1)\n",
            "Collecting slicer==0.0.7 (from shap)\n",
            "  Downloading slicer-0.0.7-py3-none-any.whl (14 kB)\n",
            "Requirement already satisfied: numba in /usr/local/lib/python3.10/dist-packages (from shap) (0.56.4)\n",
            "Requirement already satisfied: cloudpickle in /usr/local/lib/python3.10/dist-packages (from shap) (2.2.1)\n",
            "Requirement already satisfied: llvmlite<0.40,>=0.39.0dev0 in /usr/local/lib/python3.10/dist-packages (from numba->shap) (0.39.1)\n",
            "Requirement already satisfied: setuptools in /usr/local/lib/python3.10/dist-packages (from numba->shap) (67.7.2)\n",
            "Requirement already satisfied: python-dateutil>=2.8.1 in /usr/local/lib/python3.10/dist-packages (from pandas->shap) (2.8.2)\n",
            "Requirement already satisfied: pytz>=2020.1 in /usr/local/lib/python3.10/dist-packages (from pandas->shap) (2023.3)\n",
            "Requirement already satisfied: joblib>=1.1.1 in /usr/local/lib/python3.10/dist-packages (from scikit-learn->shap) (1.3.2)\n",
            "Requirement already satisfied: threadpoolctl>=2.0.0 in /usr/local/lib/python3.10/dist-packages (from scikit-learn->shap) (3.2.0)\n",
            "Requirement already satisfied: six>=1.5 in /usr/local/lib/python3.10/dist-packages (from python-dateutil>=2.8.1->pandas->shap) (1.16.0)\n",
            "Installing collected packages: slicer, shap\n",
            "Successfully installed shap-0.42.1 slicer-0.0.7\n"
          ]
        }
      ]
    },
    {
      "cell_type": "markdown",
      "source": [
        "## Feature importance"
      ],
      "metadata": {
        "id": "T1SE-29CYSJl"
      }
    },
    {
      "cell_type": "code",
      "source": [
        "import shap\n",
        "\n",
        "# Create an explainer for the model\n",
        "explainer = shap.Explainer(model, X_train)\n",
        "\n",
        "# Calculate SHAP values for the entire test set\n",
        "shap_values = explainer(X_test)\n",
        "\n",
        "# Plot feature importance summary\n",
        "shap.summary_plot(shap_values, X_test, feature_names=data.columns, plot_type='bar')\n"
      ],
      "metadata": {
        "colab": {
          "base_uri": "https://localhost:8080/",
          "height": 511
        },
        "id": "2LB1RhicVOYe",
        "outputId": "5d5b71b0-6a82-444e-c78d-69106a34b208"
      },
      "execution_count": 119,
      "outputs": [
        {
          "output_type": "stream",
          "name": "stderr",
          "text": [
            "Using `tqdm.autonotebook.tqdm` in notebook mode. Use `tqdm.tqdm` instead to force console mode (e.g. in jupyter console)\n",
            "Exact explainer: 25001it [11:43, 35.26it/s]                           \n"
          ]
        },
        {
          "output_type": "display_data",
          "data": {
            "text/plain": [
              "<Figure size 800x470 with 1 Axes>"
            ],
            "image/png": "[encoded data removed]"
          },
          "metadata": {}
        }
      ]
    }
  ]
}