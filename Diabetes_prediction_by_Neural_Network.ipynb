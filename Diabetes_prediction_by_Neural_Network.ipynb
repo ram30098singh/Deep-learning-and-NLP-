{
  "nbformat": 4,
  "nbformat_minor": 0,
  "metadata": {
    "colab": {
      "provenance": [],
      "authorship_tag": "ABX9TyPtDZckBaZNhK8QKWWd0Tw9",
      "include_colab_link": true
    },
    "kernelspec": {
      "name": "python3",
      "display_name": "Python 3"
    },
    "language_info": {
      "name": "python"
    }
  },
  "cells": [
    {
      "cell_type": "markdown",
      "metadata": {
        "id": "view-in-github",
        "colab_type": "text"
      },
      "source": [
        "<a href=\"https://colab.research.google.com/github/ram30098singh/Deep-learning-and-NLP-/blob/main/Diabetes_prediction_by_Neural_Network.ipynb\" target=\"_parent\"><img src=\"https://colab.research.google.com/assets/colab-badge.svg\" alt=\"Open In Colab\"/></a>"
      ]
    },
    {
      "cell_type": "markdown",
      "source": [
        "# Diabetes prediction dataset"
      ],
      "metadata": {
        "id": "PSZvdeXRxNQa"
      }
    },
    {
      "cell_type": "markdown",
      "source": [
        "## About Dataset\n",
        "The Diabetes prediction dataset is a collection of medical and demographic data from patients, along with their diabetes status (positive or negative). The data includes features such as age, gender, body mass index (BMI), hypertension, heart disease, smoking history, HbA1c level, and blood glucose level."
      ],
      "metadata": {
        "id": "8TiAqjAmxSUz"
      }
    },
    {
      "cell_type": "markdown",
      "source": [
        "# Table of Contents\n",
        "\n",
        "1. Objective\n",
        "\n",
        "2. Import the libraries\n",
        "\n",
        "3. Dataset Description\n",
        "\n",
        "4. Exploratory data analysis(EDA)\n",
        "\n",
        "5. Data preprocessing\n",
        "\n",
        "6. Building the Neural Network Model\n",
        "\n",
        "7. Making Predictions\n",
        "\n",
        "8. Calculating Accuracy\n",
        "\n",
        "9. visualization with the help of different graph\n",
        "\n",
        "   a.) Loss and Accuracy Curves\n",
        "\n",
        "   b.) Receiver Operating Characteristic (ROC) Curve\n",
        "\n",
        "   c.) Confusion Matrix\n",
        "\n",
        "10. Feature importance"
      ],
      "metadata": {
        "id": "dfRIG0x4xbs_"
      }
    },
    {
      "cell_type": "markdown",
      "source": [
        "# Objective\n",
        "This dataset will be used to build  models to predict diabetes in patients based on their medical history and demographic information.\n",
        "\n",
        "1. This can be useful for healthcare professionals in identifying patients who may be at risk of developing diabetes and in developing personalized treatment plans.\n",
        "\n",
        "2. The dataset can be used by researchers to explore the relationships between various medical and demographic factors and the likelihood of developing diabetes."
      ],
      "metadata": {
        "id": "J3cOh1-Sxw8o"
      }
    },
    {
      "cell_type": "markdown",
      "source": [
        "Import the libraries\n",
        "\n"
      ],
      "metadata": {
        "id": "qFwLEEejxxB2"
      }
    },
    {
      "cell_type": "code",
      "execution_count": 1,
      "metadata": {
        "id": "9Q8vOKQNt-ZC"
      },
      "outputs": [],
      "source": [
        "import pandas as pd\n",
        "from sklearn.preprocessing import StandardScaler, MinMaxScaler\n",
        "from sklearn.preprocessing import LabelEncoder, OneHotEncoder\n",
        "from sklearn.model_selection import train_test_split\n",
        "from  pathlib import Path\n",
        "\n",
        "import tensorflow as tf\n",
        "from tensorflow import keras\n",
        "from tensorflow.keras import layers\n",
        "\n",
        "import numpy as np\n",
        "import matplotlib.pyplot as plt"
      ]
    },
    {
      "cell_type": "code",
      "source": [
        "from IPython.core.interactiveshell import InteractiveShell\n",
        "InteractiveShell.ast_node_interactivity = \"all\""
      ],
      "metadata": {
        "id": "zz4pIhClvlhg"
      },
      "execution_count": 2,
      "outputs": []
    },
    {
      "cell_type": "code",
      "source": [
        "# diabetes_prediction_dataset\n",
        "data = pd.read_csv(\"https://raw.githubusercontent.com/ram30098singh/Deep-learning-and-NLP-/main/diabetes_prediction_dataset.csv\")"
      ],
      "metadata": {
        "id": "tg956yrsvo2B"
      },
      "execution_count": 3,
      "outputs": []
    },
    {
      "cell_type": "markdown",
      "source": [
        "## Loading and Explore the dataset"
      ],
      "metadata": {
        "id": "YQBXrZAlwQld"
      }
    },
    {
      "cell_type": "code",
      "source": [
        "data.shape\n",
        "data.head()"
      ],
      "metadata": {
        "colab": {
          "base_uri": "https://localhost:8080/",
          "height": 223
        },
        "id": "Wx5qLs7Vv9P-",
        "outputId": "f85337ce-a724-4024-86d3-f14acbca3d8c"
      },
      "execution_count": 4,
      "outputs": [
        {
          "output_type": "execute_result",
          "data": {
            "text/plain": [
              "(100000, 9)"
            ]
          },
          "metadata": {},
          "execution_count": 4
        },
        {
          "output_type": "execute_result",
          "data": {
            "text/plain": [
              "   gender   age  hypertension  heart_disease smoking_history    bmi  \\\n",
              "0  Female  80.0             0              1           never  25.19   \n",
              "1  Female  54.0             0              0         No Info  27.32   \n",
              "2    Male  28.0             0              0           never  27.32   \n",
              "3  Female  36.0             0              0         current  23.45   \n",
              "4    Male  76.0             1              1         current  20.14   \n",
              "\n",
              "   HbA1c_level  blood_glucose_level  diabetes  \n",
              "0          6.6                  140         0  \n",
              "1          6.6                   80         0  \n",
              "2          5.7                  158         0  \n",
              "3          5.0                  155         0  \n",
              "4          4.8                  155         0  "
            ],
            "text/html": [
              "\n",
              "  <div id=\"df-c1389037-36df-4988-b1f4-e2e40381cde0\" class=\"colab-df-container\">\n",
              "    <div>\n",
              "<style scoped>\n",
              "    .dataframe tbody tr th:only-of-type {\n",
              "        vertical-align: middle;\n",
              "    }\n",
              "\n",
              "    .dataframe tbody tr th {\n",
              "        vertical-align: top;\n",
              "    }\n",
              "\n",
              "    .dataframe thead th {\n",
              "        text-align: right;\n",
              "    }\n",
              "</style>\n",
              "<table border=\"1\" class=\"dataframe\">\n",
              "  <thead>\n",
              "    <tr style=\"text-align: right;\">\n",
              "      <th></th>\n",
              "      <th>gender</th>\n",
              "      <th>age</th>\n",
              "      <th>hypertension</th>\n",
              "      <th>heart_disease</th>\n",
              "      <th>smoking_history</th>\n",
              "      <th>bmi</th>\n",
              "      <th>HbA1c_level</th>\n",
              "      <th>blood_glucose_level</th>\n",
              "      <th>diabetes</th>\n",
              "    </tr>\n",
              "  </thead>\n",
              "  <tbody>\n",
              "    <tr>\n",
              "      <th>0</th>\n",
              "      <td>Female</td>\n",
              "      <td>80.0</td>\n",
              "      <td>0</td>\n",
              "      <td>1</td>\n",
              "      <td>never</td>\n",
              "      <td>25.19</td>\n",
              "      <td>6.6</td>\n",
              "      <td>140</td>\n",
              "      <td>0</td>\n",
              "    </tr>\n",
              "    <tr>\n",
              "      <th>1</th>\n",
              "      <td>Female</td>\n",
              "      <td>54.0</td>\n",
              "      <td>0</td>\n",
              "      <td>0</td>\n",
              "      <td>No Info</td>\n",
              "      <td>27.32</td>\n",
              "      <td>6.6</td>\n",
              "      <td>80</td>\n",
              "      <td>0</td>\n",
              "    </tr>\n",
              "    <tr>\n",
              "      <th>2</th>\n",
              "      <td>Male</td>\n",
              "      <td>28.0</td>\n",
              "      <td>0</td>\n",
              "      <td>0</td>\n",
              "      <td>never</td>\n",
              "      <td>27.32</td>\n",
              "      <td>5.7</td>\n",
              "      <td>158</td>\n",
              "      <td>0</td>\n",
              "    </tr>\n",
              "    <tr>\n",
              "      <th>3</th>\n",
              "      <td>Female</td>\n",
              "      <td>36.0</td>\n",
              "      <td>0</td>\n",
              "      <td>0</td>\n",
              "      <td>current</td>\n",
              "      <td>23.45</td>\n",
              "      <td>5.0</td>\n",
              "      <td>155</td>\n",
              "      <td>0</td>\n",
              "    </tr>\n",
              "    <tr>\n",
              "      <th>4</th>\n",
              "      <td>Male</td>\n",
              "      <td>76.0</td>\n",
              "      <td>1</td>\n",
              "      <td>1</td>\n",
              "      <td>current</td>\n",
              "      <td>20.14</td>\n",
              "      <td>4.8</td>\n",
              "      <td>155</td>\n",
              "      <td>0</td>\n",
              "    </tr>\n",
              "  </tbody>\n",
              "</table>\n",
              "</div>\n",
              "    <div class=\"colab-df-buttons\">\n",
              "\n",
              "  <div class=\"colab-df-container\">\n",
              "    <button class=\"colab-df-convert\" onclick=\"convertToInteractive('df-c1389037-36df-4988-b1f4-e2e40381cde0')\"\n",
              "            title=\"Convert this dataframe to an interactive table.\"\n",
              "            style=\"display:none;\">\n",
              "\n",
              "  <svg xmlns=\"http://www.w3.org/2000/svg\" height=\"24px\" viewBox=\"0 -960 960 960\">\n",
              "    <path d=\"M120-120v-720h720v720H120Zm60-500h600v-160H180v160Zm220 220h160v-160H400v160Zm0 220h160v-160H400v160ZM180-400h160v-160H180v160Zm440 0h160v-160H620v160ZM180-180h160v-160H180v160Zm440 0h160v-160H620v160Z\"/>\n",
              "  </svg>\n",
              "    </button>\n",
              "\n",
              "  <style>\n",
              "    .colab-df-container {\n",
              "      display:flex;\n",
              "      gap: 12px;\n",
              "    }\n",
              "\n",
              "    .colab-df-convert {\n",
              "      background-color: #E8F0FE;\n",
              "      border: none;\n",
              "      border-radius: 50%;\n",
              "      cursor: pointer;\n",
              "      display: none;\n",
              "      fill: #1967D2;\n",
              "      height: 32px;\n",
              "      padding: 0 0 0 0;\n",
              "      width: 32px;\n",
              "    }\n",
              "\n",
              "    .colab-df-convert:hover {\n",
              "      background-color: #E2EBFA;\n",
              "      box-shadow: 0px 1px 2px rgba(60, 64, 67, 0.3), 0px 1px 3px 1px rgba(60, 64, 67, 0.15);\n",
              "      fill: #174EA6;\n",
              "    }\n",
              "\n",
              "    .colab-df-buttons div {\n",
              "      margin-bottom: 4px;\n",
              "    }\n",
              "\n",
              "    [theme=dark] .colab-df-convert {\n",
              "      background-color: #3B4455;\n",
              "      fill: #D2E3FC;\n",
              "    }\n",
              "\n",
              "    [theme=dark] .colab-df-convert:hover {\n",
              "      background-color: #434B5C;\n",
              "      box-shadow: 0px 1px 3px 1px rgba(0, 0, 0, 0.15);\n",
              "      filter: drop-shadow(0px 1px 2px rgba(0, 0, 0, 0.3));\n",
              "      fill: #FFFFFF;\n",
              "    }\n",
              "  </style>\n",
              "\n",
              "    <script>\n",
              "      const buttonEl =\n",
              "        document.querySelector('#df-c1389037-36df-4988-b1f4-e2e40381cde0 button.colab-df-convert');\n",
              "      buttonEl.style.display =\n",
              "        google.colab.kernel.accessAllowed ? 'block' : 'none';\n",
              "\n",
              "      async function convertToInteractive(key) {\n",
              "        const element = document.querySelector('#df-c1389037-36df-4988-b1f4-e2e40381cde0');\n",
              "        const dataTable =\n",
              "          await google.colab.kernel.invokeFunction('convertToInteractive',\n",
              "                                                    [key], {});\n",
              "        if (!dataTable) return;\n",
              "\n",
              "        const docLinkHtml = 'Like what you see? Visit the ' +\n",
              "          '<a target=\"_blank\" href=https://colab.research.google.com/notebooks/data_table.ipynb>data table notebook</a>'\n",
              "          + ' to learn more about interactive tables.';\n",
              "        element.innerHTML = '';\n",
              "        dataTable['output_type'] = 'display_data';\n",
              "        await google.colab.output.renderOutput(dataTable, element);\n",
              "        const docLink = document.createElement('div');\n",
              "        docLink.innerHTML = docLinkHtml;\n",
              "        element.appendChild(docLink);\n",
              "      }\n",
              "    </script>\n",
              "  </div>\n",
              "\n",
              "\n",
              "<div id=\"df-706fa09e-98ee-45d9-ad86-929786211118\">\n",
              "  <button class=\"colab-df-quickchart\" onclick=\"quickchart('df-706fa09e-98ee-45d9-ad86-929786211118')\"\n",
              "            title=\"Suggest charts.\"\n",
              "            style=\"display:none;\">\n",
              "\n",
              "<svg xmlns=\"http://www.w3.org/2000/svg\" height=\"24px\"viewBox=\"0 0 24 24\"\n",
              "     width=\"24px\">\n",
              "    <g>\n",
              "        <path d=\"M19 3H5c-1.1 0-2 .9-2 2v14c0 1.1.9 2 2 2h14c1.1 0 2-.9 2-2V5c0-1.1-.9-2-2-2zM9 17H7v-7h2v7zm4 0h-2V7h2v10zm4 0h-2v-4h2v4z\"/>\n",
              "    </g>\n",
              "</svg>\n",
              "  </button>\n",
              "\n",
              "<style>\n",
              "  .colab-df-quickchart {\n",
              "    background-color: #E8F0FE;\n",
              "    border: none;\n",
              "    border-radius: 50%;\n",
              "    cursor: pointer;\n",
              "    display: none;\n",
              "    fill: #1967D2;\n",
              "    height: 32px;\n",
              "    padding: 0 0 0 0;\n",
              "    width: 32px;\n",
              "  }\n",
              "\n",
              "  .colab-df-quickchart:hover {\n",
              "    background-color: #E2EBFA;\n",
              "    box-shadow: 0px 1px 2px rgba(60, 64, 67, 0.3), 0px 1px 3px 1px rgba(60, 64, 67, 0.15);\n",
              "    fill: #174EA6;\n",
              "  }\n",
              "\n",
              "  [theme=dark] .colab-df-quickchart {\n",
              "    background-color: #3B4455;\n",
              "    fill: #D2E3FC;\n",
              "  }\n",
              "\n",
              "  [theme=dark] .colab-df-quickchart:hover {\n",
              "    background-color: #434B5C;\n",
              "    box-shadow: 0px 1px 3px 1px rgba(0, 0, 0, 0.15);\n",
              "    filter: drop-shadow(0px 1px 2px rgba(0, 0, 0, 0.3));\n",
              "    fill: #FFFFFF;\n",
              "  }\n",
              "</style>\n",
              "\n",
              "  <script>\n",
              "    async function quickchart(key) {\n",
              "      const charts = await google.colab.kernel.invokeFunction(\n",
              "          'suggestCharts', [key], {});\n",
              "    }\n",
              "    (() => {\n",
              "      let quickchartButtonEl =\n",
              "        document.querySelector('#df-706fa09e-98ee-45d9-ad86-929786211118 button');\n",
              "      quickchartButtonEl.style.display =\n",
              "        google.colab.kernel.accessAllowed ? 'block' : 'none';\n",
              "    })();\n",
              "  </script>\n",
              "</div>\n",
              "    </div>\n",
              "  </div>\n"
            ]
          },
          "metadata": {},
          "execution_count": 4
        }
      ]
    },
    {
      "cell_type": "code",
      "source": [
        "data.info()"
      ],
      "metadata": {
        "colab": {
          "base_uri": "https://localhost:8080/"
        },
        "id": "m078c8wxwX6Y",
        "outputId": "c3229680-f445-4a68-fe0f-3ac6eea05f5a"
      },
      "execution_count": 5,
      "outputs": [
        {
          "output_type": "stream",
          "name": "stdout",
          "text": [
            "<class 'pandas.core.frame.DataFrame'>\n",
            "RangeIndex: 100000 entries, 0 to 99999\n",
            "Data columns (total 9 columns):\n",
            " #   Column               Non-Null Count   Dtype  \n",
            "---  ------               --------------   -----  \n",
            " 0   gender               100000 non-null  object \n",
            " 1   age                  100000 non-null  float64\n",
            " 2   hypertension         100000 non-null  int64  \n",
            " 3   heart_disease        100000 non-null  int64  \n",
            " 4   smoking_history      100000 non-null  object \n",
            " 5   bmi                  100000 non-null  float64\n",
            " 6   HbA1c_level          100000 non-null  float64\n",
            " 7   blood_glucose_level  100000 non-null  int64  \n",
            " 8   diabetes             100000 non-null  int64  \n",
            "dtypes: float64(3), int64(4), object(2)\n",
            "memory usage: 6.9+ MB\n"
          ]
        }
      ]
    },
    {
      "cell_type": "code",
      "source": [
        "data.isnull().sum()"
      ],
      "metadata": {
        "colab": {
          "base_uri": "https://localhost:8080/"
        },
        "id": "672XY_CkziSf",
        "outputId": "a775f859-995c-460d-8acd-ce06cecd84c2"
      },
      "execution_count": 6,
      "outputs": [
        {
          "output_type": "execute_result",
          "data": {
            "text/plain": [
              "gender                 0\n",
              "age                    0\n",
              "hypertension           0\n",
              "heart_disease          0\n",
              "smoking_history        0\n",
              "bmi                    0\n",
              "HbA1c_level            0\n",
              "blood_glucose_level    0\n",
              "diabetes               0\n",
              "dtype: int64"
            ]
          },
          "metadata": {},
          "execution_count": 6
        }
      ]
    },
    {
      "cell_type": "markdown",
      "source": [
        "## Exploratory data analysis(EDA)"
      ],
      "metadata": {
        "id": "SrwZp7nMzzAQ"
      }
    },
    {
      "cell_type": "code",
      "source": [
        "data.smoking_history.value_counts().plot(kind='bar')\n",
        "plt.show()"
      ],
      "metadata": {
        "colab": {
          "base_uri": "https://localhost:8080/",
          "height": 510
        },
        "id": "Ee_zGua3zno8",
        "outputId": "cb0a8ae1-8f49-4832-f804-8fda9c6d481e"
      },
      "execution_count": 7,
      "outputs": [
        {
          "output_type": "execute_result",
          "data": {
            "text/plain": [
              "<Axes: >"
            ]
          },
          "metadata": {},
          "execution_count": 7
        },
        {
          "output_type": "display_data",
          "data": {
            "text/plain": [
              "<Figure size 640x480 with 1 Axes>"
            ],
            "image/png": "[encoded data removed]"
          },
          "metadata": {}
        }
      ]
    },
    {
      "cell_type": "code",
      "source": [
        "data.gender.value_counts().plot(kind='bar')\n",
        "plt.show()"
      ],
      "metadata": {
        "colab": {
          "base_uri": "https://localhost:8080/",
          "height": 483
        },
        "id": "dTY2Eqc3z6Lp",
        "outputId": "1c9fe406-f133-44cd-8cda-f292d4758327"
      },
      "execution_count": 8,
      "outputs": [
        {
          "output_type": "execute_result",
          "data": {
            "text/plain": [
              "<Axes: >"
            ]
          },
          "metadata": {},
          "execution_count": 8
        },
        {
          "output_type": "display_data",
          "data": {
            "text/plain": [
              "<Figure size 640x480 with 1 Axes>"
            ],
            "image/png": "[encoded data removed]"
          },
          "metadata": {}
        }
      ]
    },
    {
      "cell_type": "markdown",
      "source": [
        "## Data preprocessing"
      ],
      "metadata": {
        "id": "HAcymD_f3wa-"
      }
    },
    {
      "cell_type": "code",
      "source": [
        "#  Pop out target\n",
        "y = data.pop('diabetes')\n",
        "y.shape"
      ],
      "metadata": {
        "colab": {
          "base_uri": "https://localhost:8080/"
        },
        "id": "TQWlsvhr0AhA",
        "outputId": "46db8fa0-b2d4-4c51-ae35-ab9015510176"
      },
      "execution_count": 9,
      "outputs": [
        {
          "output_type": "execute_result",
          "data": {
            "text/plain": [
              "(100000,)"
            ]
          },
          "metadata": {},
          "execution_count": 9
        }
      ]
    },
    {
      "cell_type": "code",
      "source": [
        "data['gender'].unique()"
      ],
      "metadata": {
        "colab": {
          "base_uri": "https://localhost:8080/"
        },
        "id": "NtINsnYy12un",
        "outputId": "51ecd058-8366-4af5-9ed6-de1a6a0fa94e"
      },
      "execution_count": 10,
      "outputs": [
        {
          "output_type": "execute_result",
          "data": {
            "text/plain": [
              "array(['Female', 'Male', 'Other'], dtype=object)"
            ]
          },
          "metadata": {},
          "execution_count": 10
        }
      ]
    },
    {
      "cell_type": "code",
      "source": [
        "data['gender'] = data['gender'].map({'Female' : 0, 'Male' : 1, 'Other' : 2})"
      ],
      "metadata": {
        "id": "5rdMnrJw2DXR"
      },
      "execution_count": 11,
      "outputs": []
    },
    {
      "cell_type": "code",
      "source": [
        "data['smoking_history'].unique()"
      ],
      "metadata": {
        "colab": {
          "base_uri": "https://localhost:8080/"
        },
        "id": "BQMh047v2MaC",
        "outputId": "e04d9daf-1f1b-4984-f28e-c8aca85f9bb9"
      },
      "execution_count": 12,
      "outputs": [
        {
          "output_type": "execute_result",
          "data": {
            "text/plain": [
              "array(['never', 'No Info', 'current', 'former', 'ever', 'not current'],\n",
              "      dtype=object)"
            ]
          },
          "metadata": {},
          "execution_count": 12
        }
      ]
    },
    {
      "cell_type": "code",
      "source": [
        "data['smoking_history'] = data['smoking_history'].map({'never' : 0, 'No Info' : 1, 'current' : 2, 'former' : 3, 'ever' : 4, 'not current' : 5})"
      ],
      "metadata": {
        "id": "muRQvN-e2Thf"
      },
      "execution_count": 13,
      "outputs": []
    },
    {
      "cell_type": "code",
      "source": [
        "X_train,X_test, y_train,y_test = train_test_split(data, y, test_size = 0.25)"
      ],
      "metadata": {
        "id": "ZB_d_xXJ3LMG"
      },
      "execution_count": 14,
      "outputs": []
    },
    {
      "cell_type": "code",
      "source": [
        "X_train.shape\n",
        "X_test.shape\n",
        "y_train.shape\n",
        "y_test.shape"
      ],
      "metadata": {
        "colab": {
          "base_uri": "https://localhost:8080/"
        },
        "id": "RPzkocfM3LNu",
        "outputId": "62d3905a-4434-4828-a310-7755ae04f7ae"
      },
      "execution_count": 15,
      "outputs": [
        {
          "output_type": "execute_result",
          "data": {
            "text/plain": [
              "(75000, 8)"
            ]
          },
          "metadata": {},
          "execution_count": 15
        },
        {
          "output_type": "execute_result",
          "data": {
            "text/plain": [
              "(25000, 8)"
            ]
          },
          "metadata": {},
          "execution_count": 15
        },
        {
          "output_type": "execute_result",
          "data": {
            "text/plain": [
              "(75000,)"
            ]
          },
          "metadata": {},
          "execution_count": 15
        },
        {
          "output_type": "execute_result",
          "data": {
            "text/plain": [
              "(25000,)"
            ]
          },
          "metadata": {},
          "execution_count": 15
        }
      ]
    },
    {
      "cell_type": "markdown",
      "source": [
        "Feature Scaling"
      ],
      "metadata": {
        "id": "cSfRBvw9MNPF"
      }
    },
    {
      "cell_type": "code",
      "source": [
        "mm = MinMaxScaler()\n",
        "mm.fit(X_train)"
      ],
      "metadata": {
        "colab": {
          "base_uri": "https://localhost:8080/",
          "height": 74
        },
        "id": "SWtVGyCn3LPT",
        "outputId": "1cd563ef-2c1d-4a7c-ced4-70e7ca44a273"
      },
      "execution_count": 16,
      "outputs": [
        {
          "output_type": "execute_result",
          "data": {
            "text/plain": [
              "MinMaxScaler()"
            ],
            "text/html": [
              "<style>#sk-container-id-1 {color: black;background-color: white;}#sk-container-id-1 pre{padding: 0;}#sk-container-id-1 div.sk-toggleable {background-color: white;}#sk-container-id-1 label.sk-toggleable__label {cursor: pointer;display: block;width: 100%;margin-bottom: 0;padding: 0.3em;box-sizing: border-box;text-align: center;}#sk-container-id-1 label.sk-toggleable__label-arrow:before {content: \"▸\";float: left;margin-right: 0.25em;color: #696969;}#sk-container-id-1 label.sk-toggleable__label-arrow:hover:before {color: black;}#sk-container-id-1 div.sk-estimator:hover label.sk-toggleable__label-arrow:before {color: black;}#sk-container-id-1 div.sk-toggleable__content {max-height: 0;max-width: 0;overflow: hidden;text-align: left;background-color: #f0f8ff;}#sk-container-id-1 div.sk-toggleable__content pre {margin: 0.2em;color: black;border-radius: 0.25em;background-color: #f0f8ff;}#sk-container-id-1 input.sk-toggleable__control:checked~div.sk-toggleable__content {max-height: 200px;max-width: 100%;overflow: auto;}#sk-container-id-1 input.sk-toggleable__control:checked~label.sk-toggleable__label-arrow:before {content: \"▾\";}#sk-container-id-1 div.sk-estimator input.sk-toggleable__control:checked~label.sk-toggleable__label {background-color: #d4ebff;}#sk-container-id-1 div.sk-label input.sk-toggleable__control:checked~label.sk-toggleable__label {background-color: #d4ebff;}#sk-container-id-1 input.sk-hidden--visually {border: 0;clip: rect(1px 1px 1px 1px);clip: rect(1px, 1px, 1px, 1px);height: 1px;margin: -1px;overflow: hidden;padding: 0;position: absolute;width: 1px;}#sk-container-id-1 div.sk-estimator {font-family: monospace;background-color: #f0f8ff;border: 1px dotted black;border-radius: 0.25em;box-sizing: border-box;margin-bottom: 0.5em;}#sk-container-id-1 div.sk-estimator:hover {background-color: #d4ebff;}#sk-container-id-1 div.sk-parallel-item::after {content: \"\";width: 100%;border-bottom: 1px solid gray;flex-grow: 1;}#sk-container-id-1 div.sk-label:hover label.sk-toggleable__label {background-color: #d4ebff;}#sk-container-id-1 div.sk-serial::before {content: \"\";position: absolute;border-left: 1px solid gray;box-sizing: border-box;top: 0;bottom: 0;left: 50%;z-index: 0;}#sk-container-id-1 div.sk-serial {display: flex;flex-direction: column;align-items: center;background-color: white;padding-right: 0.2em;padding-left: 0.2em;position: relative;}#sk-container-id-1 div.sk-item {position: relative;z-index: 1;}#sk-container-id-1 div.sk-parallel {display: flex;align-items: stretch;justify-content: center;background-color: white;position: relative;}#sk-container-id-1 div.sk-item::before, #sk-container-id-1 div.sk-parallel-item::before {content: \"\";position: absolute;border-left: 1px solid gray;box-sizing: border-box;top: 0;bottom: 0;left: 50%;z-index: -1;}#sk-container-id-1 div.sk-parallel-item {display: flex;flex-direction: column;z-index: 1;position: relative;background-color: white;}#sk-container-id-1 div.sk-parallel-item:first-child::after {align-self: flex-end;width: 50%;}#sk-container-id-1 div.sk-parallel-item:last-child::after {align-self: flex-start;width: 50%;}#sk-container-id-1 div.sk-parallel-item:only-child::after {width: 0;}#sk-container-id-1 div.sk-dashed-wrapped {border: 1px dashed gray;margin: 0 0.4em 0.5em 0.4em;box-sizing: border-box;padding-bottom: 0.4em;background-color: white;}#sk-container-id-1 div.sk-label label {font-family: monospace;font-weight: bold;display: inline-block;line-height: 1.2em;}#sk-container-id-1 div.sk-label-container {text-align: center;}#sk-container-id-1 div.sk-container {/* jupyter's `normalize.less` sets `[hidden] { display: none; }` but bootstrap.min.css set `[hidden] { display: none !important; }` so we also need the `!important` here to be able to override the default hidden behavior on the sphinx rendered scikit-learn.org. See: https://github.com/scikit-learn/scikit-learn/issues/21755 */display: inline-block !important;position: relative;}#sk-container-id-1 div.sk-text-repr-fallback {display: none;}</style><div id=\"sk-container-id-1\" class=\"sk-top-container\"><div class=\"sk-text-repr-fallback\"><pre>MinMaxScaler()</pre><b>In a Jupyter environment, please rerun this cell to show the HTML representation or trust the notebook. <br />On GitHub, the HTML representation is unable to render, please try loading this page with nbviewer.org.</b></div><div class=\"sk-container\" hidden><div class=\"sk-item\"><div class=\"sk-estimator sk-toggleable\"><input class=\"sk-toggleable__control sk-hidden--visually\" id=\"sk-estimator-id-1\" type=\"checkbox\" checked><label for=\"sk-estimator-id-1\" class=\"sk-toggleable__label sk-toggleable__label-arrow\">MinMaxScaler</label><div class=\"sk-toggleable__content\"><pre>MinMaxScaler()</pre></div></div></div></div></div>"
            ]
          },
          "metadata": {},
          "execution_count": 16
        }
      ]
    },
    {
      "cell_type": "code",
      "source": [
        "X_train = mm.transform(X_train)\n",
        "X_test = mm.transform(X_test)"
      ],
      "metadata": {
        "id": "CLj-41ja3LQ2"
      },
      "execution_count": 17,
      "outputs": []
    },
    {
      "cell_type": "markdown",
      "source": [
        "## Building the Neural Network Model"
      ],
      "metadata": {
        "id": "yfdtBWhg4Bye"
      }
    },
    {
      "cell_type": "code",
      "source": [
        "model = tf.keras.Sequential()"
      ],
      "metadata": {
        "id": "yWau2fxT3LUO"
      },
      "execution_count": 18,
      "outputs": []
    },
    {
      "cell_type": "code",
      "source": [
        "model.add(tf.keras.layers.Input(shape=8,))"
      ],
      "metadata": {
        "id": "_mqMsR8O4yl9"
      },
      "execution_count": 19,
      "outputs": []
    },
    {
      "cell_type": "code",
      "source": [
        "model.add(tf.keras.layers.Dense(50, activation = 'relu'))"
      ],
      "metadata": {
        "id": "dT4WBP85458m"
      },
      "execution_count": 20,
      "outputs": []
    },
    {
      "cell_type": "code",
      "source": [
        "model.add(tf.keras.layers.Dense(100, activation = 'relu'))"
      ],
      "metadata": {
        "id": "FPG4CG_o49B9"
      },
      "execution_count": 21,
      "outputs": []
    },
    {
      "cell_type": "code",
      "source": [
        "model.add(tf.keras.layers.Dense(20, activation = 'relu'))"
      ],
      "metadata": {
        "id": "JZqwUt-x5AmP"
      },
      "execution_count": 22,
      "outputs": []
    },
    {
      "cell_type": "code",
      "source": [
        "model.add(tf.keras.layers.Dense(1, activation = 'sigmoid'))"
      ],
      "metadata": {
        "id": "2Aqc_buz5IEy"
      },
      "execution_count": 23,
      "outputs": []
    },
    {
      "cell_type": "code",
      "source": [
        "model.summary()"
      ],
      "metadata": {
        "colab": {
          "base_uri": "https://localhost:8080/"
        },
        "id": "Z-YbuXkQ5Kwq",
        "outputId": "fbd2e92a-b23f-4e46-b14c-aa3e9a3e4b4a"
      },
      "execution_count": 24,
      "outputs": [
        {
          "output_type": "stream",
          "name": "stdout",
          "text": [
            "Model: \"sequential\"\n",
            "_________________________________________________________________\n",
            " Layer (type)                Output Shape              Param #   \n",
            "=================================================================\n",
            " dense (Dense)               (None, 50)                450       \n",
            "                                                                 \n",
            " dense_1 (Dense)             (None, 100)               5100      \n",
            "                                                                 \n",
            " dense_2 (Dense)             (None, 20)                2020      \n",
            "                                                                 \n",
            " dense_3 (Dense)             (None, 1)                 21        \n",
            "                                                                 \n",
            "=================================================================\n",
            "Total params: 7,591\n",
            "Trainable params: 7,591\n",
            "Non-trainable params: 0\n",
            "_________________________________________________________________\n"
          ]
        }
      ]
    },
    {
      "cell_type": "code",
      "source": [
        "from tensorflow.keras.utils import plot_model"
      ],
      "metadata": {
        "id": "-kCUiDen5M7_"
      },
      "execution_count": 25,
      "outputs": []
    },
    {
      "cell_type": "code",
      "source": [
        "plot_model(model, show_shapes=True)"
      ],
      "metadata": {
        "colab": {
          "base_uri": "https://localhost:8080/",
          "height": 533
        },
        "id": "2JLobE325YMM",
        "outputId": "f5ff3a26-4983-47da-90bf-23de42b69d72"
      },
      "execution_count": 26,
      "outputs": [
        {
          "output_type": "execute_result",
          "data": {
            "image/png": "[encoded data removed]",
            "text/plain": [
              "<IPython.core.display.Image object>"
            ]
          },
          "metadata": {},
          "execution_count": 26
        }
      ]
    },
    {
      "cell_type": "markdown",
      "source": [
        "Compiling the Model"
      ],
      "metadata": {
        "id": "jk69QpnaMWhy"
      }
    },
    {
      "cell_type": "code",
      "source": [
        "model.compile(\n",
        "                 loss = 'binary_crossentropy',\n",
        "                 optimizer = 'adam',\n",
        "\n",
        "                 metrics = ['acc'])"
      ],
      "metadata": {
        "id": "WEKO4PiA5aVr"
      },
      "execution_count": 27,
      "outputs": []
    },
    {
      "cell_type": "markdown",
      "source": [
        "Training the Model"
      ],
      "metadata": {
        "id": "6aVUl7PGMbi4"
      }
    },
    {
      "cell_type": "code",
      "source": [
        "history = model.fit(X_train, y_train, epochs=250, validation_data=(X_test, y_test))\n",
        "\n",
        "plt.figure(figsize=(12, 4))\n",
        "\n",
        "plt.subplot(1, 2, 1)\n",
        "plt.plot(history.history['loss'], label='Train')\n",
        "plt.plot(history.history['val_loss'], label='Validation')\n",
        "plt.xlabel('Epoch')\n",
        "plt.ylabel('Loss')\n",
        "plt.title('Loss Over Epochs')\n",
        "plt.legend()\n",
        "\n",
        "plt.subplot(1, 2, 2)\n",
        "plt.plot(history.history['acc'], label='Train')\n",
        "plt.plot(history.history['val_acc'], label='Validation')\n",
        "plt.xlabel('Epoch')\n",
        "plt.ylabel('Accuracy')\n",
        "plt.title('Accuracy Over Epochs')\n",
        "plt.legend()\n",
        "\n",
        "plt.tight_layout()\n",
        "plt.show()\n"
      ],
      "metadata": {
        "colab": {
          "base_uri": "https://localhost:8080/",
          "height": 1000
        },
        "id": "0eRfBxFRNMmc",
        "outputId": "d7da37aa-4652-44ae-f53c-01e897c46da7"
      },
      "execution_count": 28,
      "outputs": [
        {
          "output_type": "stream",
          "name": "stdout",
          "text": [
            "Epoch 1/250\n",
            "2344/2344 [==============================] - 10s 3ms/step - loss: 0.1376 - acc: 0.9538 - val_loss: 0.1176 - val_acc: 0.9580\n",
            "Epoch 2/250\n",
            "2344/2344 [==============================] - 15s 6ms/step - loss: 0.1104 - acc: 0.9619 - val_loss: 0.1074 - val_acc: 0.9634\n",
            "Epoch 3/250\n",
            "2344/2344 [==============================] - 13s 6ms/step - loss: 0.0995 - acc: 0.9660 - val_loss: 0.1092 - val_acc: 0.9591\n",
            "Epoch 4/250\n",
            "2344/2344 [==============================] - 12s 5ms/step - loss: 0.0930 - acc: 0.9682 - val_loss: 0.0907 - val_acc: 0.9688\n",
            "Epoch 5/250\n",
            "2344/2344 [==============================] - 8s 3ms/step - loss: 0.0894 - acc: 0.9692 - val_loss: 0.0932 - val_acc: 0.9677\n",
            "Epoch 6/250\n",
            "2344/2344 [==============================] - 9s 4ms/step - loss: 0.0877 - acc: 0.9699 - val_loss: 0.0900 - val_acc: 0.9676\n",
            "Epoch 7/250\n",
            "2344/2344 [==============================] - 7s 3ms/step - loss: 0.0862 - acc: 0.9705 - val_loss: 0.0879 - val_acc: 0.9694\n",
            "Epoch 8/250\n",
            "2344/2344 [==============================] - 8s 3ms/step - loss: 0.0859 - acc: 0.9704 - val_loss: 0.0901 - val_acc: 0.9681\n",
            "Epoch 9/250\n",
            "2344/2344 [==============================] - 7s 3ms/step - loss: 0.0857 - acc: 0.9705 - val_loss: 0.0890 - val_acc: 0.9684\n",
            "Epoch 10/250\n",
            "2344/2344 [==============================] - 8s 3ms/step - loss: 0.0851 - acc: 0.9706 - val_loss: 0.0857 - val_acc: 0.9705\n",
            "Epoch 11/250\n",
            "2344/2344 [==============================] - 6s 3ms/step - loss: 0.0845 - acc: 0.9706 - val_loss: 0.0904 - val_acc: 0.9675\n",
            "Epoch 12/250\n",
            "2344/2344 [==============================] - 7s 3ms/step - loss: 0.0841 - acc: 0.9709 - val_loss: 0.0859 - val_acc: 0.9706\n",
            "Epoch 13/250\n",
            "2344/2344 [==============================] - 7s 3ms/step - loss: 0.0840 - acc: 0.9710 - val_loss: 0.0866 - val_acc: 0.9704\n",
            "Epoch 14/250\n",
            "2344/2344 [==============================] - 6s 3ms/step - loss: 0.0842 - acc: 0.9708 - val_loss: 0.0906 - val_acc: 0.9670\n",
            "Epoch 15/250\n",
            "2344/2344 [==============================] - 8s 3ms/step - loss: 0.0835 - acc: 0.9713 - val_loss: 0.0859 - val_acc: 0.9700\n",
            "Epoch 16/250\n",
            "2344/2344 [==============================] - 6s 3ms/step - loss: 0.0835 - acc: 0.9709 - val_loss: 0.0886 - val_acc: 0.9687\n",
            "Epoch 17/250\n",
            "2344/2344 [==============================] - 7s 3ms/step - loss: 0.0834 - acc: 0.9712 - val_loss: 0.0942 - val_acc: 0.9681\n",
            "Epoch 18/250\n",
            "2344/2344 [==============================] - 6s 2ms/step - loss: 0.0836 - acc: 0.9710 - val_loss: 0.0908 - val_acc: 0.9672\n",
            "Epoch 19/250\n",
            "2344/2344 [==============================] - 7s 3ms/step - loss: 0.0835 - acc: 0.9710 - val_loss: 0.0849 - val_acc: 0.9705\n",
            "Epoch 20/250\n",
            "2344/2344 [==============================] - 7s 3ms/step - loss: 0.0833 - acc: 0.9711 - val_loss: 0.0843 - val_acc: 0.9705\n",
            "Epoch 21/250\n",
            "2344/2344 [==============================] - 7s 3ms/step - loss: 0.0832 - acc: 0.9710 - val_loss: 0.0849 - val_acc: 0.9702\n",
            "Epoch 22/250\n",
            "2344/2344 [==============================] - 6s 3ms/step - loss: 0.0845 - acc: 0.9706 - val_loss: 0.0864 - val_acc: 0.9709\n",
            "Epoch 23/250\n",
            "2344/2344 [==============================] - 7s 3ms/step - loss: 0.0824 - acc: 0.9716 - val_loss: 0.0885 - val_acc: 0.9683\n",
            "Epoch 24/250\n",
            "2344/2344 [==============================] - 6s 2ms/step - loss: 0.0824 - acc: 0.9714 - val_loss: 0.0862 - val_acc: 0.9703\n",
            "Epoch 25/250\n",
            "2344/2344 [==============================] - 7s 3ms/step - loss: 0.0825 - acc: 0.9716 - val_loss: 0.0864 - val_acc: 0.9690\n",
            "Epoch 26/250\n",
            "2344/2344 [==============================] - 6s 3ms/step - loss: 0.0828 - acc: 0.9714 - val_loss: 0.0853 - val_acc: 0.9703\n",
            "Epoch 27/250\n",
            "2344/2344 [==============================] - 7s 3ms/step - loss: 0.0837 - acc: 0.9710 - val_loss: 0.0842 - val_acc: 0.9706\n",
            "Epoch 28/250\n",
            "2344/2344 [==============================] - 6s 3ms/step - loss: 0.0825 - acc: 0.9715 - val_loss: 0.0997 - val_acc: 0.9633\n",
            "Epoch 29/250\n",
            "2344/2344 [==============================] - 7s 3ms/step - loss: 0.0821 - acc: 0.9715 - val_loss: 0.0964 - val_acc: 0.9640\n",
            "Epoch 30/250\n",
            "2344/2344 [==============================] - 6s 2ms/step - loss: 0.0833 - acc: 0.9711 - val_loss: 0.0850 - val_acc: 0.9705\n",
            "Epoch 31/250\n",
            "2344/2344 [==============================] - 7s 3ms/step - loss: 0.0822 - acc: 0.9715 - val_loss: 0.0844 - val_acc: 0.9706\n",
            "Epoch 32/250\n",
            "2344/2344 [==============================] - 6s 3ms/step - loss: 0.0823 - acc: 0.9713 - val_loss: 0.0940 - val_acc: 0.9676\n",
            "Epoch 33/250\n",
            "2344/2344 [==============================] - 7s 3ms/step - loss: 0.0819 - acc: 0.9718 - val_loss: 0.0864 - val_acc: 0.9705\n",
            "Epoch 34/250\n",
            "2344/2344 [==============================] - 6s 3ms/step - loss: 0.0824 - acc: 0.9712 - val_loss: 0.0842 - val_acc: 0.9708\n",
            "Epoch 35/250\n",
            "2344/2344 [==============================] - 7s 3ms/step - loss: 0.0816 - acc: 0.9719 - val_loss: 0.0840 - val_acc: 0.9707\n",
            "Epoch 36/250\n",
            "2344/2344 [==============================] - 6s 3ms/step - loss: 0.0863 - acc: 0.9694 - val_loss: 0.0864 - val_acc: 0.9704\n",
            "Epoch 37/250\n",
            "2344/2344 [==============================] - 7s 3ms/step - loss: 0.0816 - acc: 0.9719 - val_loss: 0.0847 - val_acc: 0.9706\n",
            "Epoch 38/250\n",
            "2344/2344 [==============================] - 6s 3ms/step - loss: 0.0813 - acc: 0.9719 - val_loss: 0.0842 - val_acc: 0.9705\n",
            "Epoch 39/250\n",
            "2344/2344 [==============================] - 7s 3ms/step - loss: 0.0819 - acc: 0.9717 - val_loss: 0.0847 - val_acc: 0.9702\n",
            "Epoch 40/250\n",
            "2344/2344 [==============================] - 6s 3ms/step - loss: 0.0809 - acc: 0.9721 - val_loss: 0.0850 - val_acc: 0.9705\n",
            "Epoch 41/250\n",
            "2344/2344 [==============================] - 7s 3ms/step - loss: 0.0814 - acc: 0.9717 - val_loss: 0.0864 - val_acc: 0.9700\n",
            "Epoch 42/250\n",
            "2344/2344 [==============================] - 7s 3ms/step - loss: 0.0820 - acc: 0.9717 - val_loss: 0.0843 - val_acc: 0.9708\n",
            "Epoch 43/250\n",
            "2344/2344 [==============================] - 6s 3ms/step - loss: 0.0808 - acc: 0.9721 - val_loss: 0.0957 - val_acc: 0.9648\n",
            "Epoch 44/250\n",
            "2344/2344 [==============================] - 7s 3ms/step - loss: 0.0813 - acc: 0.9719 - val_loss: 0.0863 - val_acc: 0.9702\n",
            "Epoch 45/250\n",
            "2344/2344 [==============================] - 6s 3ms/step - loss: 0.0820 - acc: 0.9717 - val_loss: 0.0855 - val_acc: 0.9706\n",
            "Epoch 46/250\n",
            "2344/2344 [==============================] - 7s 3ms/step - loss: 0.0813 - acc: 0.9719 - val_loss: 0.0888 - val_acc: 0.9693\n",
            "Epoch 47/250\n",
            "2344/2344 [==============================] - 7s 3ms/step - loss: 0.0828 - acc: 0.9714 - val_loss: 0.0846 - val_acc: 0.9707\n",
            "Epoch 48/250\n",
            "2344/2344 [==============================] - 7s 3ms/step - loss: 0.0814 - acc: 0.9718 - val_loss: 0.0927 - val_acc: 0.9676\n",
            "Epoch 49/250\n",
            "2344/2344 [==============================] - 6s 3ms/step - loss: 0.0813 - acc: 0.9718 - val_loss: 0.0938 - val_acc: 0.9668\n",
            "Epoch 50/250\n",
            "2344/2344 [==============================] - 7s 3ms/step - loss: 0.0815 - acc: 0.9719 - val_loss: 0.0849 - val_acc: 0.9703\n",
            "Epoch 51/250\n",
            "2344/2344 [==============================] - 6s 3ms/step - loss: 0.0810 - acc: 0.9720 - val_loss: 0.0849 - val_acc: 0.9711\n",
            "Epoch 52/250\n",
            "2344/2344 [==============================] - 7s 3ms/step - loss: 0.0816 - acc: 0.9717 - val_loss: 0.0846 - val_acc: 0.9706\n",
            "Epoch 53/250\n",
            "2344/2344 [==============================] - 6s 3ms/step - loss: 0.0818 - acc: 0.9719 - val_loss: 0.0845 - val_acc: 0.9705\n",
            "Epoch 54/250\n",
            "2344/2344 [==============================] - 7s 3ms/step - loss: 0.0806 - acc: 0.9721 - val_loss: 0.0849 - val_acc: 0.9706\n",
            "Epoch 55/250\n",
            "2344/2344 [==============================] - 8s 3ms/step - loss: 0.0806 - acc: 0.9721 - val_loss: 0.0913 - val_acc: 0.9676\n",
            "Epoch 56/250\n",
            "2344/2344 [==============================] - 6s 3ms/step - loss: 0.0809 - acc: 0.9719 - val_loss: 0.0841 - val_acc: 0.9708\n",
            "Epoch 57/250\n",
            "2344/2344 [==============================] - 8s 3ms/step - loss: 0.0810 - acc: 0.9719 - val_loss: 0.0853 - val_acc: 0.9707\n",
            "Epoch 58/250\n",
            "2344/2344 [==============================] - 6s 3ms/step - loss: 0.0809 - acc: 0.9721 - val_loss: 0.0842 - val_acc: 0.9706\n",
            "Epoch 59/250\n",
            "2344/2344 [==============================] - 7s 3ms/step - loss: 0.0805 - acc: 0.9720 - val_loss: 0.0869 - val_acc: 0.9697\n",
            "Epoch 60/250\n",
            "2344/2344 [==============================] - 6s 2ms/step - loss: 0.0803 - acc: 0.9721 - val_loss: 0.0862 - val_acc: 0.9702\n",
            "Epoch 61/250\n",
            "2344/2344 [==============================] - 7s 3ms/step - loss: 0.0816 - acc: 0.9715 - val_loss: 0.0938 - val_acc: 0.9658\n",
            "Epoch 62/250\n",
            "2344/2344 [==============================] - 6s 3ms/step - loss: 0.0802 - acc: 0.9723 - val_loss: 0.0857 - val_acc: 0.9709\n",
            "Epoch 63/250\n",
            "2344/2344 [==============================] - 7s 3ms/step - loss: 0.0807 - acc: 0.9721 - val_loss: 0.0844 - val_acc: 0.9706\n",
            "Epoch 64/250\n",
            "2344/2344 [==============================] - 6s 3ms/step - loss: 0.0809 - acc: 0.9721 - val_loss: 0.0855 - val_acc: 0.9702\n",
            "Epoch 65/250\n",
            "2344/2344 [==============================] - 7s 3ms/step - loss: 0.0803 - acc: 0.9720 - val_loss: 0.0846 - val_acc: 0.9707\n",
            "Epoch 66/250\n",
            "2344/2344 [==============================] - 6s 3ms/step - loss: 0.0815 - acc: 0.9717 - val_loss: 0.0846 - val_acc: 0.9708\n",
            "Epoch 67/250\n",
            "2344/2344 [==============================] - 7s 3ms/step - loss: 0.0813 - acc: 0.9719 - val_loss: 0.0856 - val_acc: 0.9706\n",
            "Epoch 68/250\n",
            "2344/2344 [==============================] - 6s 3ms/step - loss: 0.0804 - acc: 0.9721 - val_loss: 0.0966 - val_acc: 0.9678\n",
            "Epoch 69/250\n",
            "2344/2344 [==============================] - 7s 3ms/step - loss: 0.0808 - acc: 0.9721 - val_loss: 0.0846 - val_acc: 0.9703\n",
            "Epoch 70/250\n",
            "2344/2344 [==============================] - 6s 3ms/step - loss: 0.0804 - acc: 0.9720 - val_loss: 0.0856 - val_acc: 0.9708\n",
            "Epoch 71/250\n",
            "2344/2344 [==============================] - 7s 3ms/step - loss: 0.0807 - acc: 0.9723 - val_loss: 0.0845 - val_acc: 0.9707\n",
            "Epoch 72/250\n",
            "2344/2344 [==============================] - 6s 2ms/step - loss: 0.0819 - acc: 0.9714 - val_loss: 0.0848 - val_acc: 0.9705\n",
            "Epoch 73/250\n",
            "2344/2344 [==============================] - 7s 3ms/step - loss: 0.0807 - acc: 0.9720 - val_loss: 0.0934 - val_acc: 0.9666\n",
            "Epoch 74/250\n",
            "2344/2344 [==============================] - 6s 3ms/step - loss: 0.0802 - acc: 0.9723 - val_loss: 0.0881 - val_acc: 0.9693\n",
            "Epoch 75/250\n",
            "2344/2344 [==============================] - 7s 3ms/step - loss: 0.0806 - acc: 0.9721 - val_loss: 0.0857 - val_acc: 0.9702\n",
            "Epoch 76/250\n",
            "2344/2344 [==============================] - 6s 3ms/step - loss: 0.0802 - acc: 0.9722 - val_loss: 0.0860 - val_acc: 0.9704\n",
            "Epoch 77/250\n",
            "2344/2344 [==============================] - 7s 3ms/step - loss: 0.0804 - acc: 0.9723 - val_loss: 0.0845 - val_acc: 0.9705\n",
            "Epoch 78/250\n",
            "2344/2344 [==============================] - 8s 3ms/step - loss: 0.0800 - acc: 0.9723 - val_loss: 0.0849 - val_acc: 0.9707\n",
            "Epoch 79/250\n",
            "2344/2344 [==============================] - 6s 3ms/step - loss: 0.0810 - acc: 0.9717 - val_loss: 0.0857 - val_acc: 0.9704\n",
            "Epoch 80/250\n",
            "2344/2344 [==============================] - 7s 3ms/step - loss: 0.0803 - acc: 0.9723 - val_loss: 0.0862 - val_acc: 0.9706\n",
            "Epoch 81/250\n",
            "2344/2344 [==============================] - 6s 3ms/step - loss: 0.0795 - acc: 0.9725 - val_loss: 0.1021 - val_acc: 0.9668\n",
            "Epoch 82/250\n",
            "2344/2344 [==============================] - 8s 3ms/step - loss: 0.0807 - acc: 0.9718 - val_loss: 0.0927 - val_acc: 0.9667\n",
            "Epoch 83/250\n",
            "2344/2344 [==============================] - 6s 3ms/step - loss: 0.0802 - acc: 0.9722 - val_loss: 0.0858 - val_acc: 0.9708\n",
            "Epoch 84/250\n",
            "2344/2344 [==============================] - 7s 3ms/step - loss: 0.0801 - acc: 0.9723 - val_loss: 0.0839 - val_acc: 0.9707\n",
            "Epoch 85/250\n",
            "2344/2344 [==============================] - 6s 2ms/step - loss: 0.0797 - acc: 0.9722 - val_loss: 0.0959 - val_acc: 0.9656\n",
            "Epoch 86/250\n",
            "2344/2344 [==============================] - 7s 3ms/step - loss: 0.0797 - acc: 0.9725 - val_loss: 0.0845 - val_acc: 0.9708\n",
            "Epoch 87/250\n",
            "2344/2344 [==============================] - 6s 3ms/step - loss: 0.0797 - acc: 0.9723 - val_loss: 0.0842 - val_acc: 0.9708\n",
            "Epoch 88/250\n",
            "2344/2344 [==============================] - 7s 3ms/step - loss: 0.0797 - acc: 0.9723 - val_loss: 0.0894 - val_acc: 0.9703\n",
            "Epoch 89/250\n",
            "2344/2344 [==============================] - 8s 3ms/step - loss: 0.0812 - acc: 0.9719 - val_loss: 0.0857 - val_acc: 0.9709\n",
            "Epoch 90/250\n",
            "2344/2344 [==============================] - 7s 3ms/step - loss: 0.0802 - acc: 0.9723 - val_loss: 0.0863 - val_acc: 0.9704\n",
            "Epoch 91/250\n",
            "2344/2344 [==============================] - 6s 3ms/step - loss: 0.0803 - acc: 0.9720 - val_loss: 0.0851 - val_acc: 0.9708\n",
            "Epoch 92/250\n",
            "2344/2344 [==============================] - 7s 3ms/step - loss: 0.0797 - acc: 0.9724 - val_loss: 0.0849 - val_acc: 0.9710\n",
            "Epoch 93/250\n",
            "2344/2344 [==============================] - 6s 3ms/step - loss: 0.0801 - acc: 0.9721 - val_loss: 0.0860 - val_acc: 0.9709\n",
            "Epoch 94/250\n",
            "2344/2344 [==============================] - 7s 3ms/step - loss: 0.0794 - acc: 0.9725 - val_loss: 0.0861 - val_acc: 0.9709\n",
            "Epoch 95/250\n",
            "2344/2344 [==============================] - 6s 2ms/step - loss: 0.0797 - acc: 0.9722 - val_loss: 0.0867 - val_acc: 0.9708\n",
            "Epoch 96/250\n",
            "2344/2344 [==============================] - 7s 3ms/step - loss: 0.0807 - acc: 0.9718 - val_loss: 0.0992 - val_acc: 0.9629\n",
            "Epoch 97/250\n",
            "2344/2344 [==============================] - 6s 3ms/step - loss: 0.0799 - acc: 0.9723 - val_loss: 0.0870 - val_acc: 0.9707\n",
            "Epoch 98/250\n",
            "2344/2344 [==============================] - 7s 3ms/step - loss: 0.0796 - acc: 0.9723 - val_loss: 0.0914 - val_acc: 0.9674\n",
            "Epoch 99/250\n",
            "2344/2344 [==============================] - 8s 3ms/step - loss: 0.0797 - acc: 0.9723 - val_loss: 0.0859 - val_acc: 0.9708\n",
            "Epoch 100/250\n",
            "2344/2344 [==============================] - 6s 3ms/step - loss: 0.0795 - acc: 0.9724 - val_loss: 0.0847 - val_acc: 0.9708\n",
            "Epoch 101/250\n",
            "2344/2344 [==============================] - 7s 3ms/step - loss: 0.0794 - acc: 0.9724 - val_loss: 0.0850 - val_acc: 0.9706\n",
            "Epoch 102/250\n",
            "2344/2344 [==============================] - 6s 3ms/step - loss: 0.0800 - acc: 0.9722 - val_loss: 0.0935 - val_acc: 0.9675\n",
            "Epoch 103/250\n",
            "2344/2344 [==============================] - 7s 3ms/step - loss: 0.0799 - acc: 0.9722 - val_loss: 0.0854 - val_acc: 0.9710\n",
            "Epoch 104/250\n",
            "2344/2344 [==============================] - 6s 2ms/step - loss: 0.0793 - acc: 0.9725 - val_loss: 0.0922 - val_acc: 0.9670\n",
            "Epoch 105/250\n",
            "2344/2344 [==============================] - 7s 3ms/step - loss: 0.0794 - acc: 0.9725 - val_loss: 0.0855 - val_acc: 0.9708\n",
            "Epoch 106/250\n",
            "2344/2344 [==============================] - 6s 3ms/step - loss: 0.0796 - acc: 0.9723 - val_loss: 0.0838 - val_acc: 0.9709\n",
            "Epoch 107/250\n",
            "2344/2344 [==============================] - 7s 3ms/step - loss: 0.0800 - acc: 0.9720 - val_loss: 0.0911 - val_acc: 0.9679\n",
            "Epoch 108/250\n",
            "2344/2344 [==============================] - 6s 3ms/step - loss: 0.0795 - acc: 0.9724 - val_loss: 0.0859 - val_acc: 0.9708\n",
            "Epoch 109/250\n",
            "2344/2344 [==============================] - 7s 3ms/step - loss: 0.0796 - acc: 0.9724 - val_loss: 0.0852 - val_acc: 0.9709\n",
            "Epoch 110/250\n",
            "2344/2344 [==============================] - 6s 3ms/step - loss: 0.0799 - acc: 0.9724 - val_loss: 0.0854 - val_acc: 0.9707\n",
            "Epoch 111/250\n",
            "2344/2344 [==============================] - 7s 3ms/step - loss: 0.0792 - acc: 0.9724 - val_loss: 0.0863 - val_acc: 0.9702\n",
            "Epoch 112/250\n",
            "2344/2344 [==============================] - 6s 3ms/step - loss: 0.0799 - acc: 0.9724 - val_loss: 0.0852 - val_acc: 0.9707\n",
            "Epoch 113/250\n",
            "2344/2344 [==============================] - 7s 3ms/step - loss: 0.0789 - acc: 0.9727 - val_loss: 0.0848 - val_acc: 0.9709\n",
            "Epoch 114/250\n",
            "2344/2344 [==============================] - 6s 3ms/step - loss: 0.0795 - acc: 0.9724 - val_loss: 0.0857 - val_acc: 0.9707\n",
            "Epoch 115/250\n",
            "2344/2344 [==============================] - 7s 3ms/step - loss: 0.0795 - acc: 0.9724 - val_loss: 0.0895 - val_acc: 0.9705\n",
            "Epoch 116/250\n",
            "2344/2344 [==============================] - 6s 3ms/step - loss: 0.0798 - acc: 0.9724 - val_loss: 0.0868 - val_acc: 0.9700\n",
            "Epoch 117/250\n",
            "2344/2344 [==============================] - 7s 3ms/step - loss: 0.0793 - acc: 0.9726 - val_loss: 0.0851 - val_acc: 0.9707\n",
            "Epoch 118/250\n",
            "2344/2344 [==============================] - 6s 3ms/step - loss: 0.0793 - acc: 0.9723 - val_loss: 0.0874 - val_acc: 0.9699\n",
            "Epoch 119/250\n",
            "2344/2344 [==============================] - 7s 3ms/step - loss: 0.0792 - acc: 0.9726 - val_loss: 0.0845 - val_acc: 0.9709\n",
            "Epoch 120/250\n",
            "2344/2344 [==============================] - 6s 3ms/step - loss: 0.0792 - acc: 0.9726 - val_loss: 0.0845 - val_acc: 0.9708\n",
            "Epoch 121/250\n",
            "2344/2344 [==============================] - 7s 3ms/step - loss: 0.0794 - acc: 0.9727 - val_loss: 0.0909 - val_acc: 0.9673\n",
            "Epoch 122/250\n",
            "2344/2344 [==============================] - 8s 3ms/step - loss: 0.0792 - acc: 0.9726 - val_loss: 0.0846 - val_acc: 0.9708\n",
            "Epoch 123/250\n",
            "2344/2344 [==============================] - 6s 3ms/step - loss: 0.0796 - acc: 0.9724 - val_loss: 0.0840 - val_acc: 0.9706\n",
            "Epoch 124/250\n",
            "2344/2344 [==============================] - 7s 3ms/step - loss: 0.0802 - acc: 0.9721 - val_loss: 0.0863 - val_acc: 0.9698\n",
            "Epoch 125/250\n",
            "2344/2344 [==============================] - 6s 3ms/step - loss: 0.0802 - acc: 0.9719 - val_loss: 0.0855 - val_acc: 0.9708\n",
            "Epoch 126/250\n",
            "2344/2344 [==============================] - 7s 3ms/step - loss: 0.0794 - acc: 0.9724 - val_loss: 0.0865 - val_acc: 0.9703\n",
            "Epoch 127/250\n",
            "2344/2344 [==============================] - 6s 3ms/step - loss: 0.0789 - acc: 0.9726 - val_loss: 0.0861 - val_acc: 0.9708\n",
            "Epoch 128/250\n",
            "2344/2344 [==============================] - 7s 3ms/step - loss: 0.0795 - acc: 0.9725 - val_loss: 0.0855 - val_acc: 0.9707\n",
            "Epoch 129/250\n",
            "2344/2344 [==============================] - 6s 3ms/step - loss: 0.0788 - acc: 0.9727 - val_loss: 0.0855 - val_acc: 0.9708\n",
            "Epoch 130/250\n",
            "2344/2344 [==============================] - 7s 3ms/step - loss: 0.0791 - acc: 0.9725 - val_loss: 0.0869 - val_acc: 0.9704\n",
            "Epoch 131/250\n",
            "2344/2344 [==============================] - 6s 3ms/step - loss: 0.0793 - acc: 0.9725 - val_loss: 0.0870 - val_acc: 0.9709\n",
            "Epoch 132/250\n",
            "2344/2344 [==============================] - 7s 3ms/step - loss: 0.0789 - acc: 0.9725 - val_loss: 0.0861 - val_acc: 0.9705\n",
            "Epoch 133/250\n",
            "2344/2344 [==============================] - 6s 3ms/step - loss: 0.0788 - acc: 0.9727 - val_loss: 0.0866 - val_acc: 0.9706\n",
            "Epoch 134/250\n",
            "2344/2344 [==============================] - 7s 3ms/step - loss: 0.0799 - acc: 0.9721 - val_loss: 0.0871 - val_acc: 0.9709\n",
            "Epoch 135/250\n",
            "2344/2344 [==============================] - 6s 3ms/step - loss: 0.0788 - acc: 0.9726 - val_loss: 0.0858 - val_acc: 0.9709\n",
            "Epoch 136/250\n",
            "2344/2344 [==============================] - 7s 3ms/step - loss: 0.0789 - acc: 0.9726 - val_loss: 0.0854 - val_acc: 0.9712\n",
            "Epoch 137/250\n",
            "2344/2344 [==============================] - 6s 3ms/step - loss: 0.0794 - acc: 0.9723 - val_loss: 0.0855 - val_acc: 0.9708\n",
            "Epoch 138/250\n",
            "2344/2344 [==============================] - 7s 3ms/step - loss: 0.0790 - acc: 0.9725 - val_loss: 0.0860 - val_acc: 0.9703\n",
            "Epoch 139/250\n",
            "2344/2344 [==============================] - 6s 3ms/step - loss: 0.0789 - acc: 0.9726 - val_loss: 0.0846 - val_acc: 0.9705\n",
            "Epoch 140/250\n",
            "2344/2344 [==============================] - 7s 3ms/step - loss: 0.0789 - acc: 0.9725 - val_loss: 0.0881 - val_acc: 0.9706\n",
            "Epoch 141/250\n",
            "2344/2344 [==============================] - 6s 3ms/step - loss: 0.0786 - acc: 0.9728 - val_loss: 0.0902 - val_acc: 0.9680\n",
            "Epoch 142/250\n",
            "2344/2344 [==============================] - 7s 3ms/step - loss: 0.0804 - acc: 0.9719 - val_loss: 0.0870 - val_acc: 0.9709\n",
            "Epoch 143/250\n",
            "2344/2344 [==============================] - 6s 3ms/step - loss: 0.0784 - acc: 0.9728 - val_loss: 0.0882 - val_acc: 0.9708\n",
            "Epoch 144/250\n",
            "2344/2344 [==============================] - 7s 3ms/step - loss: 0.0786 - acc: 0.9726 - val_loss: 0.0848 - val_acc: 0.9708\n",
            "Epoch 145/250\n",
            "2344/2344 [==============================] - 6s 3ms/step - loss: 0.0790 - acc: 0.9726 - val_loss: 0.0850 - val_acc: 0.9708\n",
            "Epoch 146/250\n",
            "2344/2344 [==============================] - 7s 3ms/step - loss: 0.0787 - acc: 0.9728 - val_loss: 0.0865 - val_acc: 0.9706\n",
            "Epoch 147/250\n",
            "2344/2344 [==============================] - 6s 3ms/step - loss: 0.0784 - acc: 0.9727 - val_loss: 0.0848 - val_acc: 0.9706\n",
            "Epoch 148/250\n",
            "2344/2344 [==============================] - 7s 3ms/step - loss: 0.0787 - acc: 0.9728 - val_loss: 0.0846 - val_acc: 0.9708\n",
            "Epoch 149/250\n",
            "2344/2344 [==============================] - 8s 3ms/step - loss: 0.0799 - acc: 0.9718 - val_loss: 0.0978 - val_acc: 0.9637\n",
            "Epoch 150/250\n",
            "2344/2344 [==============================] - 7s 3ms/step - loss: 0.0792 - acc: 0.9722 - val_loss: 0.0874 - val_acc: 0.9708\n",
            "Epoch 151/250\n",
            "2344/2344 [==============================] - 7s 3ms/step - loss: 0.0791 - acc: 0.9726 - val_loss: 0.0852 - val_acc: 0.9705\n",
            "Epoch 152/250\n",
            "2344/2344 [==============================] - 6s 3ms/step - loss: 0.0784 - acc: 0.9728 - val_loss: 0.0841 - val_acc: 0.9709\n",
            "Epoch 153/250\n",
            "2344/2344 [==============================] - 7s 3ms/step - loss: 0.0800 - acc: 0.9722 - val_loss: 0.0861 - val_acc: 0.9708\n",
            "Epoch 154/250\n",
            "2344/2344 [==============================] - 6s 3ms/step - loss: 0.0783 - acc: 0.9728 - val_loss: 0.0863 - val_acc: 0.9707\n",
            "Epoch 155/250\n",
            "2344/2344 [==============================] - 7s 3ms/step - loss: 0.0792 - acc: 0.9724 - val_loss: 0.0877 - val_acc: 0.9705\n",
            "Epoch 156/250\n",
            "2344/2344 [==============================] - 6s 3ms/step - loss: 0.0788 - acc: 0.9730 - val_loss: 0.0858 - val_acc: 0.9708\n",
            "Epoch 157/250\n",
            "2344/2344 [==============================] - 7s 3ms/step - loss: 0.0785 - acc: 0.9727 - val_loss: 0.0866 - val_acc: 0.9706\n",
            "Epoch 158/250\n",
            "2344/2344 [==============================] - 6s 3ms/step - loss: 0.0781 - acc: 0.9728 - val_loss: 0.0862 - val_acc: 0.9707\n",
            "Epoch 159/250\n",
            "2344/2344 [==============================] - 7s 3ms/step - loss: 0.0783 - acc: 0.9727 - val_loss: 0.0967 - val_acc: 0.9670\n",
            "Epoch 160/250\n",
            "2344/2344 [==============================] - 6s 3ms/step - loss: 0.0790 - acc: 0.9723 - val_loss: 0.0861 - val_acc: 0.9707\n",
            "Epoch 161/250\n",
            "2344/2344 [==============================] - 9s 4ms/step - loss: 0.0780 - acc: 0.9730 - val_loss: 0.0888 - val_acc: 0.9708\n",
            "Epoch 162/250\n",
            "2344/2344 [==============================] - 6s 3ms/step - loss: 0.0791 - acc: 0.9725 - val_loss: 0.0879 - val_acc: 0.9702\n",
            "Epoch 163/250\n",
            "2344/2344 [==============================] - 7s 3ms/step - loss: 0.0784 - acc: 0.9728 - val_loss: 0.0864 - val_acc: 0.9706\n",
            "Epoch 164/250\n",
            "2344/2344 [==============================] - 7s 3ms/step - loss: 0.0787 - acc: 0.9725 - val_loss: 0.0866 - val_acc: 0.9708\n",
            "Epoch 165/250\n",
            "2344/2344 [==============================] - 8s 3ms/step - loss: 0.0778 - acc: 0.9729 - val_loss: 0.0852 - val_acc: 0.9705\n",
            "Epoch 166/250\n",
            "2344/2344 [==============================] - 8s 3ms/step - loss: 0.0789 - acc: 0.9725 - val_loss: 0.0873 - val_acc: 0.9708\n",
            "Epoch 167/250\n",
            "2344/2344 [==============================] - 7s 3ms/step - loss: 0.0783 - acc: 0.9730 - val_loss: 0.0863 - val_acc: 0.9705\n",
            "Epoch 168/250\n",
            "2344/2344 [==============================] - 8s 4ms/step - loss: 0.0782 - acc: 0.9730 - val_loss: 0.0942 - val_acc: 0.9673\n",
            "Epoch 169/250\n",
            "2344/2344 [==============================] - 10s 4ms/step - loss: 0.0786 - acc: 0.9727 - val_loss: 0.0856 - val_acc: 0.9708\n",
            "Epoch 170/250\n",
            "2344/2344 [==============================] - 7s 3ms/step - loss: 0.0784 - acc: 0.9728 - val_loss: 0.0867 - val_acc: 0.9707\n",
            "Epoch 171/250\n",
            "2344/2344 [==============================] - 8s 3ms/step - loss: 0.0785 - acc: 0.9728 - val_loss: 0.0864 - val_acc: 0.9707\n",
            "Epoch 172/250\n",
            "2344/2344 [==============================] - 7s 3ms/step - loss: 0.0784 - acc: 0.9729 - val_loss: 0.0899 - val_acc: 0.9702\n",
            "Epoch 173/250\n",
            "2344/2344 [==============================] - 7s 3ms/step - loss: 0.0783 - acc: 0.9728 - val_loss: 0.0860 - val_acc: 0.9700\n",
            "Epoch 174/250\n",
            "2344/2344 [==============================] - 6s 3ms/step - loss: 0.0784 - acc: 0.9728 - val_loss: 0.0874 - val_acc: 0.9706\n",
            "Epoch 175/250\n",
            "2344/2344 [==============================] - 7s 3ms/step - loss: 0.0784 - acc: 0.9728 - val_loss: 0.0858 - val_acc: 0.9707\n",
            "Epoch 176/250\n",
            "2344/2344 [==============================] - 6s 3ms/step - loss: 0.0779 - acc: 0.9727 - val_loss: 0.0890 - val_acc: 0.9703\n",
            "Epoch 177/250\n",
            "2344/2344 [==============================] - 8s 3ms/step - loss: 0.0781 - acc: 0.9729 - val_loss: 0.0849 - val_acc: 0.9708\n",
            "Epoch 178/250\n",
            "2344/2344 [==============================] - 6s 3ms/step - loss: 0.0783 - acc: 0.9728 - val_loss: 0.0873 - val_acc: 0.9709\n",
            "Epoch 179/250\n",
            "2344/2344 [==============================] - 7s 3ms/step - loss: 0.0782 - acc: 0.9727 - val_loss: 0.0877 - val_acc: 0.9705\n",
            "Epoch 180/250\n",
            "2344/2344 [==============================] - 6s 3ms/step - loss: 0.0780 - acc: 0.9728 - val_loss: 0.0868 - val_acc: 0.9705\n",
            "Epoch 181/250\n",
            "2344/2344 [==============================] - 7s 3ms/step - loss: 0.0785 - acc: 0.9728 - val_loss: 0.0865 - val_acc: 0.9706\n",
            "Epoch 182/250\n",
            "2344/2344 [==============================] - 8s 3ms/step - loss: 0.0778 - acc: 0.9729 - val_loss: 0.0880 - val_acc: 0.9701\n",
            "Epoch 183/250\n",
            "2344/2344 [==============================] - 6s 3ms/step - loss: 0.0780 - acc: 0.9728 - val_loss: 0.0855 - val_acc: 0.9706\n",
            "Epoch 184/250\n",
            "2344/2344 [==============================] - 7s 3ms/step - loss: 0.0779 - acc: 0.9728 - val_loss: 0.0851 - val_acc: 0.9708\n",
            "Epoch 185/250\n",
            "2344/2344 [==============================] - 6s 3ms/step - loss: 0.0780 - acc: 0.9730 - val_loss: 0.0852 - val_acc: 0.9706\n",
            "Epoch 186/250\n",
            "2344/2344 [==============================] - 7s 3ms/step - loss: 0.0780 - acc: 0.9729 - val_loss: 0.0885 - val_acc: 0.9705\n",
            "Epoch 187/250\n",
            "2344/2344 [==============================] - 6s 3ms/step - loss: 0.0783 - acc: 0.9728 - val_loss: 0.0867 - val_acc: 0.9702\n",
            "Epoch 188/250\n",
            "2344/2344 [==============================] - 7s 3ms/step - loss: 0.0779 - acc: 0.9729 - val_loss: 0.0847 - val_acc: 0.9708\n",
            "Epoch 189/250\n",
            "2344/2344 [==============================] - 6s 3ms/step - loss: 0.0778 - acc: 0.9729 - val_loss: 0.0871 - val_acc: 0.9708\n",
            "Epoch 190/250\n",
            "2344/2344 [==============================] - 7s 3ms/step - loss: 0.0781 - acc: 0.9729 - val_loss: 0.0850 - val_acc: 0.9708\n",
            "Epoch 191/250\n",
            "2344/2344 [==============================] - 6s 3ms/step - loss: 0.0777 - acc: 0.9730 - val_loss: 0.0862 - val_acc: 0.9704\n",
            "Epoch 192/250\n",
            "2344/2344 [==============================] - 7s 3ms/step - loss: 0.0777 - acc: 0.9730 - val_loss: 0.0934 - val_acc: 0.9669\n",
            "Epoch 193/250\n",
            "2344/2344 [==============================] - 6s 3ms/step - loss: 0.0782 - acc: 0.9727 - val_loss: 0.0854 - val_acc: 0.9709\n",
            "Epoch 194/250\n",
            "2344/2344 [==============================] - 7s 3ms/step - loss: 0.0787 - acc: 0.9727 - val_loss: 0.0865 - val_acc: 0.9706\n",
            "Epoch 195/250\n",
            "2344/2344 [==============================] - 7s 3ms/step - loss: 0.0777 - acc: 0.9731 - val_loss: 0.0863 - val_acc: 0.9710\n",
            "Epoch 196/250\n",
            "2344/2344 [==============================] - 7s 3ms/step - loss: 0.0785 - acc: 0.9727 - val_loss: 0.0861 - val_acc: 0.9697\n",
            "Epoch 197/250\n",
            "2344/2344 [==============================] - 6s 3ms/step - loss: 0.0776 - acc: 0.9731 - val_loss: 0.0866 - val_acc: 0.9709\n",
            "Epoch 198/250\n",
            "2344/2344 [==============================] - 7s 3ms/step - loss: 0.0781 - acc: 0.9730 - val_loss: 0.0860 - val_acc: 0.9705\n",
            "Epoch 199/250\n",
            "2344/2344 [==============================] - 6s 3ms/step - loss: 0.0774 - acc: 0.9730 - val_loss: 0.0884 - val_acc: 0.9700\n",
            "Epoch 200/250\n",
            "2344/2344 [==============================] - 7s 3ms/step - loss: 0.0776 - acc: 0.9730 - val_loss: 0.0870 - val_acc: 0.9706\n",
            "Epoch 201/250\n",
            "2344/2344 [==============================] - 6s 3ms/step - loss: 0.0775 - acc: 0.9731 - val_loss: 0.0872 - val_acc: 0.9704\n",
            "Epoch 202/250\n",
            "2344/2344 [==============================] - 7s 3ms/step - loss: 0.0776 - acc: 0.9731 - val_loss: 0.0888 - val_acc: 0.9698\n",
            "Epoch 203/250\n",
            "2344/2344 [==============================] - 6s 3ms/step - loss: 0.0774 - acc: 0.9730 - val_loss: 0.0871 - val_acc: 0.9698\n",
            "Epoch 204/250\n",
            "2344/2344 [==============================] - 7s 3ms/step - loss: 0.0773 - acc: 0.9730 - val_loss: 0.0866 - val_acc: 0.9702\n",
            "Epoch 205/250\n",
            "2344/2344 [==============================] - 6s 3ms/step - loss: 0.0775 - acc: 0.9730 - val_loss: 0.0894 - val_acc: 0.9706\n",
            "Epoch 206/250\n",
            "2344/2344 [==============================] - 7s 3ms/step - loss: 0.0777 - acc: 0.9732 - val_loss: 0.0854 - val_acc: 0.9709\n",
            "Epoch 207/250\n",
            "2344/2344 [==============================] - 6s 3ms/step - loss: 0.0776 - acc: 0.9731 - val_loss: 0.0888 - val_acc: 0.9699\n",
            "Epoch 208/250\n",
            "2344/2344 [==============================] - 7s 3ms/step - loss: 0.0779 - acc: 0.9731 - val_loss: 0.0873 - val_acc: 0.9706\n",
            "Epoch 209/250\n",
            "2344/2344 [==============================] - 8s 3ms/step - loss: 0.0777 - acc: 0.9730 - val_loss: 0.0856 - val_acc: 0.9700\n",
            "Epoch 210/250\n",
            "2344/2344 [==============================] - 7s 3ms/step - loss: 0.0776 - acc: 0.9731 - val_loss: 0.0851 - val_acc: 0.9710\n",
            "Epoch 211/250\n",
            "2344/2344 [==============================] - 8s 3ms/step - loss: 0.0777 - acc: 0.9729 - val_loss: 0.0870 - val_acc: 0.9703\n",
            "Epoch 212/250\n",
            "2344/2344 [==============================] - 7s 3ms/step - loss: 0.0774 - acc: 0.9730 - val_loss: 0.0859 - val_acc: 0.9708\n",
            "Epoch 213/250\n",
            "2344/2344 [==============================] - 8s 4ms/step - loss: 0.0776 - acc: 0.9728 - val_loss: 0.0918 - val_acc: 0.9681\n",
            "Epoch 214/250\n",
            "2344/2344 [==============================] - 8s 3ms/step - loss: 0.0773 - acc: 0.9731 - val_loss: 0.0871 - val_acc: 0.9707\n",
            "Epoch 215/250\n",
            "2344/2344 [==============================] - 7s 3ms/step - loss: 0.0784 - acc: 0.9727 - val_loss: 0.0934 - val_acc: 0.9669\n",
            "Epoch 216/250\n",
            "2344/2344 [==============================] - 7s 3ms/step - loss: 0.0777 - acc: 0.9730 - val_loss: 0.0878 - val_acc: 0.9699\n",
            "Epoch 217/250\n",
            "2344/2344 [==============================] - 6s 3ms/step - loss: 0.0777 - acc: 0.9730 - val_loss: 0.0867 - val_acc: 0.9707\n",
            "Epoch 218/250\n",
            "2344/2344 [==============================] - 7s 3ms/step - loss: 0.0773 - acc: 0.9731 - val_loss: 0.0869 - val_acc: 0.9704\n",
            "Epoch 219/250\n",
            "2344/2344 [==============================] - 6s 3ms/step - loss: 0.0776 - acc: 0.9729 - val_loss: 0.0857 - val_acc: 0.9709\n",
            "Epoch 220/250\n",
            "2344/2344 [==============================] - 7s 3ms/step - loss: 0.0780 - acc: 0.9730 - val_loss: 0.0895 - val_acc: 0.9703\n",
            "Epoch 221/250\n",
            "2344/2344 [==============================] - 6s 3ms/step - loss: 0.0772 - acc: 0.9731 - val_loss: 0.0885 - val_acc: 0.9705\n",
            "Epoch 222/250\n",
            "2344/2344 [==============================] - 7s 3ms/step - loss: 0.0773 - acc: 0.9733 - val_loss: 0.0850 - val_acc: 0.9708\n",
            "Epoch 223/250\n",
            "2344/2344 [==============================] - 6s 3ms/step - loss: 0.0771 - acc: 0.9734 - val_loss: 0.0867 - val_acc: 0.9706\n",
            "Epoch 224/250\n",
            "2344/2344 [==============================] - 7s 3ms/step - loss: 0.0770 - acc: 0.9733 - val_loss: 0.0859 - val_acc: 0.9706\n",
            "Epoch 225/250\n",
            "2344/2344 [==============================] - 7s 3ms/step - loss: 0.0775 - acc: 0.9733 - val_loss: 0.0859 - val_acc: 0.9701\n",
            "Epoch 226/250\n",
            "2344/2344 [==============================] - 7s 3ms/step - loss: 0.0770 - acc: 0.9734 - val_loss: 0.0885 - val_acc: 0.9702\n",
            "Epoch 227/250\n",
            "2344/2344 [==============================] - 6s 3ms/step - loss: 0.0769 - acc: 0.9733 - val_loss: 0.0875 - val_acc: 0.9705\n",
            "Epoch 228/250\n",
            "2344/2344 [==============================] - 8s 3ms/step - loss: 0.0771 - acc: 0.9733 - val_loss: 0.0902 - val_acc: 0.9702\n",
            "Epoch 229/250\n",
            "2344/2344 [==============================] - 6s 3ms/step - loss: 0.0771 - acc: 0.9733 - val_loss: 0.0887 - val_acc: 0.9700\n",
            "Epoch 230/250\n",
            "2344/2344 [==============================] - 8s 4ms/step - loss: 0.0772 - acc: 0.9734 - val_loss: 0.0861 - val_acc: 0.9704\n",
            "Epoch 231/250\n",
            "2344/2344 [==============================] - 7s 3ms/step - loss: 0.0775 - acc: 0.9731 - val_loss: 0.0864 - val_acc: 0.9706\n",
            "Epoch 232/250\n",
            "2344/2344 [==============================] - 6s 3ms/step - loss: 0.0772 - acc: 0.9733 - val_loss: 0.0866 - val_acc: 0.9705\n",
            "Epoch 233/250\n",
            "2344/2344 [==============================] - 7s 3ms/step - loss: 0.0770 - acc: 0.9733 - val_loss: 0.0861 - val_acc: 0.9704\n",
            "Epoch 234/250\n",
            "2344/2344 [==============================] - 6s 3ms/step - loss: 0.0768 - acc: 0.9735 - val_loss: 0.0867 - val_acc: 0.9704\n",
            "Epoch 235/250\n",
            "2344/2344 [==============================] - 7s 3ms/step - loss: 0.0769 - acc: 0.9734 - val_loss: 0.0881 - val_acc: 0.9700\n",
            "Epoch 236/250\n",
            "2344/2344 [==============================] - 6s 3ms/step - loss: 0.0767 - acc: 0.9734 - val_loss: 0.0900 - val_acc: 0.9704\n",
            "Epoch 237/250\n",
            "2344/2344 [==============================] - 8s 3ms/step - loss: 0.0768 - acc: 0.9734 - val_loss: 0.0888 - val_acc: 0.9701\n",
            "Epoch 238/250\n",
            "2344/2344 [==============================] - 6s 3ms/step - loss: 0.0770 - acc: 0.9734 - val_loss: 0.0871 - val_acc: 0.9705\n",
            "Epoch 239/250\n",
            "2344/2344 [==============================] - 7s 3ms/step - loss: 0.0764 - acc: 0.9735 - val_loss: 0.0890 - val_acc: 0.9708\n",
            "Epoch 240/250\n",
            "2344/2344 [==============================] - 6s 3ms/step - loss: 0.0771 - acc: 0.9734 - val_loss: 0.0875 - val_acc: 0.9698\n",
            "Epoch 241/250\n",
            "2344/2344 [==============================] - 7s 3ms/step - loss: 0.0771 - acc: 0.9732 - val_loss: 0.0875 - val_acc: 0.9702\n",
            "Epoch 242/250\n",
            "2344/2344 [==============================] - 7s 3ms/step - loss: 0.0768 - acc: 0.9732 - val_loss: 0.0887 - val_acc: 0.9703\n",
            "Epoch 243/250\n",
            "2344/2344 [==============================] - 8s 3ms/step - loss: 0.0771 - acc: 0.9731 - val_loss: 0.0871 - val_acc: 0.9705\n",
            "Epoch 244/250\n",
            "2344/2344 [==============================] - 7s 3ms/step - loss: 0.0762 - acc: 0.9735 - val_loss: 0.0896 - val_acc: 0.9697\n",
            "Epoch 245/250\n",
            "2344/2344 [==============================] - 7s 3ms/step - loss: 0.0773 - acc: 0.9733 - val_loss: 0.0860 - val_acc: 0.9703\n",
            "Epoch 246/250\n",
            "2344/2344 [==============================] - 8s 3ms/step - loss: 0.0770 - acc: 0.9733 - val_loss: 0.0872 - val_acc: 0.9706\n",
            "Epoch 247/250\n",
            "2344/2344 [==============================] - 6s 3ms/step - loss: 0.0769 - acc: 0.9735 - val_loss: 0.0933 - val_acc: 0.9683\n",
            "Epoch 248/250\n",
            "2344/2344 [==============================] - 7s 3ms/step - loss: 0.0768 - acc: 0.9735 - val_loss: 0.0884 - val_acc: 0.9700\n",
            "Epoch 249/250\n",
            "2344/2344 [==============================] - 6s 3ms/step - loss: 0.0765 - acc: 0.9736 - val_loss: 0.0879 - val_acc: 0.9698\n",
            "Epoch 250/250\n",
            "2344/2344 [==============================] - 7s 3ms/step - loss: 0.0762 - acc: 0.9734 - val_loss: 0.0871 - val_acc: 0.9693\n"
          ]
        },
        {
          "output_type": "execute_result",
          "data": {
            "text/plain": [
              "<Figure size 1200x400 with 0 Axes>"
            ]
          },
          "metadata": {},
          "execution_count": 28
        },
        {
          "output_type": "execute_result",
          "data": {
            "text/plain": [
              "<Axes: >"
            ]
          },
          "metadata": {},
          "execution_count": 28
        },
        {
          "output_type": "execute_result",
          "data": {
            "text/plain": [
              "[<matplotlib.lines.Line2D at 0x7dac4c53c490>]"
            ]
          },
          "metadata": {},
          "execution_count": 28
        },
        {
          "output_type": "execute_result",
          "data": {
            "text/plain": [
              "[<matplotlib.lines.Line2D at 0x7dac4c53c640>]"
            ]
          },
          "metadata": {},
          "execution_count": 28
        },
        {
          "output_type": "execute_result",
          "data": {
            "text/plain": [
              "Text(0.5, 0, 'Epoch')"
            ]
          },
          "metadata": {},
          "execution_count": 28
        },
        {
          "output_type": "execute_result",
          "data": {
            "text/plain": [
              "Text(0, 0.5, 'Loss')"
            ]
          },
          "metadata": {},
          "execution_count": 28
        },
        {
          "output_type": "execute_result",
          "data": {
            "text/plain": [
              "Text(0.5, 1.0, 'Loss Over Epochs')"
            ]
          },
          "metadata": {},
          "execution_count": 28
        },
        {
          "output_type": "execute_result",
          "data": {
            "text/plain": [
              "<matplotlib.legend.Legend at 0x7dac4c4ffd30>"
            ]
          },
          "metadata": {},
          "execution_count": 28
        },
        {
          "output_type": "execute_result",
          "data": {
            "text/plain": [
              "<Axes: >"
            ]
          },
          "metadata": {},
          "execution_count": 28
        },
        {
          "output_type": "execute_result",
          "data": {
            "text/plain": [
              "[<matplotlib.lines.Line2D at 0x7dac4c59d7b0>]"
            ]
          },
          "metadata": {},
          "execution_count": 28
        },
        {
          "output_type": "execute_result",
          "data": {
            "text/plain": [
              "[<matplotlib.lines.Line2D at 0x7dac4c59e9b0>]"
            ]
          },
          "metadata": {},
          "execution_count": 28
        },
        {
          "output_type": "execute_result",
          "data": {
            "text/plain": [
              "Text(0.5, 0, 'Epoch')"
            ]
          },
          "metadata": {},
          "execution_count": 28
        },
        {
          "output_type": "execute_result",
          "data": {
            "text/plain": [
              "Text(0, 0.5, 'Accuracy')"
            ]
          },
          "metadata": {},
          "execution_count": 28
        },
        {
          "output_type": "execute_result",
          "data": {
            "text/plain": [
              "Text(0.5, 1.0, 'Accuracy Over Epochs')"
            ]
          },
          "metadata": {},
          "execution_count": 28
        },
        {
          "output_type": "execute_result",
          "data": {
            "text/plain": [
              "<matplotlib.legend.Legend at 0x7dac4c4ff520>"
            ]
          },
          "metadata": {},
          "execution_count": 28
        },
        {
          "output_type": "display_data",
          "data": {
            "text/plain": [
              "<Figure size 1200x400 with 2 Axes>"
            ],
            "image/png": "[encoded data removed]"
          },
          "metadata": {}
        }
      ]
    },
    {
      "cell_type": "markdown",
      "source": [
        "## Making Predictions:"
      ],
      "metadata": {
        "id": "rtQp4xT3Mg3v"
      }
    },
    {
      "cell_type": "code",
      "source": [
        "pred = model.predict(X_test)"
      ],
      "metadata": {
        "colab": {
          "base_uri": "https://localhost:8080/"
        },
        "id": "pLTrrrSm5wFE",
        "outputId": "64826f13-8fa6-4c3c-ae41-cc8fceb4f2c5"
      },
      "execution_count": 30,
      "outputs": [
        {
          "output_type": "stream",
          "name": "stdout",
          "text": [
            "782/782 [==============================] - 4s 5ms/step\n"
          ]
        }
      ]
    },
    {
      "cell_type": "code",
      "source": [
        "pred"
      ],
      "metadata": {
        "colab": {
          "base_uri": "https://localhost:8080/"
        },
        "id": "XjiPyV87JmUX",
        "outputId": "50c409e8-5bee-4d36-c804-9210a4e37b8a"
      },
      "execution_count": 31,
      "outputs": [
        {
          "output_type": "execute_result",
          "data": {
            "text/plain": [
              "array([[2.1538312e-04],\n",
              "       [2.0831671e-01],\n",
              "       [6.4465638e-32],\n",
              "       ...,\n",
              "       [5.7742506e-02],\n",
              "       [2.6017930e-02],\n",
              "       [7.4436469e-03]], dtype=float32)"
            ]
          },
          "metadata": {},
          "execution_count": 31
        }
      ]
    },
    {
      "cell_type": "code",
      "source": [
        "xy=np.round(pred)\n",
        "z=xy.flatten()"
      ],
      "metadata": {
        "id": "n0HJ98KbJpSn"
      },
      "execution_count": 32,
      "outputs": []
    },
    {
      "cell_type": "markdown",
      "source": [
        "## Calculating Accuracy:"
      ],
      "metadata": {
        "id": "iN8eYXG2MmFw"
      }
    },
    {
      "cell_type": "code",
      "source": [
        "(z==y_test).sum()/len(y_test)"
      ],
      "metadata": {
        "colab": {
          "base_uri": "https://localhost:8080/"
        },
        "id": "VLe0j9PNKAWE",
        "outputId": "a0803cb4-fe07-42ab-bbd8-6923d1572a25"
      },
      "execution_count": 33,
      "outputs": [
        {
          "output_type": "execute_result",
          "data": {
            "text/plain": [
              "0.96928"
            ]
          },
          "metadata": {},
          "execution_count": 33
        }
      ]
    },
    {
      "cell_type": "code",
      "source": [
        "y_test.values.reshape(-1,1)"
      ],
      "metadata": {
        "colab": {
          "base_uri": "https://localhost:8080/"
        },
        "id": "Y86XlejIKDR6",
        "outputId": "2139ce93-376d-4dcc-c941-81b28c4b0b1d"
      },
      "execution_count": 34,
      "outputs": [
        {
          "output_type": "execute_result",
          "data": {
            "text/plain": [
              "array([[0],\n",
              "       [0],\n",
              "       [0],\n",
              "       ...,\n",
              "       [0],\n",
              "       [0],\n",
              "       [0]])"
            ]
          },
          "metadata": {},
          "execution_count": 34
        }
      ]
    },
    {
      "cell_type": "code",
      "source": [
        "# Calculate accuracy\n",
        "accuracy = (z == y_test).sum() / len(y_test)\n",
        "\n",
        "# Plotting accuracy\n",
        "plt.figure(figsize=(8, 6))\n",
        "plt.bar(['Accuracy'], [accuracy])\n",
        "plt.ylim(0, 1)\n",
        "plt.title('Model Accuracy')\n",
        "plt.ylabel('Accuracy')\n",
        "plt.show()\n"
      ],
      "metadata": {
        "colab": {
          "base_uri": "https://localhost:8080/",
          "height": 562
        },
        "id": "Yan2c77SKG7M",
        "outputId": "287a9b1e-227b-4e00-e07b-475307304054"
      },
      "execution_count": 35,
      "outputs": [
        {
          "output_type": "execute_result",
          "data": {
            "text/plain": [
              "<Figure size 800x600 with 0 Axes>"
            ]
          },
          "metadata": {},
          "execution_count": 35
        },
        {
          "output_type": "execute_result",
          "data": {
            "text/plain": [
              "<BarContainer object of 1 artists>"
            ]
          },
          "metadata": {},
          "execution_count": 35
        },
        {
          "output_type": "execute_result",
          "data": {
            "text/plain": [
              "(0.0, 1.0)"
            ]
          },
          "metadata": {},
          "execution_count": 35
        },
        {
          "output_type": "execute_result",
          "data": {
            "text/plain": [
              "Text(0.5, 1.0, 'Model Accuracy')"
            ]
          },
          "metadata": {},
          "execution_count": 35
        },
        {
          "output_type": "execute_result",
          "data": {
            "text/plain": [
              "Text(0, 0.5, 'Accuracy')"
            ]
          },
          "metadata": {},
          "execution_count": 35
        },
        {
          "output_type": "display_data",
          "data": {
            "text/plain": [
              "<Figure size 800x600 with 1 Axes>"
            ],
            "image/png": "[encoded data removed]"
          },
          "metadata": {}
        }
      ]
    },
    {
      "cell_type": "code",
      "source": [
        "from sklearn.metrics import roc_curve, auc\n",
        "\n",
        "fpr, tpr, thresholds = roc_curve(y_test, pred)\n",
        "roc_auc = auc(fpr, tpr)\n",
        "\n",
        "plt.figure(figsize=(6, 6))\n",
        "plt.plot(fpr, tpr, color='darkorange', lw=2, label='ROC curve (area = %0.2f)' % roc_auc)\n",
        "plt.plot([0, 1], [0, 1], color='navy', lw=2, linestyle='--')\n",
        "plt.xlim([0.0, 1.0])\n",
        "plt.ylim([0.0, 1.05])\n",
        "plt.xlabel('False Positive Rate')\n",
        "plt.ylabel('True Positive Rate')\n",
        "plt.title('Receiver Operating Characteristic')\n",
        "plt.legend(loc='lower right')\n",
        "plt.show()\n"
      ],
      "metadata": {
        "colab": {
          "base_uri": "https://localhost:8080/",
          "height": 599
        },
        "id": "JmDiAQVKM0Q2",
        "outputId": "1f875922-6c93-42e6-bc0a-68e0e28c2fdd"
      },
      "execution_count": 36,
      "outputs": [
        {
          "output_type": "execute_result",
          "data": {
            "text/plain": [
              "<Figure size 600x600 with 0 Axes>"
            ]
          },
          "metadata": {},
          "execution_count": 36
        },
        {
          "output_type": "execute_result",
          "data": {
            "text/plain": [
              "[<matplotlib.lines.Line2D at 0x7dac44288220>]"
            ]
          },
          "metadata": {},
          "execution_count": 36
        },
        {
          "output_type": "execute_result",
          "data": {
            "text/plain": [
              "[<matplotlib.lines.Line2D at 0x7dac44288580>]"
            ]
          },
          "metadata": {},
          "execution_count": 36
        },
        {
          "output_type": "execute_result",
          "data": {
            "text/plain": [
              "(0.0, 1.0)"
            ]
          },
          "metadata": {},
          "execution_count": 36
        },
        {
          "output_type": "execute_result",
          "data": {
            "text/plain": [
              "(0.0, 1.05)"
            ]
          },
          "metadata": {},
          "execution_count": 36
        },
        {
          "output_type": "execute_result",
          "data": {
            "text/plain": [
              "Text(0.5, 0, 'False Positive Rate')"
            ]
          },
          "metadata": {},
          "execution_count": 36
        },
        {
          "output_type": "execute_result",
          "data": {
            "text/plain": [
              "Text(0, 0.5, 'True Positive Rate')"
            ]
          },
          "metadata": {},
          "execution_count": 36
        },
        {
          "output_type": "execute_result",
          "data": {
            "text/plain": [
              "Text(0.5, 1.0, 'Receiver Operating Characteristic')"
            ]
          },
          "metadata": {},
          "execution_count": 36
        },
        {
          "output_type": "execute_result",
          "data": {
            "text/plain": [
              "<matplotlib.legend.Legend at 0x7dac442698a0>"
            ]
          },
          "metadata": {},
          "execution_count": 36
        },
        {
          "output_type": "display_data",
          "data": {
            "text/plain": [
              "<Figure size 600x600 with 1 Axes>"
            ],
            "image/png": "[encoded data removed]"
          },
          "metadata": {}
        }
      ]
    },
    {
      "cell_type": "code",
      "source": [
        "from sklearn.metrics import confusion_matrix\n",
        "import seaborn as sns\n",
        "\n",
        "cm = confusion_matrix(y_test, z)\n",
        "plt.figure(figsize=(6, 6))\n",
        "sns.heatmap(cm, annot=True, fmt='d', cmap='Blues')\n",
        "plt.title('Confusion Matrix')\n",
        "plt.xlabel('Predicted')\n",
        "plt.ylabel('Actual')\n",
        "plt.show()\n"
      ],
      "metadata": {
        "colab": {
          "base_uri": "https://localhost:8080/",
          "height": 581
        },
        "id": "6YkFdYDiSXfS",
        "outputId": "049dc4e9-deec-4b22-c1cc-f93aa2aa1476"
      },
      "execution_count": 37,
      "outputs": [
        {
          "output_type": "execute_result",
          "data": {
            "text/plain": [
              "<Figure size 600x600 with 0 Axes>"
            ]
          },
          "metadata": {},
          "execution_count": 37
        },
        {
          "output_type": "execute_result",
          "data": {
            "text/plain": [
              "<Axes: >"
            ]
          },
          "metadata": {},
          "execution_count": 37
        },
        {
          "output_type": "execute_result",
          "data": {
            "text/plain": [
              "Text(0.5, 1.0, 'Confusion Matrix')"
            ]
          },
          "metadata": {},
          "execution_count": 37
        },
        {
          "output_type": "execute_result",
          "data": {
            "text/plain": [
              "Text(0.5, 36.72222222222221, 'Predicted')"
            ]
          },
          "metadata": {},
          "execution_count": 37
        },
        {
          "output_type": "execute_result",
          "data": {
            "text/plain": [
              "Text(45.722222222222214, 0.5, 'Actual')"
            ]
          },
          "metadata": {},
          "execution_count": 37
        },
        {
          "output_type": "display_data",
          "data": {
            "text/plain": [
              "<Figure size 600x600 with 2 Axes>"
            ],
            "image/png": "[encoded data removed]"
          },
          "metadata": {}
        }
      ]
    },
    {
      "cell_type": "code",
      "source": [
        "pip install shap\n"
      ],
      "metadata": {
        "colab": {
          "base_uri": "https://localhost:8080/"
        },
        "id": "8DwR5cG0VTEs",
        "outputId": "4ac2340a-d9fb-4a34-cd81-64d31770a5f6"
      },
      "execution_count": 38,
      "outputs": [
        {
          "output_type": "stream",
          "name": "stdout",
          "text": [
            "Collecting shap\n",
            "  Downloading shap-0.42.1-cp310-cp310-manylinux_2_12_x86_64.manylinux2010_x86_64.manylinux_2_17_x86_64.manylinux2014_x86_64.whl (547 kB)\n",
            "\u001b[2K     \u001b[90m━━━━━━━━━━━━━━━━━━━━━━━━━━━━━━━━━━━━━━━\u001b[0m \u001b[32m547.9/547.9 kB\u001b[0m \u001b[31m3.2 MB/s\u001b[0m eta \u001b[36m0:00:00\u001b[0m\n",
            "\u001b[?25hRequirement already satisfied: numpy in /usr/local/lib/python3.10/dist-packages (from shap) (1.23.5)\n",
            "Requirement already satisfied: scipy in /usr/local/lib/python3.10/dist-packages (from shap) (1.10.1)\n",
            "Requirement already satisfied: scikit-learn in /usr/local/lib/python3.10/dist-packages (from shap) (1.2.2)\n",
            "Requirement already satisfied: pandas in /usr/local/lib/python3.10/dist-packages (from shap) (1.5.3)\n",
            "Requirement already satisfied: tqdm>=4.27.0 in /usr/local/lib/python3.10/dist-packages (from shap) (4.66.1)\n",
            "Requirement already satisfied: packaging>20.9 in /usr/local/lib/python3.10/dist-packages (from shap) (23.1)\n",
            "Collecting slicer==0.0.7 (from shap)\n",
            "  Downloading slicer-0.0.7-py3-none-any.whl (14 kB)\n",
            "Requirement already satisfied: numba in /usr/local/lib/python3.10/dist-packages (from shap) (0.56.4)\n",
            "Requirement already satisfied: cloudpickle in /usr/local/lib/python3.10/dist-packages (from shap) (2.2.1)\n",
            "Requirement already satisfied: llvmlite<0.40,>=0.39.0dev0 in /usr/local/lib/python3.10/dist-packages (from numba->shap) (0.39.1)\n",
            "Requirement already satisfied: setuptools in /usr/local/lib/python3.10/dist-packages (from numba->shap) (67.7.2)\n",
            "Requirement already satisfied: python-dateutil>=2.8.1 in /usr/local/lib/python3.10/dist-packages (from pandas->shap) (2.8.2)\n",
            "Requirement already satisfied: pytz>=2020.1 in /usr/local/lib/python3.10/dist-packages (from pandas->shap) (2023.3)\n",
            "Requirement already satisfied: joblib>=1.1.1 in /usr/local/lib/python3.10/dist-packages (from scikit-learn->shap) (1.3.2)\n",
            "Requirement already satisfied: threadpoolctl>=2.0.0 in /usr/local/lib/python3.10/dist-packages (from scikit-learn->shap) (3.2.0)\n",
            "Requirement already satisfied: six>=1.5 in /usr/local/lib/python3.10/dist-packages (from python-dateutil>=2.8.1->pandas->shap) (1.16.0)\n",
            "Installing collected packages: slicer, shap\n",
            "Successfully installed shap-0.42.1 slicer-0.0.7\n"
          ]
        }
      ]
    },
    {
      "cell_type": "markdown",
      "source": [
        "## Feature importance"
      ],
      "metadata": {
        "id": "T1SE-29CYSJl"
      }
    },
    {
      "cell_type": "code",
      "source": [
        "import shap\n",
        "\n",
        "# Create an explainer for the model\n",
        "explainer = shap.Explainer(model, X_train)\n",
        "\n",
        "# Calculate SHAP values for the entire test set\n",
        "shap_values = explainer(X_test)\n",
        "\n",
        "# Plot feature importance summary\n",
        "shap.summary_plot(shap_values, X_test, feature_names=data.columns, plot_type='bar')\n"
      ],
      "metadata": {
        "colab": {
          "base_uri": "https://localhost:8080/",
          "height": 511
        },
        "id": "2LB1RhicVOYe",
        "outputId": "98c13a3b-3fad-4383-bbfe-fea0504f87ab"
      },
      "execution_count": 39,
      "outputs": [
        {
          "output_type": "stream",
          "name": "stderr",
          "text": [
            "Using `tqdm.autonotebook.tqdm` in notebook mode. Use `tqdm.tqdm` instead to force console mode (e.g. in jupyter console)\n",
            "Exact explainer: 25001it [15:22, 27.10it/s]\n"
          ]
        },
        {
          "output_type": "display_data",
          "data": {
            "text/plain": [
              "<Figure size 800x470 with 1 Axes>"
            ],
            "image/png": "[encoded data removed]"
          },
          "metadata": {}
        }
      ]
    }
  ]
}